{
 "cells": [
  {
   "cell_type": "markdown",
   "id": "fdfd305a",
   "metadata": {},
   "source": [
    "# Visualization of Feature Transformation by a Neural Network\n",
    "\n",
    "Each layer of a fully connected neural network transforms the input feature space into an output one.\n",
    "\n",
    "For synthetic data with two features, the network is trained with one hidden layer, with two or three neurons.<br>\n",
    "The position of the examples in the transformed feature spaces is output."
   ]
  },
  {
   "cell_type": "markdown",
   "id": "7a62d7de",
   "metadata": {},
   "source": [
    "## Toy data (XOR)\n",
    "\n",
    "Consider a two-dimensional feature space. There are objects of two kinds (classification into two classes)."
   ]
  },
  {
   "cell_type": "code",
   "execution_count": 1,
   "id": "0e2e7d55",
   "metadata": {},
   "outputs": [
    {
     "data": {
      "image/png": "[encoded data removed]",
      "text/plain": [
       "<Figure size 288x288 with 1 Axes>"
      ]
     },
     "metadata": {},
     "output_type": "display_data"
    },
    {
     "name": "stdout",
     "output_type": "stream",
     "text": [
      "(100, 2) (100, 1)\n",
      "torch.Size([100, 2]) torch.Size([100, 1])\n"
     ]
    }
   ],
   "source": [
    "import numpy as np\n",
    "import torch\n",
    "import torch.nn as nn\n",
    "import matplotlib.pyplot as plt                             \n",
    "from   torchinfo    import summary \n",
    "\n",
    "num = 25\n",
    "\n",
    "X1 = np.random.normal( [0.2,0.2], 0.1, (num,2)).clip(0,1);  Y1 = np.full((num,1), 0)   \n",
    "X2 = np.random.normal( [0.8,0.2], 0.1, (num,2)).clip(0,1);  Y2 = np.full((num,1), 1)   \n",
    "X3 = np.random.normal( [0.8,0.8], 0.1, (num,2)).clip(0,1);  Y3 = np.full((num,1), 0)   \n",
    "X4 = np.random.normal( [0.2,0.8], 0.1, (num,2)).clip(0,1);  Y4 = np.full((num,1), 1)   \n",
    "X = np.concatenate([X1,X2,X3,X4], axis=0);        Y  = np.concatenate([Y1,Y2,Y3,Y4], axis=0)\n",
    " \n",
    "plt.figure (figsize=(4, 4), facecolor ='w')                                 \n",
    "plt.scatter(X[:,0], X[:,1], c=Y[:,0],  s=20, cmap='bwr')        \n",
    "plt.xlim(0, 1)\n",
    "plt.ylim(0, 1);\n",
    "plt.show()                                                  \n",
    "print(X.shape, Y.shape)\n",
    "\n",
    "X = torch.tensor(X, dtype=torch.float32)\n",
    "Y = torch.tensor(Y.reshape(-1,1), dtype=torch.float32)\n",
    "\n",
    "print(X.shape, Y.shape)"
   ]
  },
  {
   "cell_type": "markdown",
   "id": "334bb807",
   "metadata": {},
   "source": [
    "## Fully connected neural network with any architecture"
   ]
  },
  {
   "cell_type": "code",
   "execution_count": 2,
   "id": "99e6700a",
   "metadata": {},
   "outputs": [],
   "source": [
    "class Model_FC(nn.Module):\n",
    "    def __init__(self, inputs=2, outputs=1, hiddens=[]):   # Add output hidden layers\n",
    "        super(Model_FC, self).__init__()\n",
    "        \n",
    "        self.layers = []\n",
    "        hiddens = [inputs] + hiddens + [outputs]\n",
    "        for i in range(1, len(hiddens)):\n",
    "            self.layers += [\n",
    "                nn.Linear(hiddens[i-1], hiddens[i]), \n",
    "                nn.Sigmoid()\n",
    "            ]\n",
    "        \n",
    "        self.model = nn.Sequential(*self.layers)                 \n",
    " \n",
    "    def forward(self, x):               \n",
    "        return self.model(x)\n",
    "\n",
    "    def get(self, x):\n",
    "        res = []\n",
    "        for layer in self.layers:\n",
    "            x = layer(x)\n",
    "            res.append(x.data.cpu().numpy())\n",
    "        return res"
   ]
  },
  {
   "cell_type": "markdown",
   "id": "c607496e",
   "metadata": {},
   "source": [
    "## Network learning"
   ]
  },
  {
   "cell_type": "code",
   "execution_count": 3,
   "id": "86eb8b5c",
   "metadata": {},
   "outputs": [],
   "source": [
    "def fit(model, X,Y, batch_size=2, train=True):    \n",
    "    batch_size = min(batch_size, len(X))\n",
    "    losses, accs = [], []                                # losses and  accuracies\n",
    "                   \n",
    "    idx = torch.randperm( len(X) )                       # permuted index list\n",
    "    X, Y = X[idx], Y[idx]        \n",
    "    \n",
    "    model.train(train)                                   # important for Dropout, BatchNorm layers    \n",
    "    for i in range(0, len(Y), batch_size):             \n",
    "        nb = min(batch_size,  len(Y)-i)\n",
    "        \n",
    "        xb, yb = X[i: i+nb], Y[i: i+nb]                  # current batch        \n",
    "                   \n",
    "        y = model(xb)                                    # forward propagation        \n",
    "        L = loss(y, yb)                                  # calculate the loss                \n",
    "        \n",
    "        if train:                                        # we are in learning mode\n",
    "            optimizer.zero_grad()                        # reset the gradients        \n",
    "            L.backward()                                 # calculate gradients            \n",
    "            optimizer.step()                             # adjusting parameters\n",
    "                        \n",
    "        losses.append( L.detach().item() )                          \n",
    "        accs.append(  (y.detach().round() == yb).float().mean() )\n",
    "          \n",
    "    return np.mean(losses),  np.mean(accs)              # mean error and accurac"
   ]
  },
  {
   "cell_type": "markdown",
   "id": "ff30325c",
   "metadata": {},
   "source": [
    "## Two new features\n",
    "\n",
    "\n",
    "<img src=\"img/nnet_2-2-1.png\" style=\"width:300px\">"
   ]
  },
  {
   "cell_type": "code",
   "execution_count": 9,
   "id": "dabd9d35",
   "metadata": {},
   "outputs": [
    {
     "name": "stdout",
     "output_type": "stream",
     "text": [
      "epoch:  5000 loss: 0.4506 accuracy: 0.7000"
     ]
    }
   ],
   "source": [
    "model = Model_FC(2,1, [2])\n",
    "\n",
    "loss      = nn.BCELoss()\n",
    "optimizer = torch.optim.Adam(model.parameters(), lr=0.1, weight_decay=1e-3 )\n",
    "\n",
    "epochs = 5000                                            # number of epochs\n",
    "for epoch in range(1,epochs+1):                          \n",
    "    L,A = fit(model, X, Y)                               # one epoch    \n",
    "    if epoch % 100 == 0 or epoch == epochs:                 \n",
    "        print(f'\\repoch: {epoch:5d} loss: {L:.4f} accuracy: {A:.4f}', end=\"\" ) "
   ]
  },
  {
   "cell_type": "markdown",
   "id": "697b0a8b",
   "metadata": {},
   "source": [
    "## Hidden layer visualization"
   ]
  },
  {
   "cell_type": "code",
   "execution_count": 5,
   "id": "bd1f39a5",
   "metadata": {},
   "outputs": [
    {
     "name": "stdout",
     "output_type": "stream",
     "text": [
      "(100, 2)\n",
      "(100, 2)\n",
      "(100, 1)\n",
      "(100, 1)\n",
      "(100, 2) (100,)\n"
     ]
    },
    {
     "data": {
      "image/png": "[encoded data removed]",
      "text/plain": [
       "<Figure size 288x288 with 1 Axes>"
      ]
     },
     "metadata": {},
     "output_type": "display_data"
    },
    {
     "name": "stdout",
     "output_type": "stream",
     "text": [
      "torch.Size([100, 2]) torch.Size([100, 1])\n"
     ]
    }
   ],
   "source": [
    "#print(model)\n",
    "res = model.get(X)\n",
    "for r in res:\n",
    "    print(r.shape)\n",
    "\n",
    "x = res[1]    \n",
    "y = Y.numpy().reshape(-1,)\n",
    "print(x.shape, y.shape)\n",
    "\n",
    "plt.figure (figsize=(4, 4), facecolor ='w')                                 \n",
    "plt.scatter(x[:,0], x[:,1], c=y,  s=20, cmap='bwr')        \n",
    "plt.xlim(0, 1)\n",
    "plt.ylim(0, 1);\n",
    "plt.show()                                                  \n",
    "print(X.shape, Y.shape)    \n"
   ]
  },
  {
   "cell_type": "markdown",
   "id": "ea771194",
   "metadata": {},
   "source": [
    "## Three new Features\n",
    "\n",
    "<img src=\"img/nnet_2-3-1.png\" style=\"width:300px\">"
   ]
  },
  {
   "cell_type": "code",
   "execution_count": null,
   "id": "ef124810",
   "metadata": {},
   "outputs": [],
   "source": [
    "model = Model_FC(2,1, [3])\n",
    "\n",
    "loss      = nn.BCELoss()\n",
    "optimizer = torch.optim.Adam(model.parameters(), lr=0.1, weight_decay=1e-3 )\n",
    "\n",
    "epochs = 5000                                            # number of epochs\n",
    "for epoch in range(1,epochs+1):                          \n",
    "    L,A = fit(model, X, Y)                               # one epoch\n",
    "     \n",
    "    if epoch % 100 == 0 or epoch == epochs:                 \n",
    "        print(f'\\repoch: {epoch:5d} loss: {L:.4f} accuracy: {A:.4f}', end=\"\" ) "
   ]
  },
  {
   "cell_type": "markdown",
   "id": "ca4a0db8",
   "metadata": {},
   "source": [
    "## Hidden layer visualization"
   ]
  },
  {
   "cell_type": "code",
   "execution_count": null,
   "id": "15326502",
   "metadata": {},
   "outputs": [],
   "source": [
    "from mpl_toolkits.mplot3d import Axes3D\n",
    "\n",
    "res = model.get(X)\n",
    "x = res[1]    \n",
    "y = Y.numpy().reshape(-1,)\n",
    "print(x.shape, y.shape)\n",
    "\n",
    "\n",
    "fig = plt.figure (figsize=(8, 8), facecolor ='w')       \n",
    "ax = fig.add_subplot(111, projection='3d')\n",
    "ax.scatter(x[:,0], x[:,1], x[:,2], c=y,  cmap='bwr')    \n",
    "\n",
    "plt.show()                                                  "
   ]
  },
  {
   "cell_type": "markdown",
   "id": "70414f43",
   "metadata": {},
   "source": [
    "## Classification visualization"
   ]
  },
  {
   "cell_type": "code",
   "execution_count": null,
   "id": "925e6c20",
   "metadata": {},
   "outputs": [],
   "source": [
    "X_MIN, X_MAX, X_NUM = 0., 1., 100\n",
    "Y_MIN, Y_MAX, Y_NUM = 0., 1., 100\n",
    "\n",
    "x = np.linspace(X_MIN, X_MAX, X_NUM, dtype=np.float32)\n",
    "y = np.linspace(Y_MIN, Y_MAX, Y_NUM, dtype=np.float32)\n",
    "x, y =  np.meshgrid(x, y)    \n",
    "\n",
    "inp = torch.cat([torch.tensor(x).view(-1,1), torch.tensor(y).view(-1,1)], 1)\n",
    "\n",
    "z  = model(inp).detach().view(X_NUM, Y_NUM).numpy()\n",
    "    \n",
    "plt.figure(figsize=(4,4), facecolor ='w')\n",
    "plt.imshow(z, extent=[X_MIN, X_MAX, Y_MIN, Y_MAX],  origin='lower', cmap='seismic', alpha=0.2)\n",
    "plt.scatter(X.numpy()[:,0], X.numpy()[:,1], c=Y.numpy()[:,0],  s=20, cmap='bwr')        \n",
    "plt.show()"
   ]
  }
 ],
 "metadata": {
  "kernelspec": {
   "display_name": "Python 3 (ipykernel)",
   "language": "python",
   "name": "python3"
  },
  "language_info": {
   "codemirror_mode": {
    "name": "ipython",
    "version": 3
   },
   "file_extension": ".py",
   "mimetype": "text/x-python",
   "name": "python",
   "nbconvert_exporter": "python",
   "pygments_lexer": "ipython3",
   "version": "3.8.10"
  }
 },
 "nbformat": 4,
 "nbformat_minor": 5
}
