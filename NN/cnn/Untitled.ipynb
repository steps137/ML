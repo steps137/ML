{
 "cells": [
  {
   "cell_type": "code",
   "execution_count": null,
   "id": "b3d07a99",
   "metadata": {},
   "outputs": [],
   "source": []
  },
  {
   "cell_type": "code",
   "execution_count": 2,
   "id": "7afb7301",
   "metadata": {},
   "outputs": [],
   "source": [
    "import time\n",
    "import numpy as np\n",
    "import matplotlib.pyplot as plt\n",
    "\n",
    "import torch\n",
    "import torch.nn as nn\n",
    "from torch.utils.data import Dataset, DataLoader\n",
    "from torchvision      import models,  datasets, transforms\n",
    "\n",
    "from torchinfo        import summary  \n",
    "\n",
    "import albumentations as A\n",
    "from albumentations.pytorch import ToTensorV2"
   ]
  },
  {
   "cell_type": "code",
   "execution_count": null,
   "id": "3198cf3a",
   "metadata": {},
   "outputs": [
    {
     "name": "stdout",
     "output_type": "stream",
     "text": [
      "Downloading https://vision.princeton.edu/projects/2010/SUN/SUN397.tar.gz to data\\SUN397.tar.gz\n"
     ]
    },
    {
     "data": {
      "application/vnd.jupyter.widget-view+json": {
       "model_id": "b8f6c62a9324433490e1428c148e8b9e",
       "version_major": 2,
       "version_minor": 0
      },
      "text/plain": [
       "  0%|          | 0/39077296924 [00:00<?, ?it/s]"
      ]
     },
     "metadata": {},
     "output_type": "display_data"
    }
   ],
   "source": [
    "dataset = datasets.SUN397(root = 'data',  download=True)       # for plot images\n",
    "\n",
    "print(\"dataset:\", dataset.data.shape, len(dataset.targets))\n",
    "print(\"classes:\", dataset.classes )\n",
    "\n",
    "i, num_classes, num_samples = 1, 10, 16\n",
    "plt.figure(figsize=(2*num_samples, 2*num_classes), facecolor ='w')                  \n",
    "for row in range(num_classes):    \n",
    "    select = dataset.data[np.array(dataset.targets) == row]    \n",
    "    for col in range(num_samples):\n",
    "        ax=plt.subplot(num_classes, num_samples, i)    \n",
    "        i += 1        \n",
    "        plt.imshow(select[col]);  plt.axis(\"off\")\n",
    "plt.subplots_adjust(wspace=0, hspace=0)        \n",
    "plt.show()    "
   ]
  }
 ],
 "metadata": {
  "kernelspec": {
   "display_name": "Python 3 (ipykernel)",
   "language": "python",
   "name": "python3"
  },
  "language_info": {
   "codemirror_mode": {
    "name": "ipython",
    "version": 3
   },
   "file_extension": ".py",
   "mimetype": "text/x-python",
   "name": "python",
   "nbconvert_exporter": "python",
   "pygments_lexer": "ipython3",
   "version": "3.8.10"
  }
 },
 "nbformat": 4,
 "nbformat_minor": 5
}
