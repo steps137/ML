{
 "cells": [
  {
   "cell_type": "markdown",
   "id": "9b191db9",
   "metadata": {},
   "source": [
    "# Noise Filter"
   ]
  },
  {
   "cell_type": "code",
   "execution_count": 16,
   "id": "5a599ab8",
   "metadata": {},
   "outputs": [],
   "source": [
    "import time\n",
    "import numpy as np\n",
    "import matplotlib.pyplot as plt\n",
    "import cv2 as cv\n",
    "import torch, torch.nn as nn\n",
    "from   torch.utils.data import Dataset, DataLoader\n",
    "from   torchinfo        import summary  \n"
   ]
  },
  {
   "cell_type": "markdown",
   "id": "a831ef3d",
   "metadata": {},
   "source": [
    "## Dataset\n",
    "\n",
    "Есть два класса: с линией - pos (1) и без линии - neg (0).<br> \n",
    "Для негативного класса добавляем случайные короткие штрихи для повышения стабильности модели (должна реагировать только на линии от одного края к другому."
   ]
  },
  {
   "cell_type": "code",
   "execution_count": null,
   "id": "acfe0157",
   "metadata": {},
   "outputs": [],
   "source": [
    "class CFG:\n",
    "    width  = 360\n",
    "    height = 360\n",
    "    batch  = 16\n",
    "    lr     = 1e-3\n",
    "    L2     = 1e-5\n",
    "    time   = 0\n",
    "\n",
    "class GravWaveDataset(Dataset):    \n",
    "    def __init__(self, n_samples=1024, height=360, width=360, signal_level=1, dash_size=20):\n",
    "        self.n_samples    = n_samples\n",
    "        self.height       = height\n",
    "        self.width        = width\n",
    "        self.signal_level = signal_level\n",
    "        self.dash_size    = dash_size\n",
    "    \n",
    "    def __len__(self):\n",
    "        return self.n_samples\n",
    "\n",
    "    def __getitem__(self, idx):\n",
    "        cl = np.random.randint(0,2)\n",
    "        img = np.zeros((self.height, self.width), np.float32)\n",
    "        if cl==0:\n",
    "            for i in range(5):\n",
    "                x1, y1 = np.random.randint(0,self.height), np.random.randint(0,self.height)                \n",
    "                w      = np.random.randint(-self.dash_size, self.dash_size) \n",
    "                h      = np.random.randint(-self.dash_size, self.dash_size)\n",
    "                x2, y2 = x1+w, y1+h\n",
    "                img = cv.line(img, (x1,y1), (x2,y2),  self.signal_level, 1)\n",
    "        else:\n",
    "            y1, y2 = np.random.randint(0,self.height), np.random.randint(0,self.height)\n",
    "            img = cv.line(img, (0,     y1), (self.width, y2),  self.signal_level,1)\n",
    "            \n",
    "        return np.reshape(img, (1, self.height, self.width)), cl\n",
    "\n",
    "data   = GravWaveDataset(height = CFG.height, width = CFG.width)\n",
    "loader = DataLoader(data, batch_size=CFG.batch, shuffle=False, pin_memory=True)   # num_workers=CFG[\"num_workers\"]\n",
    "\n",
    "def plot_samples(data, num = 5):\n",
    "    \"\"\" show num samples of dataset in inverse style\"\"\"\n",
    "    plt.figure(figsize=(num*4,4), facecolor ='w') \n",
    "    for i in range(num):\n",
    "        plt.subplot(1, num, i+1)\n",
    "        img, cl = data[i]\n",
    "        img = img[0]\n",
    "        plt.title(f\"{cl}\")\n",
    "        plt.imshow(img.max()-img, cmap=\"gray\", vmin=img.min(), vmax=img.max())\n",
    "    plt.show()\n",
    "plot_samples(data)             "
   ]
  },
  {
   "cell_type": "markdown",
   "id": "17db13a9",
   "metadata": {},
   "source": [
    "## Model"
   ]
  },
  {
   "cell_type": "code",
   "execution_count": null,
   "id": "64fcb6cc",
   "metadata": {},
   "outputs": [],
   "source": [
    "class CNN(nn.Module):\n",
    "    \"\"\" \n",
    "    Модель с линейной cnn-архитерктурой (без resudial переходов) \n",
    "    \"\"\"\n",
    "    def __init__(self, \n",
    "                 shape   = (1, 64, 64),         # Input image shape (channels, height, width)                         \n",
    "                 channels = [], conv_kernels=[], conv_stride=1,  paddings=None, mode='replicate',      # Conv2d\n",
    "                 batchnorm=False,                                                \n",
    "                 pool_kernel=2, pool_stride=2,  pool=\"max\"):                     # pooling                                                                        \n",
    "    \n",
    "        super(CNN, self).__init__()\n",
    "\n",
    "        if paddings          == None: paddings    = 0                            # default\n",
    "        if type(paddings)    == int:  paddings    = [paddings]   *len(channels)\n",
    "        if conv_stride       == None: conv_stride = 1                            # default\n",
    "        if type(conv_stride) == int:  conv_stride = [conv_stride]*len(channels)\n",
    "        if pool_kernel       == None: pool_kernel = 2                            # default\n",
    "        if type(pool_kernel) == int:  pool_kernel = [pool_kernel]*len(channels)    \n",
    "        if type(pool_stride) == int:  pool_stride = [pool_stride]*len(channels)        \n",
    "\n",
    "        in_channels, h, w = shape                                                      \n",
    "        channels = [in_channels] + channels\n",
    "        self.layers = []\n",
    "        for i in range(len(channels)-1):\n",
    "            if conv_kernels[i]:\n",
    "                self.layers +=  [ \n",
    "                    nn.Conv2d(channels[i], channels[i+1], kernel_size=conv_kernels[i], \n",
    "                              stride=conv_stride[i],  padding=paddings[i], padding_mode=mode),\n",
    "                ]\n",
    "                if batchnorm: # beetwen Line and non line   http://arxiv.org/pdf/1502.03167v2.pdf\n",
    "                    self.layers += [ nn.BatchNorm2d(num_features=channels[i+1]) ]\n",
    "                self.layers += [ nn.ReLU() ]             \n",
    "\n",
    "                h = int( (h + 2*paddings[i] - conv_kernels[i]) / conv_stride[i] + 1)\n",
    "                w = int( (w + 2*paddings[i] - conv_kernels[i]) / conv_stride[i] + 1)  \n",
    "\n",
    "            if pool_kernel[i] > 1:\n",
    "                if pool == 'max': self.layers += [nn.MaxPool2d(kernel_size=pool_kernel[i], stride=pool_stride[i]) ]\n",
    "                else:             self.layers += [nn.AvgPool2d(kernel_size=pool_kernel[i], stride=pool_stride[i]) ]\n",
    "                h = int( (h - pool_kernel[i]) / pool_stride[i] + 1)\n",
    "                w = int( (w - pool_kernel[i]) / pool_stride[i] + 1)            \n",
    "                \n",
    "            self.output_size = h*w*channels[i+1]\n",
    "            \n",
    "        self.layers += [ nn.Flatten(1) ]\n",
    "    \n",
    "        self.model = nn.Sequential(*self.layers)                 \n",
    " \n",
    "    def forward(self, x):               \n",
    "        return self.model(x)\n",
    "\n",
    "#--------------------------------------------------------------------------------------------    \n",
    "\n",
    "class FCN(nn.Module):\n",
    "    \"\"\"     \n",
    "    Полносвязная классификационная сеть с outputs выходами (1 - для 2-х классов) \n",
    "    \"\"\"\n",
    "    def __init__(self, \n",
    "                 n_inputs,            # число входов (признаков)\n",
    "                 n_outputs = 1,      \n",
    "                 dropout=0.2, \n",
    "                 hiddens=None):    \n",
    "        super(FCN, self).__init__()\n",
    "                \n",
    "        self.layers = []\n",
    "        hiddens = [n_inputs] + (hiddens or []) + [n_outputs]\n",
    "        for i in range( len(hiddens)-1):\n",
    "            if dropout > 0:        \n",
    "                self.layers += [ nn.Dropout(p=dropout) ]\n",
    "        \n",
    "            self.layers += [ nn.Linear(hiddens[i], hiddens[i+1] ) ]\n",
    "            if i < len(hiddens)-2:                    \n",
    "                self.layers += [ nn.ReLU() ]\n",
    "\n",
    "        self.model = nn.Sequential(*self.layers)                 \n",
    "         \n",
    "    def forward(self, x):               \n",
    "        return self.model(x)\n",
    "\n",
    "    \n",
    "#--------------------------------------------------------------------------------------------    \n",
    "\n",
    "class Model(nn.Module):\n",
    "    def __init__(self, encoder, decoder, classifier):    \n",
    "        super(Model, self).__init__()\n",
    "        self.encoder    = encoder\n",
    "        self.decoder    = decoder\n",
    "        self.classifier = classifier\n",
    "        self.noise      = torch.distributions.exponential.Exponential(torch.tensor([1.0]))\n",
    "        \n",
    "    def forward(self, x):               \n",
    "        noise  = self.noise.sample(x.shape)        \n",
    "        print(x.shape, noise.shape)\n",
    "        encode = self.encoder(x + noise)           # исходная кратинка с шумом\n",
    "        decode = self.decoder(x)\n",
    "        y      = self.classifier(encode)\n",
    "        return y, encode, decode\n"
   ]
  },
  {
   "cell_type": "code",
   "execution_count": null,
   "id": "c4b6df1d",
   "metadata": {},
   "outputs": [],
   "source": [
    "encoder = CNN(shape = (1, CFG.height, CFG.width), \n",
    "              channels    = [2,2,2], \n",
    "              conv_kernels= [5,3,3],\n",
    "              conv_stride = [1,1,1],            \n",
    "            \n",
    "              pool_kernel = 2,\n",
    "              pool_stride = 2,\n",
    "              batchnorm   = False)\n",
    "\n",
    "decoder = CNN(shape = (1, CFG.height, CFG.width), \n",
    "              channels    = [2,2,2], \n",
    "              conv_kernels= [5,3,3],\n",
    "              conv_stride = [1,1,1],            \n",
    "            \n",
    "              pool_kernel = 2,\n",
    "              pool_stride = 2,\n",
    "              batchnorm   = False)\n",
    "\n",
    "if encoder.output_size != decoder.output_size:\n",
    "    print(\"!!! Wrong output sizes of encoder or decoder !!!\")\n",
    "\n",
    "classifier = FCN(n_inputs = encoder.output_size)\n",
    "model      = Model(encoder, decoder, classifier)\n",
    "\n",
    "device = \"cpu\"          # torch.device(\"cuda:0\" if torch.cuda.is_available() else \"cpu\")\n",
    "#torch.cuda.empty_cache()\n",
    "print(device)\n",
    "model = model.to(device)\n",
    "\n",
    "if False:\n",
    "    print(\"encoder:\", encoder.output_size)\n",
    "    display(summary(encoder, (1,1,CFG.height,CFG.width), col_names=[\"input_size\", \"output_size\", \"num_params\", \"kernel_size\"],col_width=20) )\n",
    "    print(\"decoder:\", decoder.output_size)\n",
    "    display(summary(decoder, (1,1,CFG.height,CFG.width), col_names=[\"input_size\", \"output_size\", \"num_params\", \"kernel_size\"],col_width=20) )\n",
    "    print(\"classifier:\")\n",
    "    display(summary(classifier, (1,encoder.output_size), col_names=[\"input_size\", \"output_size\", \"num_params\"],col_width=20) )"
   ]
  },
  {
   "cell_type": "markdown",
   "id": "a0628eb8",
   "metadata": {},
   "source": [
    "## Train"
   ]
  },
  {
   "cell_type": "markdown",
   "id": "f32560b4",
   "metadata": {},
   "source": [
    "### Class Trainer"
   ]
  },
  {
   "cell_type": "code",
   "execution_count": null,
   "id": "3ccfb0cf",
   "metadata": {},
   "outputs": [],
   "source": [
    "class Trainer:\n",
    "    def __init__(self, model, loader_trn, loader_val=None):    \n",
    "        self.model      = model\n",
    "        self.loader_trn = loader_trn\n",
    "        self.loader_val = loader_val\n",
    "        self.bceloss    = nn.BCEWithLogitsLoss() \n",
    "        self.optimizer  = torch.optim.Adam(model.parameters(), lr=CFG.lr, weight_decay=CFG.L2)   \n",
    "    \n",
    "    def loss(self, y_true, y_pred, encode, decode):\n",
    "        loss1 = ((encode - decode)**2).mean()\n",
    "        loss2 = self.bceloss(y_pred, y_true)\n",
    "        return loss1 + loss2\n",
    "\n",
    "    def fit(self, loader, train=True):         \n",
    "        \"\"\" One epoch training for DataLoader \"\"\"    \n",
    "        t1, t2, t3, t4, t5, start = 0,0,0,0,0, time.process_time()\n",
    "        totLoss, totAcc, totNum   = 0,0,0       \n",
    "\n",
    "        self.model.train(train)                             # important for Dropout, BatchNorm layers\n",
    "        for sample in loader:                             \n",
    "            beg = time.process_time()                        \n",
    "            xb, yb = sample[0].to(device), sample[1].to(device)\n",
    "            print(\"xb, yb\", xb.shape, yb.shape)\n",
    "            t1 += (time.process_time() - beg)\n",
    "\n",
    "            beg = time.process_time()                            \n",
    "            y, encode, decode = self.model(xb)              # forward propagation\n",
    "            L = self.loss(yb, y, encode, decode)            # calculate the loss\n",
    "            t2 += (time.process_time() - beg)\n",
    "\n",
    "            if train:                                       # we are in learning mode\n",
    "                beg = time.process_time()                            \n",
    "                self.optimizer.zero_grad()                  # reset the gradients        \n",
    "                L.backward()                                # calculate gradients           \n",
    "                self.optimizer.step()                       # adjusting parameters\n",
    "                t3 += (time.process_time() - beg)                                     \n",
    "        \n",
    "            beg = time.process_time()                                    \n",
    "            totLoss += L.detach()                           # total loss (detach from graph)        \n",
    "            a = y.data.argmax(axis=1)                   \n",
    "            totAcc +=  (a == yb).float().mean()             # class definition accuracy\n",
    "            totNum += 1\n",
    "            t4 += (time.process_time() - beg)                                      \n",
    "\n",
    "        beg = time.process_time()\n",
    "        totLoss = totLoss.item()/totNum                     # item better hear (gpu!!!)\n",
    "        totAcc  = totAcc.item() /totNum\n",
    "        t5 = time.process_time() - beg\n",
    "\n",
    "        info = f\"gpu:{t1:.2f} nn:{t2:.2f} grad:{t3:.2f} met:{t4:.2f} av:{t5:.2f} tot:{time.process_time()-start:.2f}\"\n",
    "        return totLoss, totAcc, info             # mean loss and accuracy\n",
    "\n",
    "    #-------------------------------------------------------------------------------\n",
    "    \n",
    "    def param_metrics(self, model):\n",
    "        grads = []    \n",
    "        with torch.no_grad():\n",
    "            L2 = sum(p.data.pow(2).sum() for p in model.parameters()).cpu().item()\n",
    "            for p in model.parameters():                 \n",
    "                if not p.grad is None:\n",
    "                    grads += [(((p.grad)**2).mean()**0.5).item()]\n",
    "        return L2, grads\n",
    "\n",
    "    #-------------------------------------------------------------------------------\n",
    "    \n",
    "    def smooth(self, x, beta=0.75): \n",
    "        \"\"\" Smoothing line plot \"\"\"   \n",
    "        av = np.copy(x)\n",
    "        for i in range(1, len(x)):                \n",
    "            av[i] = beta*av[i-1]+(1-beta)*x[i]        \n",
    "        return av\n",
    "\n",
    "    #-------------------------------------------------------------------------------\n",
    "    \n",
    "    def plot_train(self, history, grads, alpha=0.3):\n",
    "        \"\"\" Plot loss and accuarcy: history = [epoch, L_trn, L_tst, L2, A_trn, A_tst] \"\"\"\n",
    "        h = np.array(history)                               # learning output\n",
    "        plt.figure(figsize=(16,5), facecolor ='w')              \n",
    "        ax1 = plt.subplot(1, 2, 1);  \n",
    "        ax2=ax1.twinx()  \n",
    "        ax3=ax1.twinx()      \n",
    "\n",
    "        ax1.grid(color='gray', linestyle='--', alpha=0.6)\n",
    "        ax1.set_xlabel('epoch');  ax1.set_ylabel('loss')\n",
    "        ax1.set_title(f\"loss_trn: {h[-1,1]:.4f}, loss_tst: {h[-1,2]:.4f}\")\n",
    "\n",
    "        ax3.plot(np.linspace(0, h[-1, 0],  len(grads)), grads, color=\"c\", marker=\".\",  alpha=alpha)    \n",
    "        ax3.set(  xlim=(0, len(grads) ) )\n",
    "        ax3.legend(['grad'], loc='lower left')    \n",
    "        ax3.axes.xaxis.set_visible(False); ax3.axes.yaxis.set_visible(False)  \n",
    "        ax2.plot(h[:,0], h[:,3], \":r\"); ax2.set_ylabel('L2');   \n",
    "        ax2.legend(['L2'], loc='center left')    \n",
    "\n",
    "        ax1.set( ylim=(0, 0.8), xlim=(0, h[-1,0]) )    \n",
    "        ax1.plot(h[:,0], smooth(h[:, 1]), \"-b\")\n",
    "        ax1.plot(h[:,0], smooth(h[:, 2]), \"-g\")      \n",
    "        ax1.legend(['loss trn', 'loss tst'], loc='upper left')  \n",
    "        ax1.plot(h[:,0], h[:, 1], \"-b\",  alpha=alpha)\n",
    "        ax1.plot(h[:,0], h[:, 2], \"-g\",  alpha=alpha)\n",
    "\n",
    "        ax = plt.subplot(1, 2, 2);      \n",
    "        plt.xlabel('epoch'); plt.ylabel('accuracy');  ax.set_title(f\"acc_trn: {h[-1,4]:.4f}, acc_tst: {h[-1,5]:.4f}\")\n",
    "        ax.set( ylim=(0.5, 1.0), xlim=(0, h[-1,0]) )\n",
    "        plt.plot(h[:,0], smooth(h[:, 4]), \"-b\")\n",
    "        plt.plot(h[:,0], smooth(h[:, 5]), \"-g\")\n",
    "        ax.legend( ['acc trn', 'acc tst'], loc='upper left' )\n",
    "        plt.plot(h[:,0], h[:, 4], \"-b\",  alpha=alpha)\n",
    "        plt.plot(h[:,0], h[:, 5], \"-g\",  alpha=alpha)\n",
    "        ax.grid(color='gray', linestyle='--', alpha=0.6)\n",
    "    \n",
    "        pars = [ f\"{k:10s}: {v}\\n\" for k,v in CFG.items() ]\n",
    "        ax.text(h[0,0]+5, 0.5, \"\".join(pars), {'fontsize':12, 'fontname':'monospace'})\n",
    "        plt.show()\n",
    "        \n",
    "    #-------------------------------------------------------------------------------\n",
    "    \n",
    "    def run(self, epochs = 100):\n",
    "        \"\"\"        \n",
    "        \"\"\"\n",
    "        self.model.to(device) # just in case\n",
    "        L_val, A_val    = 0, 0\n",
    "        L_trn, A_trn, _ = self.fit(self.loader_trn, train=False)\n",
    "        print( \"before:      loss: %8.6f accuracy: %.6f\" % (L_trn, A_trn)  )\n",
    "\n",
    "        history, losses, accs, beg, start = [], [], [], time.process_time(), time.process_time()\n",
    "        for epoch in range(1, epochs+1):   \n",
    "    \n",
    "            L_trn, A_trn, info = self.fit(self.loader_trn, train=True)        # train one epoch\n",
    "            losses.append(L); accs.append(A)    \n",
    "    \n",
    "            if self.loader_val:\n",
    "                L_val, A_val, _ = self.fit(model, self.loader_val, train=False) \n",
    "                \n",
    "            L2, grads = param_metrics(self.model.encoder)   \n",
    "\n",
    "            if epoch % 1 == 0:                                                   # learning output   \n",
    "                print(f\"\\repoch:{epoch:5d} loss:{L_trn:8.4f} ({L_val:8.4f}) L2:{L2:.4f} acc:{A_trn:.4f} ({A_val:.4f}) [{time.process_time()-beg:.1f}s] trn: {info}\", end=\"\")           \n",
    "                beg = time.process_time()                \n",
    "\n",
    "            history.append([epoch, L_trn, L_val, L2, A_trn, A_val])\n",
    "\n",
    "            if epoch % 50  == 0 or epoch == epochs:\n",
    "                CFG.time = f\"{(time.process_time()-start)/epoch:.1f} s/ep [{(time.process_time()-start)/60:.1f} m]\"\n",
    "                self.plot_train(history, grads)        \n",
    "        "
   ]
  },
  {
   "cell_type": "markdown",
   "id": "94d50a74",
   "metadata": {},
   "source": [
    "### Run train"
   ]
  },
  {
   "cell_type": "code",
   "execution_count": null,
   "id": "98fa8083",
   "metadata": {},
   "outputs": [],
   "source": [
    "trainer = Trainer(model, loader)\n",
    "trainer.run()"
   ]
  },
  {
   "cell_type": "markdown",
   "id": "3d8f9f8f",
   "metadata": {},
   "source": [
    "### Confusion matrix"
   ]
  },
  {
   "cell_type": "code",
   "execution_count": null,
   "id": "173c8935",
   "metadata": {},
   "outputs": [],
   "source": [
    "from   sklearn.metrics import confusion_matrix\n",
    "import seaborn as sn\n",
    "\n",
    "matrix = confusion_matrix(Y_tst.numpy(), classes )\n",
    "\n",
    "print(\"total accuracy:\", matrix.diagonal().sum()/matrix.sum())\n",
    "print(\"classes accuracy:\", matrix.diagonal()/matrix.sum(axis=1))\n",
    "\n",
    "matrix = matrix / matrix.sum(axis=1)\n",
    "plt.figure(figsize = (5,5))\n",
    "sn.heatmap(matrix, annot=True, cmap=\"Greys\", annot_kws={\"size\": 12}, fmt=\".3f\", cbar=False)\n",
    "plt.show()"
   ]
  },
  {
   "cell_type": "markdown",
   "id": "50f8114e",
   "metadata": {},
   "source": [
    "## Remove noise"
   ]
  },
  {
   "cell_type": "code",
   "execution_count": null,
   "id": "359c5d7c",
   "metadata": {},
   "outputs": [],
   "source": [
    "noise = torch.distributions.exponential.Exponential(torch.tensor([1.0]))\n",
    "noise.sample(x.shape)"
   ]
  },
  {
   "cell_type": "markdown",
   "id": "38e4dca1",
   "metadata": {},
   "source": [
    "## Some tests"
   ]
  },
  {
   "cell_type": "code",
   "execution_count": 251,
   "id": "0f00e3f4",
   "metadata": {},
   "outputs": [
    {
     "name": "stdout",
     "output_type": "stream",
     "text": [
      "hi\n"
     ]
    }
   ],
   "source": [
    "class CFG:\n",
    "    def str():\n",
    "        return \"hi\"\n",
    "    \n",
    "print(CFG.str())"
   ]
  },
  {
   "cell_type": "code",
   "execution_count": 244,
   "id": "ff2ff072",
   "metadata": {
    "scrolled": true
   },
   "outputs": [
    {
     "name": "stdout",
     "output_type": "stream",
     "text": [
      "(360, 1024)\n"
     ]
    },
    {
     "data": {
      "image/png": "[encoded data removed]",
      "text/plain": [
       "<Figure size 432x288 with 1 Axes>"
      ]
     },
     "metadata": {
      "needs_background": "light"
     },
     "output_type": "display_data"
    }
   ],
   "source": [
    "height, width  =  360, 1024\n",
    "img = np.zeros((height,width), np.float32)\n",
    "\n",
    "def draw_wave(img, y1, dy, eps=0.8, move_dn=1, curv_dn=1, color=1):\n",
    "    h, w = img.shape\n",
    "    a = (w**2 + dy**2 / eps**2) * eps/(2*dy)\n",
    "    b, a = int( eps*a ), int(a)\n",
    "    if move_dn==0 and curv_dn==1: f1, f2 = 0, 90                     \n",
    "    if move_dn==1 and curv_dn==1: f1, f2 = 90, 180                   \n",
    "    if move_dn==0 and curv_dn==0: f1, f2 = 270, 360                  \n",
    "    if move_dn==1 and curv_dn==0: f1, f2 = 180, 270   \n",
    "    posX = w     if move_dn else 0\n",
    "    posY = -b+y1 if curv_dn else b+y1\n",
    "    return cv.ellipse(img, (posX, posY), (a,b), 0,  f1, f2, color, 2)\n",
    "\n",
    "\n",
    "def draw_rand_wave(img):\n",
    "    h, w = img.shape\n",
    "    curv_dn = np.random.randint(0,2)\n",
    "    move_dn = np.random.randint(0,2) \n",
    "    eps     = np.random.uniform(0.5,0.9)\n",
    "    if curv_dn:\n",
    "        y1 = np.random.randint(h//2, h)\n",
    "        dy = np.random.randint(5,h-y1-5)\n",
    "    else:\n",
    "        y1 = np.random.randint(0,h//2)\n",
    "        dy = np.random.randint(5,h-y1-5)                \n",
    "    return draw_wave(img, y1, dy, eps=0.6, move_dn=move_dn, curv_dn=curv_dn, color=1)\n",
    "    \n",
    "\n",
    "eps=0.6\n",
    "img = draw_wave(img, y1=320, dy=100, eps=eps, move_dn=1, curv_dn=1)\n",
    "img = draw_wave(img, y1=320, dy=100, eps=eps, move_dn=0, curv_dn=1)\n",
    "img = draw_wave(img, y1=32,  dy=100, eps=eps, move_dn=1, curv_dn=0)\n",
    "img = draw_wave(img, y1=32,  dy=100, eps=eps, move_dn=0, curv_dn=0)\n",
    "\n",
    "#img = draw_rand_wave(img)\n",
    "plt.imshow(img.max()-img, vmin=0, vmax=img.max()-img.min(), cmap=\"gray\")\n",
    "\n",
    "print(img.shape)"
   ]
  },
  {
   "cell_type": "code",
   "execution_count": null,
   "id": "06768602",
   "metadata": {},
   "outputs": [],
   "source": [
    "nose_probs = np.exp(-1*np.linspace(0, 5, 256))\n",
    "nose_probs /= nose_probs.sum()\n",
    "\n",
    "noise = np.random.choice(len(nose_probs), (height,width), p=nose_probs)\n",
    "img1 = (0.2*img + noise).clip(0,255)\n",
    "\n",
    "plt.imshow(255 - img1, cmap=\"gray\")\n",
    "plt.show()\n",
    "\n",
    "plt.plot(nose_probs)\n",
    "plt.show()"
   ]
  },
  {
   "cell_type": "code",
   "execution_count": null,
   "id": "a228c78b",
   "metadata": {
    "scrolled": false
   },
   "outputs": [],
   "source": [
    "width, height, scale  = 4096, 360, 32\n",
    "\n",
    "# create line:\n",
    "signal_level = 1\n",
    "img = np.zeros((height,width), np.float32)\n",
    "y = 180 # np.random.randint(0,height)\n",
    "img = cv.line(img, (0,     y),\n",
    "                   (width, y), \n",
    "                    signal_level,1)\n",
    "\n",
    "# create noise:\n",
    "noise = np.random.exponential(scale=1.0, size=(height,width))\n",
    "print(noise.mean(), noise.min(), noise.max())  # 1.0, 2e-8, 13\n",
    "\n",
    "img += noise\n",
    "\n",
    "# compress:\n",
    "img = np.mean(img.reshape(height, width // scale, scale), axis=2)  \n",
    "\n",
    "plt.figure(figsize=(8, 8), facecolor ='w')\n",
    "img = img[:, 0:128]\n",
    "plt.title(f\"[{img.min():.2f}, {img.max():.2f}]\")\n",
    "plt.imshow(img.max()-img, cmap=\"gray\", vmin=img.min(), vmax=img.max())\n",
    "plt.show()\n",
    "\n",
    "plt.hist(img.ravel(), bins=128, density=True, log=True); plt.grid()\n",
    "plt.show()"
   ]
  },
  {
   "cell_type": "code",
   "execution_count": 14,
   "id": "386ae8d3",
   "metadata": {},
   "outputs": [
    {
     "data": {
      "text/plain": [
       "0.98876953125"
      ]
     },
     "execution_count": 14,
     "metadata": {},
     "output_type": "execute_result"
    }
   ],
   "source": [
    "360*360*8/(1024*1024)"
   ]
  },
  {
   "cell_type": "code",
   "execution_count": 15,
   "id": "fd92e631",
   "metadata": {},
   "outputs": [
    {
     "data": {
      "text/plain": [
       "2880"
      ]
     },
     "execution_count": 15,
     "metadata": {},
     "output_type": "execute_result"
    }
   ],
   "source": [
    "360*8"
   ]
  }
 ],
 "metadata": {
  "kernelspec": {
   "display_name": "Python 3 (ipykernel)",
   "language": "python",
   "name": "python3"
  },
  "language_info": {
   "codemirror_mode": {
    "name": "ipython",
    "version": 3
   },
   "file_extension": ".py",
   "mimetype": "text/x-python",
   "name": "python",
   "nbconvert_exporter": "python",
   "pygments_lexer": "ipython3",
   "version": "3.8.10"
  }
 },
 "nbformat": 4,
 "nbformat_minor": 5
}
