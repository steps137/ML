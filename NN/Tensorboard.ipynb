{
 "cells": [
  {
   "cell_type": "markdown",
   "id": "90230d3e",
   "metadata": {},
   "source": [
    "```\n",
    "pip install tensorboard                 # install tensorboard\n",
    "tensorboard --logdir=runs               # run tensorboard with data in dir run\n",
    "```"
   ]
  },
  {
   "cell_type": "code",
   "execution_count": 6,
   "id": "7e459815",
   "metadata": {},
   "outputs": [],
   "source": [
    "from torch.utils.tensorboard import SummaryWriter\n",
    "import numpy as np\n",
    "\n",
    "writer = SummaryWriter(log_dir=\"runs\")\n",
    "\n",
    "for n_iter in range(100):\n",
    "    writer.add_scalar('Loss/train',     np.random.random(), n_iter)\n",
    "    writer.add_scalar('Loss/test',      np.random.random(), n_iter)\n",
    "    writer.add_scalar('Accuracy/train', np.random.random(), n_iter)\n",
    "    writer.add_scalar('Accuracy/test',  np.random.random(), n_iter)\n",
    "    \n",
    "r = 5\n",
    "for i in range(100):\n",
    "    writer.add_scalars('run_14h', {'xsinx':i*np.sin(i/r),\n",
    "                                    'xcosx':i*np.cos(i/r),\n",
    "                                    'tanx': np.tan(i/r)}, i)\n",
    "    \n",
    "for i in range(1,11):    \n",
    "    writer.add_hparams({'lr': 0.1/i, 'bsize': 10/i},\n",
    "                      {'hparam/accuracy': 10*i, 'hparam/loss': 100/i})\n",
    "        \n",
    "writer.close()    "
   ]
  }
 ],
 "metadata": {
  "kernelspec": {
   "display_name": "Python 3 (ipykernel)",
   "language": "python",
   "name": "python3"
  },
  "language_info": {
   "codemirror_mode": {
    "name": "ipython",
    "version": 3
   },
   "file_extension": ".py",
   "mimetype": "text/x-python",
   "name": "python",
   "nbconvert_exporter": "python",
   "pygments_lexer": "ipython3",
   "version": "3.8.10"
  }
 },
 "nbformat": 4,
 "nbformat_minor": 5
}
