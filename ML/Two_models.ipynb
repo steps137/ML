{
 "cells": [
  {
   "cell_type": "code",
   "execution_count": 6,
   "id": "0e21bd54",
   "metadata": {},
   "outputs": [],
   "source": [
    "import numpy as np\n",
    "from sklearn.decomposition import PCA\n",
    "\n",
    "import torch\n",
    "import torch.nn as nn"
   ]
  },
  {
   "cell_type": "code",
   "execution_count": 22,
   "id": "4c69a01c",
   "metadata": {},
   "outputs": [
    {
     "name": "stdout",
     "output_type": "stream",
     "text": [
      "[ 0.          0.         -0.16666667] False (2, 3) \n",
      "\n",
      "[[ 1.61410591 -0.04030163]\n",
      " [ 2.84581994  0.48808345]\n",
      " [ 4.03668406 -0.25740461]\n",
      " [-1.78340263 -0.24177294]\n",
      " [-3.01511665 -0.77015802]\n",
      " [-3.69809063  0.82155375]] \n",
      "\n",
      "[[ 1.61410591 -0.04030163]\n",
      " [ 2.84581994  0.48808345]\n",
      " [ 4.03668406 -0.25740461]\n",
      " [-1.78340263 -0.24177294]\n",
      " [-3.01511665 -0.77015802]\n",
      " [-3.69809063  0.82155375]]\n"
     ]
    }
   ],
   "source": [
    "X = np.array([[-1, -1, -1], [-2, -1, -2], [-3, -2, -2], [1, 1, 1], [2, 1, 2], [3, 2, 1]])\n",
    "\n",
    "pca = PCA(n_components=2)\n",
    "pca.fit(X)\n",
    "\n",
    "print(pca.mean_, pca.whiten, pca.components_.shape, \"\\n\")\n",
    "\n",
    "def transform(X, mean, components, explained_variance, whiten = False):\n",
    "    \"\"\"From source of sklearn \"\"\"\n",
    "    Y = np.dot(X - mean, components.T)    \n",
    "    if whiten:\n",
    "        Y /= np.sqrt(explained_variance)\n",
    "    return Y\n",
    "    \n",
    "Y = pca.transform(X)\n",
    "print(Y, \"\\n\")\n",
    "\n",
    "Y = transform(X, pca.mean_, pca.components_, pca.explained_variance_, pca.whiten)\n",
    "print(Y)"
   ]
  },
  {
   "cell_type": "code",
   "execution_count": 68,
   "id": "37dbae08",
   "metadata": {},
   "outputs": [
    {
     "name": "stdout",
     "output_type": "stream",
     "text": [
      "torch.Size([6, 3]) torch.Size([3, 2])\n",
      "tensor([[ 1.6141, -0.0403],\n",
      "        [ 2.8458,  0.4881],\n",
      "        [ 4.0367, -0.2574],\n",
      "        [-1.7834, -0.2418],\n",
      "        [-3.0151, -0.7702],\n",
      "        [-3.6981,  0.8216]])\n",
      "Parameter containing:\n",
      "tensor([[-0.7238, -0.4670, -0.5079],\n",
      "        [ 0.3178,  0.4276, -0.8462]])\n",
      "Parameter containing:\n",
      "tensor([[-0.7238, -0.4670, -0.5079],\n",
      "        [ 0.3178,  0.4276, -0.8462]])\n",
      "torch.Size([6, 3]) torch.Size([3, 2])\n",
      "tensor([[ 1.6141, -0.0403],\n",
      "        [ 2.8458,  0.4881],\n",
      "        [ 4.0367, -0.2574],\n",
      "        [-1.7834, -0.2418],\n",
      "        [-3.0151, -0.7702],\n",
      "        [-3.6981,  0.8216]])\n"
     ]
    }
   ],
   "source": [
    "class Model_PCA(nn.Module):\n",
    "    def __init__(self, dim1=3, dim2=2):                                                        \n",
    "        super(Model_PCA, self).__init__()      \n",
    "            \n",
    "        self.mean = nn.Parameter( torch.zeros((dim1, ),     dtype=torch.float32),  requires_grad = False)\n",
    "        self.comp = nn.Parameter( torch.zeros((dim2, dim1), dtype=torch.float32),  requires_grad = False)\n",
    " \n",
    "    def set(self, mean, comp):  # numpy\n",
    "        self.mean.copy_( torch.tensor(mean, dtype=torch.float32) )\n",
    "        self.comp.copy_( torch.tensor(comp, dtype=torch.float32) )\n",
    "\n",
    "    def forward(self, x):               \n",
    "        x =  x - self.mean\n",
    "        print(x.shape, self.comp.T.shape)\n",
    "        x =  torch.mm(x, self.comp.T)        \n",
    "        return x\n",
    "    \n",
    "model = Model_PCA()  \n",
    "model.set(pca.mean_, pca.components_)   # from pca\n",
    "\n",
    "Y = model(torch.tensor(X))\n",
    "print(Y)\n",
    "  \n",
    "print(model.comp)    \n",
    "\n",
    "torch.save({'model':  model.state_dict()}, 'model_pca.pt')        \n",
    "\n",
    "m = Model_PCA(3,2)\n",
    "state = torch.load('model_pca.pt')\n",
    "m.load_state_dict(state['model'])  \n",
    "print(m.comp)\n",
    "\n",
    "Y = m(torch.tensor(X))\n",
    "print(Y)"
   ]
  },
  {
   "cell_type": "code",
   "execution_count": 72,
   "id": "827c9ef2",
   "metadata": {},
   "outputs": [
    {
     "name": "stdout",
     "output_type": "stream",
     "text": [
      "{'model': OrderedDict([('mean', tensor([ 0.0000,  0.0000, -0.1667])), ('comp', tensor([[-0.7238, -0.4670, -0.5079],\n",
      "        [ 0.3178,  0.4276, -0.8462]]))])}\n",
      "{'model': OrderedDict([('fc.weight', tensor([[ 0.3555,  0.3801, -0.1033],\n",
      "        [-0.0138,  0.4348, -0.4440]])), ('fc.bias', tensor([-0.0600,  0.5334])), ('pca.mean', tensor([ 0.0000,  0.0000, -0.1667])), ('pca.comp', tensor([[-0.7238, -0.4670, -0.5079],\n",
      "        [ 0.3178,  0.4276, -0.8462]]))])}\n"
     ]
    }
   ],
   "source": [
    "class Model(nn.Module):\n",
    "    def __init__(self):                                                        \n",
    "        super(Model, self).__init__()             \n",
    "        self.fc  = nn.Linear(3, 2) # something\n",
    "        #...\n",
    "        self.pca = Model_PCA()\n",
    " \n",
    "    def forward(self, x):               \n",
    "        return self.fc(x)    \n",
    "\n",
    "model = Model()    \n",
    "\n",
    "state = torch.load('model_pca.pt')\n",
    "print(state)\n",
    "model.pca.load_state_dict(state['model'])  \n",
    "\n",
    "\n",
    "torch.save({'model':  model.state_dict()}, 'model_all.pt')  \n",
    "state = torch.load('model_all.pt')\n",
    "print(state)"
   ]
  },
  {
   "cell_type": "code",
   "execution_count": 142,
   "id": "05380003",
   "metadata": {},
   "outputs": [
    {
     "name": "stdout",
     "output_type": "stream",
     "text": [
      "weight               : 4  =  (4,)\n",
      "bias                 : 4  =  (4,)\n",
      "running_mean         : 4  =  (4,)\n",
      "running_var          : 4  =  (4,)\n",
      "num_batches_tracked  : 1  =  ()\n",
      "parameters           :     17\n"
     ]
    }
   ],
   "source": [
    "#p  = nn.Parameter( torch.zeros((10,)))\n",
    "bn = nn.BatchNorm2d(num_features=4) \n",
    "fc1 = nn.Linear(2, 3) \n",
    "fc2 = nn.Linear(4, 5) \n",
    "\n",
    "m  = nn.Sequential(fc1, nn.Sequential(bn, fc2))\n",
    "\n",
    "tot = 0\n",
    "for n, p in bn.state_dict().items():\n",
    "    pars = p.numel(); tot += pars\n",
    "    print(f'{n:20s} : {pars}  =  {tuple(p.shape)}')\n",
    "    \n",
    "print(f\"{'parameters':20s} :{tot:7d}\")"
   ]
  },
  {
   "cell_type": "code",
   "execution_count": 145,
   "id": "a2f151f4",
   "metadata": {},
   "outputs": [
    {
     "name": "stdout",
     "output_type": "stream",
     "text": [
      "(4,) True\n",
      "(4,) True\n"
     ]
    }
   ],
   "source": [
    "for p in bn.parameters():\n",
    "    print(f'{tuple(p.shape)} {p.requires_grad}')"
   ]
  },
  {
   "cell_type": "code",
   "execution_count": 146,
   "id": "380a1d79",
   "metadata": {},
   "outputs": [
    {
     "name": "stdout",
     "output_type": "stream",
     "text": [
      "weight:    (4,), True\n",
      "bias:      (4,), True\n"
     ]
    }
   ],
   "source": [
    "for n, p in bn.named_parameters():    \n",
    "    print(f\"{n+':':10s} {tuple(p.shape)}, {p.requires_grad}\")"
   ]
  },
  {
   "cell_type": "code",
   "execution_count": 180,
   "id": "f2a35b43",
   "metadata": {},
   "outputs": [
    {
     "name": "stdout",
     "output_type": "stream",
     "text": [
      "torch.Size([1, 3, 2, 2])\n",
      "weight               : (3,) False tensor([1., 1., 1.])\n",
      "bias                 : (3,) False tensor([0., 0., 0.])\n",
      "running_mean         : (3,) False tensor([0., 0., 0.])\n",
      "running_var          : (3,) False tensor([1., 1., 1.])\n",
      "num_batches_tracked  : () False 0\n",
      "tensor([[[[-1.0000,  1.0000],\n",
      "          [ 1.0000, -1.0000]],\n",
      "\n",
      "         [[ 0.0000,  0.0000],\n",
      "          [ 0.0000,  0.0000]],\n",
      "\n",
      "         [[ 0.0000,  0.0000],\n",
      "          [ 0.0000,  0.0000]]]], grad_fn=<NativeBatchNormBackward0>)\n",
      "mean: tensor([1.5000, 1.0000, 0.0000])\n",
      "var : tensor([0.3333, 0.0000, 0.0000])\n",
      "weight               : (3,) False tensor([1., 1., 1.])\n",
      "bias                 : (3,) False tensor([0., 0., 0.])\n",
      "running_mean         : (3,) False tensor([0.1500, 0.1000, 0.0000])\n",
      "running_var          : (3,) False tensor([0.9333, 0.9000, 0.9000])\n",
      "num_batches_tracked  : () False 1\n",
      "weight     : (3,), True, tensor([1., 1., 1.])\n",
      "bias       : (3,), True, tensor([0., 0., 0.])\n"
     ]
    }
   ],
   "source": [
    "im = torch.tensor([ [ [[1,2],[2,1]],  \n",
    "                      [[1,1],[1,1]],\n",
    "                      [[0,0],[0,0]],\n",
    "                    ],\n",
    "                   \n",
    "                      \n",
    "                  ]).float()\n",
    "print(im.shape)\n",
    "\n",
    "bn = nn.BatchNorm2d(num_features=3) \n",
    "\n",
    "for n, p in bn.state_dict().items():\n",
    "    print(f'{n:20s} : {tuple(p.shape)} {p.requires_grad} {p}')\n",
    "    \n",
    "print(bn(im))\n",
    "\n",
    "print(\"mean:\",im.mean((0,2,3)))\n",
    "print(\"var :\",im.var((0,2,3)))\n",
    "\n",
    "\n",
    "for n, p in bn.state_dict().items():\n",
    "    print(f'{n:20s} : {tuple(p.shape)} {p.requires_grad} {p.data}')\n",
    "    \n",
    "for n, p in bn.named_parameters():    \n",
    "    print(f\"{n:10s} : {tuple(p.shape)}, {p.requires_grad}, {p.data}\")    "
   ]
  }
 ],
 "metadata": {
  "kernelspec": {
   "display_name": "Python 3 (ipykernel)",
   "language": "python",
   "name": "python3"
  },
  "language_info": {
   "codemirror_mode": {
    "name": "ipython",
    "version": 3
   },
   "file_extension": ".py",
   "mimetype": "text/x-python",
   "name": "python",
   "nbconvert_exporter": "python",
   "pygments_lexer": "ipython3",
   "version": "3.8.10"
  }
 },
 "nbformat": 4,
 "nbformat_minor": 5
}
