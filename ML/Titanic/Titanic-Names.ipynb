{
 "cells": [
  {
   "cell_type": "code",
   "execution_count": 75,
   "id": "902ebeb0",
   "metadata": {},
   "outputs": [
    {
     "name": "stdout",
     "output_type": "stream",
     "text": [
      "(8493, 14)\n"
     ]
    },
    {
     "data": {
      "text/html": [
       "<div>\n",
       "<style scoped>\n",
       "    .dataframe tbody tr th:only-of-type {\n",
       "        vertical-align: middle;\n",
       "    }\n",
       "\n",
       "    .dataframe tbody tr th {\n",
       "        vertical-align: top;\n",
       "    }\n",
       "\n",
       "    .dataframe thead th {\n",
       "        text-align: right;\n",
       "    }\n",
       "</style>\n",
       "<table border=\"1\" class=\"dataframe\">\n",
       "  <thead>\n",
       "    <tr style=\"text-align: right;\">\n",
       "      <th></th>\n",
       "      <th>Name</th>\n",
       "      <th>CryoSleep</th>\n",
       "      <th>Transported</th>\n",
       "      <th>Name1</th>\n",
       "    </tr>\n",
       "  </thead>\n",
       "  <tbody>\n",
       "    <tr>\n",
       "      <th>0</th>\n",
       "      <td>Maham Ofracculy</td>\n",
       "      <td>False</td>\n",
       "      <td>False</td>\n",
       "      <td>Maham</td>\n",
       "    </tr>\n",
       "    <tr>\n",
       "      <th>1</th>\n",
       "      <td>Juanna Vines</td>\n",
       "      <td>False</td>\n",
       "      <td>True</td>\n",
       "      <td>Juanna</td>\n",
       "    </tr>\n",
       "    <tr>\n",
       "      <th>2</th>\n",
       "      <td>Altark Susent</td>\n",
       "      <td>False</td>\n",
       "      <td>False</td>\n",
       "      <td>Altark</td>\n",
       "    </tr>\n",
       "    <tr>\n",
       "      <th>3</th>\n",
       "      <td>Solam Susent</td>\n",
       "      <td>False</td>\n",
       "      <td>False</td>\n",
       "      <td>Solam</td>\n",
       "    </tr>\n",
       "    <tr>\n",
       "      <th>4</th>\n",
       "      <td>Willy Santantines</td>\n",
       "      <td>False</td>\n",
       "      <td>True</td>\n",
       "      <td>Willy</td>\n",
       "    </tr>\n",
       "    <tr>\n",
       "      <th>...</th>\n",
       "      <td>...</td>\n",
       "      <td>...</td>\n",
       "      <td>...</td>\n",
       "      <td>...</td>\n",
       "    </tr>\n",
       "    <tr>\n",
       "      <th>8688</th>\n",
       "      <td>Gravior Noxnuther</td>\n",
       "      <td>False</td>\n",
       "      <td>False</td>\n",
       "      <td>Gravior</td>\n",
       "    </tr>\n",
       "    <tr>\n",
       "      <th>8689</th>\n",
       "      <td>Kurta Mondalley</td>\n",
       "      <td>True</td>\n",
       "      <td>False</td>\n",
       "      <td>Kurta</td>\n",
       "    </tr>\n",
       "    <tr>\n",
       "      <th>8690</th>\n",
       "      <td>Fayey Connon</td>\n",
       "      <td>False</td>\n",
       "      <td>True</td>\n",
       "      <td>Fayey</td>\n",
       "    </tr>\n",
       "    <tr>\n",
       "      <th>8691</th>\n",
       "      <td>Celeon Hontichre</td>\n",
       "      <td>False</td>\n",
       "      <td>False</td>\n",
       "      <td>Celeon</td>\n",
       "    </tr>\n",
       "    <tr>\n",
       "      <th>8692</th>\n",
       "      <td>Propsh Hontichre</td>\n",
       "      <td>False</td>\n",
       "      <td>True</td>\n",
       "      <td>Propsh</td>\n",
       "    </tr>\n",
       "  </tbody>\n",
       "</table>\n",
       "<p>8493 rows × 4 columns</p>\n",
       "</div>"
      ],
      "text/plain": [
       "                   Name CryoSleep  Transported    Name1\n",
       "0       Maham Ofracculy     False        False    Maham\n",
       "1          Juanna Vines     False         True   Juanna\n",
       "2         Altark Susent     False        False   Altark\n",
       "3          Solam Susent     False        False    Solam\n",
       "4     Willy Santantines     False         True    Willy\n",
       "...                 ...       ...          ...      ...\n",
       "8688  Gravior Noxnuther     False        False  Gravior\n",
       "8689    Kurta Mondalley      True        False    Kurta\n",
       "8690       Fayey Connon     False         True    Fayey\n",
       "8691   Celeon Hontichre     False        False   Celeon\n",
       "8692   Propsh Hontichre     False         True   Propsh\n",
       "\n",
       "[8493 rows x 4 columns]"
      ]
     },
     "metadata": {},
     "output_type": "display_data"
    },
    {
     "data": {
      "text/plain": [
       "Idace      13\n",
       "Loree      12\n",
       "Glena      11\n",
       "Gwendy     11\n",
       "Kaye       11\n",
       "           ..\n",
       "Capies      1\n",
       "Blues       1\n",
       "Preonon     1\n",
       "Siese       1\n",
       "Chain       1\n",
       "Name: Name1, Length: 2706, dtype: int64"
      ]
     },
     "execution_count": 75,
     "metadata": {},
     "output_type": "execute_result"
    }
   ],
   "source": [
    "import numpy as np \n",
    "import pandas as pd\n",
    "import matplotlib.pyplot as plt\n",
    "import seaborn as sns\n",
    "\n",
    "def plot_bars(df, lst_features, lst_split = ['Transported'], ylim=(0,1)):\n",
    "    \"\"\" Вывод значений для прихнаков из списка lst_features. Вычисление для них доли признкака lst_split \"\"\"\n",
    "    cols, i = len(lst_features)*len(lst_split), 1\n",
    "    plt.figure(figsize=(cols*5, 4), facecolor ='w')     \n",
    "    for f in lst_features: \n",
    "        for split in lst_split:         \n",
    "            x = np.array( list(dict(df[f].value_counts()).items() ))            \n",
    "            ax1 = plt.subplot(1, cols, i)\n",
    "            plt.ylim(0, len(df)); plt.title(f); plt.yticks([]); # plt.xticks(x[:,0])\n",
    "            plt.bar(x[:,0], x[:,1].astype(int))\n",
    "            \n",
    "            s = [  df.loc[df[f] == k, split].mean() for k, _ in x ]\n",
    "            ax2 = ax1.twinx(); ax2.set_ylim(ylim)\n",
    "            plt.plot(x[:,0], s, \":og\", markersize=8)\n",
    "            plt.axhline(y = (ylim[0]+ylim[1])/2, color = 'gray', linestyle = '-')\n",
    "            plt.yticks(np.linspace(ylim[0],ylim[1],11)); plt.legend([split])\n",
    "            plt.grid()\n",
    "            i += 1\n",
    "    plt.show()    \n",
    "\n",
    "df = pd.read_csv(\"dataset/train.csv\")\n",
    "df = df[(df.Name.notna()) ] # & (df.CryoSleep == False)\n",
    "print(df.shape)\n",
    "df = df[['Name', 'CryoSleep', 'Transported']]\n",
    "df['Name1'] = df.Name.map(lambda x: x.split(\" \")[0])\n",
    "display(df)\n",
    "df.Name1.value_counts()"
   ]
  },
  {
   "cell_type": "code",
   "execution_count": 76,
   "id": "cd0cb1d1",
   "metadata": {},
   "outputs": [
    {
     "name": "stdout",
     "output_type": "stream",
     "text": [
      "0.504    0.359\n",
      "Idace       13 0.154  0.231\n",
      "Loree       12 0.583  0.250\n",
      "Glena       11 0.545  0.455\n",
      "Gwendy      11 0.364  0.182\n",
      "Kaye        11 0.545  0.545\n",
      "Dandra      11 0.364  0.182\n",
      "Jerrye      10 0.300  0.300\n",
      "Eriky       10 0.300  0.333\n",
      "Benny       10 0.200  0.444\n",
      "Eulah       10 0.400  0.200\n",
      "Jorgie      10 0.600  0.400\n",
      "Patoya      10 0.200  0.333\n"
     ]
    }
   ],
   "source": [
    "print(f\"{df.Transported.mean():.3f}    {df.CryoSleep.mean():.3f}\")\n",
    "for i, (n,c) in enumerate(dict(df.Name1.value_counts()).items()):\n",
    "    print(f\"{n:10s}  {c:2d} {df[df.Name1 == n].Transported.mean():.3f}  {df[df.Name1 == n].CryoSleep.mean():.3f}\")\n",
    "    if i > 10: break"
   ]
  },
  {
   "cell_type": "code",
   "execution_count": 90,
   "id": "9f806509",
   "metadata": {},
   "outputs": [
    {
     "name": "stdout",
     "output_type": "stream",
     "text": [
      "num:6, labels:4, depth:5\n",
      "(3, 2, 1)\n",
      "0.5\n"
     ]
    }
   ],
   "source": [
    "class WordTree:\n",
    "    \"\"\" list :- [n,t,dict], dict :- {ch: list,...}   example:   [10, 5, { 'a': [8,3, {} ] ,...   }] \"\"\"\n",
    "    def __init__(self, inverse = True):\n",
    "        self.inverse = inverse\n",
    "        self.root = [0, 0, {}]\n",
    "        self.depth = 0\n",
    "        \n",
    "    def add(self, word, label):\n",
    "        self.depth = max(self.depth, len(word)+1)\n",
    "        self.root[0] += 1\n",
    "        self.root[1] += label\n",
    "        \n",
    "        if self.inverse:\n",
    "            word = word[::-1]\n",
    "        word += \"#\"\n",
    "        \n",
    "        node = self.root[2]\n",
    "        for ch in word:\n",
    "            if ch in node:\n",
    "                lst = node[ch]\n",
    "                lst[0] += 1\n",
    "                lst[1] += label\n",
    "                node = lst[2]\n",
    "            else:\n",
    "                node[ch] = [1, label, {}]\n",
    "                node = node[ch][2]\n",
    "    \n",
    "    def predict(self, word, max_depth = 100):\n",
    "        if self.inverse:\n",
    "            word = word[::-1]\n",
    "        word += \"#\"            \n",
    "        word = word[:max_depth]\n",
    "        \n",
    "        node = self.root\n",
    "        for ch in word:            \n",
    "            if ch in node[2]:\n",
    "                node = node[2][ch]                \n",
    "            else:                \n",
    "                return node[0], node[1], 0\n",
    "                               \n",
    "        return node[0], node[1], 1\n",
    "    \n",
    "    def score(self, word, max_depth = 100):\n",
    "        n,k,ok = self.predict(word, max_depth)\n",
    "        return k/n\n",
    "    \n",
    "    def info(self):\n",
    "        print(f\"num:{self.root[0]}, labels:{self.root[1]}, depth:{self.depth}\")\n",
    "    \n",
    "    def show(self, level = 0):\n",
    "        print(f\"({self.root[0]},{self.root[1]})\")\n",
    "        self.show_rec(self.root[2], 0)\n",
    "        \n",
    "    def show_rec(self, node, level):        \n",
    "        skip = \" \"*(4*level)          \n",
    "        for k in node:\n",
    "            print(f\"{skip} {k}  ({node[k][0]},{node[k][1]})\")\n",
    "            self.show_rec(node[k][2], level+1)\n",
    "        \n",
    "        \n",
    "wt = WordTree()\n",
    "\n",
    "wt.add(\"маша\",  1)\n",
    "wt.add(\"саша\",  0)\n",
    "wt.add(\"саша\",  1)\n",
    "wt.add(\"коля\",  0)\n",
    "wt.add(\"оля\",   1)\n",
    "wt.add(\"поля\",  1)\n",
    "\n",
    "#wt.show()\n",
    "wt.info()\n",
    "print(wt.predict(\"саша\", 2))\n",
    "print(wt.score(\"саша\"))"
   ]
  },
  {
   "cell_type": "code",
   "execution_count": 93,
   "id": "e13f4f61",
   "metadata": {},
   "outputs": [
    {
     "name": "stdout",
     "output_type": "stream",
     "text": [
      "num:8493, labels:4277, depth:8\n"
     ]
    }
   ],
   "source": [
    "wt = WordTree()\n",
    "for i in range(len(df)):\n",
    "    wt.add(df.iloc[i].Name1, int(df.iloc[i].Transported))\n",
    "wt.info()\n",
    "\n",
    "df['sex'] = df.Name1.map(lambda x: wt.score(x, 3) )"
   ]
  },
  {
   "cell_type": "code",
   "execution_count": 94,
   "id": "f82bc6e3",
   "metadata": {},
   "outputs": [
    {
     "data": {
      "image/png": "[encoded data removed]",
      "text/plain": [
       "<Figure size 360x288 with 2 Axes>"
      ]
     },
     "metadata": {},
     "output_type": "display_data"
    }
   ],
   "source": [
    "plot_bars  (df, ['Transported'], ['sex'])"
   ]
  },
  {
   "cell_type": "code",
   "execution_count": null,
   "id": "2f04fbaa",
   "metadata": {},
   "outputs": [],
   "source": [
    "def set_sex(df_trn, df_tst):\n",
    "    wt = WordTree()\n",
    "    \n",
    "    for i in range(len(df_trn)):\n",
    "        wt.add(df_trn.iloc[i].Name1, int(df_trn.iloc[i].Transported))    \n",
    "        \n",
    "    df_trn['Sex'] = df_trn.Name1.map(lambda x: wt.score(x, 4) )\n",
    "    df_tst['Sex'] = df_tst.Name1.map(lambda x: wt.score(x, 4) )"
   ]
  }
 ],
 "metadata": {
  "kernelspec": {
   "display_name": "Python 3 (ipykernel)",
   "language": "python",
   "name": "python3"
  },
  "language_info": {
   "codemirror_mode": {
    "name": "ipython",
    "version": 3
   },
   "file_extension": ".py",
   "mimetype": "text/x-python",
   "name": "python",
   "nbconvert_exporter": "python",
   "pygments_lexer": "ipython3",
   "version": "3.8.10"
  }
 },
 "nbformat": 4,
 "nbformat_minor": 5
}
