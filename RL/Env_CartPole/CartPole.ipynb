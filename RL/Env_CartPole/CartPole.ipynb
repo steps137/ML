{
 "cells": [
  {
   "cell_type": "markdown",
   "id": "4283c800",
   "metadata": {},
   "source": [
    "# CartPole\n",
    "\n",
    "Exploring the `CartPole-v0` environment from the Open Gym \n",
    "\n",
    "## Import libraries and create an environment"
   ]
  },
  {
   "cell_type": "code",
   "execution_count": 10,
   "id": "d4d165f7",
   "metadata": {},
   "outputs": [],
   "source": [
    "import numpy as np\n",
    "import matplotlib.pyplot as plt\n",
    "\n",
    "import gym                                      # OpenAI Gym library\n",
    "env = gym.make('CartPole-v1')                   # create an environment"
   ]
  },
  {
   "cell_type": "markdown",
   "id": "3a8a1ee5",
   "metadata": {},
   "source": [
    "## Show initial state\n",
    "\n",
    "- On Windows, the render window will pop up on top of the browser only if it is not maximized to full screen (slightly **reduce the browser window**). \n",
    "- You can close the render window only by executing the command `env.close()`."
   ]
  },
  {
   "cell_type": "code",
   "execution_count": 11,
   "id": "46416a4f",
   "metadata": {},
   "outputs": [
    {
     "name": "stdout",
     "output_type": "stream",
     "text": [
      "obs: [-0.04926904 -0.04446825 -0.01707693 -0.00358513]\n"
     ]
    },
    {
     "data": {
      "text/plain": [
       "<matplotlib.image.AxesImage at 0x1eb31d23c70>"
      ]
     },
     "execution_count": 11,
     "metadata": {},
     "output_type": "execute_result"
    },
    {
     "data": {
      "image/png": "[encoded data removed]",
      "text/plain": [
       "<Figure size 432x288 with 1 Axes>"
      ]
     },
     "metadata": {
      "needs_background": "light"
     },
     "output_type": "display_data"
    }
   ],
   "source": [
    "obs = env.reset()                               # initial observation on the system\n",
    "\n",
    "print('obs:', obs) \n",
    "plt.imshow(env.render('rgb_array'))             # render the environment as image "
   ]
  },
  {
   "cell_type": "code",
   "execution_count": 253,
   "id": "55161be1",
   "metadata": {},
   "outputs": [],
   "source": [
    "env.close()                                       # сlose render window"
   ]
  },
  {
   "cell_type": "markdown",
   "id": "4b460352",
   "metadata": {},
   "source": [
    "## Environment properties"
   ]
  },
  {
   "cell_type": "code",
   "execution_count": 12,
   "id": "c4229614",
   "metadata": {},
   "outputs": [
    {
     "name": "stdout",
     "output_type": "stream",
     "text": [
      "space:  (4,) float32\n",
      "low:    [-4.8000002e+00 -3.4028235e+38 -4.1887903e-01 -3.4028235e+38]\n",
      "high:   [4.8000002e+00 3.4028235e+38 4.1887903e-01 3.4028235e+38]\n",
      "actions: 2 int64\n"
     ]
    }
   ],
   "source": [
    "space = env.observation_space                     # observation space\n",
    "print(\"space: \", space.shape, space.dtype)        # space dimension and type\n",
    "print(\"low:   \", space.low)                       # minimum values\n",
    "print(\"high:  \", space.high)                      # maximum values\n",
    "\n",
    "actions = env.action_space                        # action space\n",
    "print(\"actions:\", actions.n, actions.dtype)       # number of actions, type"
   ]
  },
  {
   "cell_type": "markdown",
   "id": "e40747c4",
   "metadata": {},
   "source": [
    "In fact, the components of observation vary within much narrower limits (except for the coordinate):"
   ]
  },
  {
   "cell_type": "code",
   "execution_count": 73,
   "id": "fd2d5a15",
   "metadata": {},
   "outputs": [
    {
     "name": "stdout",
     "output_type": "stream",
     "text": [
      "mean: [ 0.00120916 -0.00170209 -0.00106293 -0.0004181 ]\n",
      "std : [0.09398305 0.55308707 0.10068638 0.83501587]\n",
      "min : [-1.04841326 -3.05774087 -0.26353114 -3.27478057]\n",
      "max : [1.22070349 2.72335802 0.26678705 3.68045223]\n",
      "rew : 22.40 ± 0.12 \n"
     ]
    }
   ],
   "source": [
    "stat, rews = [], []\n",
    "for episode in range(10000):\n",
    "    s, rew = env.reset(), 0\n",
    "    stat.append(s)\n",
    "    for _ in range(1000):\n",
    "        #a = int(s[0]+s[1]+3*s[2]+s[3] > 0)  \n",
    "        a = env.action_space.sample()\n",
    "        s,r,done,_ = env.step(a)\n",
    "        rew += r\n",
    "        stat.append(s)        \n",
    "        if done:\n",
    "            break\n",
    "    rews.append(rew)\n",
    "stat, rews = np.array(stat), np.array(rews)\n",
    "print(\"mean:\", stat.mean(0))\n",
    "print(\"std :\", stat.std(0))\n",
    "print(\"min :\", stat.min(0))\n",
    "print(\"max :\", stat.max(0))\n",
    "print(f\"rew : {rews.mean():.2f} ± {rews.std()/len(rews)**0.5:.2f} \")"
   ]
  },
  {
   "cell_type": "markdown",
   "id": "b0edd21c",
   "metadata": {},
   "source": [
    "## Reward Statistics"
   ]
  },
  {
   "cell_type": "code",
   "execution_count": 34,
   "id": "afa74ce9",
   "metadata": {},
   "outputs": [],
   "source": [
    "def policy(s):\n",
    "    #return int( s[0]+s[1]+3*s[2]+s[3] > 0)       # best solution                 \n",
    "    #return int(s[3] > 0)                         # rew = 198.4 [126...354] std = 41   \n",
    "    return int(s[2] > 0)                          # rew =  42.2 [ 24... 72] std =  9\n",
    "\n",
    "def run(ticks = 500):\n",
    "    tot_rew = 0                                   # total reward    \n",
    "    state = env.reset()                           # start state\n",
    "    for t in range(1,ticks+1):       \n",
    "        action = policy(state)                    # select action\n",
    "        state, rew, done, _ = env.step(action)    # get inforamtion    \n",
    "        tot_rew += rew         \n",
    "        if done:                                  # end of episode\n",
    "            break\n",
    "            \n",
    "    return tot_rew                                \n",
    "\n",
    "def statistics(episodes = 1000, ticks = 500):\n",
    "    rews = np.empty(episodes)                      # rewards in each episode \n",
    "    \n",
    "    for episode in range(episodes):                \n",
    "        rews[episode] = run()\n",
    "        \n",
    "    mean, std = rews.mean(), rews.std()            \n",
    "    print(f\"rew = {mean:.1f} ± {std/len(rews)**0.5 : .0f} [{rews.min():.0f}...{rews.max():.0f}] std = {std:.0f}\")\n",
    "    \n",
    "    return mean, std                               "
   ]
  },
  {
   "cell_type": "code",
   "execution_count": 35,
   "id": "4545d542",
   "metadata": {},
   "outputs": [
    {
     "name": "stdout",
     "output_type": "stream",
     "text": [
      "rew = 42.2 ±  0 [24...72] std = 9\n"
     ]
    },
    {
     "data": {
      "text/plain": [
       "(42.1813, 8.781721375106363)"
      ]
     },
     "execution_count": 35,
     "metadata": {},
     "output_type": "execute_result"
    }
   ],
   "source": [
    "statistics(episodes=10000, ticks=500)"
   ]
  },
  {
   "cell_type": "markdown",
   "id": "b6cc8a90",
   "metadata": {},
   "source": [
    "## Save Video"
   ]
  },
  {
   "cell_type": "code",
   "execution_count": 39,
   "id": "4d41fa21",
   "metadata": {},
   "outputs": [
    {
     "name": "stderr",
     "output_type": "stream",
     "text": [
      "IMAGEIO FFMPEG_WRITER WARNING: input image is not divisible by macro_block_size=16, resizing from (600, 400) to (608, 400) to ensure video compatibility with most codecs and players. To prevent resizing, make your input image divisible by the macro_block_size or set the macro_block_size to 1 (risking incompatibility).\n"
     ]
    }
   ],
   "source": [
    "from PIL import Image, ImageDraw, ImageFont\n",
    "import imageio\n",
    "\n",
    "def render_frame(frame, text: str):\n",
    "    \"\"\"\n",
    "    Get frame with overwritten text:\n",
    "    \"\"\"\n",
    "    im = Image.fromarray(frame)\n",
    "    if text:        \n",
    "        drawer = ImageDraw.Draw(im)    \n",
    "        text_color = (255,255,255) if np.mean(im) < 128 else (0,0,0)\n",
    "        font = ImageFont.truetype(\"verdana.ttf\", 18)\n",
    "        drawer.text((10, 10), text, fill=text_color, font=font)        \n",
    "        font = ImageFont.truetype(\"verdana.ttf\", 14)\n",
    "        drawer.text((im.size[0]-100,im.size[1]-20), \"QuData.com\", fill=text_color, font=font)\n",
    "    return im\n",
    "\n",
    "\n",
    "frames, last = [], 0\n",
    "for episode in range(1, 11):\n",
    "    rew, wait = 0, 0\n",
    "    s = env.reset()                        \n",
    "    for t in range(1, 5001):       \n",
    "        a = policy(s)                 \n",
    "        s, r, done, _ = env.step(a) \n",
    "        rew += r\n",
    "        \n",
    "        if done:\n",
    "            last = rew\n",
    "\n",
    "        frame = env.render(mode='rgb_array') \n",
    "        frame = render_frame(frame, f\"a=int(s[2]>0) Episode:{episode:2d}, t:{t:5d}, <reward>=42.2 [24... 72]\")\n",
    "        frames.append(frame)\n",
    "    \n",
    "        if done:    \n",
    "            wait += 1\n",
    "            if wait > 100:\n",
    "                break                \n",
    "\n",
    "imageio.mimwrite(\"render.mp4\", frames, fps=60)            \n",
    "env.close()"
   ]
  },
  {
   "cell_type": "markdown",
   "id": "fafd438e",
   "metadata": {},
   "source": [
    "# Value function\n",
    "## Create data: (s0,s1,r1,dn)"
   ]
  },
  {
   "cell_type": "code",
   "execution_count": 216,
   "id": "2945ea66",
   "metadata": {},
   "outputs": [
    {
     "name": "stdout",
     "output_type": "stream",
     "text": [
      "rew : 95.42 ± 1.87 \n",
      "torch.Size([1867, 4]) torch.Size([1867, 1])\n",
      "tensor(0.) tensor(1.) tensor(874)\n"
     ]
    }
   ],
   "source": [
    "import torch\n",
    "import torch.nn as nn\n",
    "\n",
    "def policy(s, epsilon=0.5):\n",
    "    if np.random.random() < epsilon:            \n",
    "        return np.random.randint(2)    # random action    \n",
    "    return int( s[0]+s[1]+3*s[2]+s[3] > 0)   \n",
    "\n",
    "def MonteCarlo(episodes=1000, ticks=200):\n",
    "    S0, S1, R1, Dn = [], [], [], []\n",
    "    rews = []\n",
    "    for episode in range(episodes):\n",
    "        s0 = env.reset()    \n",
    "        a0 = policy(s0)\n",
    "        rew = 0\n",
    "        for t in range(1, ticks+1):\n",
    "            s1, r1, done, _ = env.step(a0)        \n",
    "            a1 = policy(s1)\n",
    "            rew += r1            \n",
    "            dn = 1.-float(done and t < ticks)\n",
    "            if dn == 0 or np.random.random() < 0.01:\n",
    "                S0.append(s0); S1.append(s1); R1.append([r1]);\n",
    "                Dn.append( [ dn ] )\n",
    "            if done:\n",
    "                break\n",
    "            s0, a0 = s1, a1\n",
    "            \n",
    "        rews.append(rew)\n",
    "    print(f\"rew : {np.mean(rews):.2f} ± {np.std(rews)/len(rews)**0.5:.2f} \")\n",
    "    return torch.tensor(S0, dtype=torch.float32), torch.tensor(S1, dtype=torch.float32), \\\n",
    "           torch.tensor(R1, dtype=torch.float32), torch.tensor(Dn, dtype=torch.float32),\n",
    "\n",
    "\n",
    "S0, S1, R1, Dn = MonteCarlo()\n",
    "print(S0.shape, R1.shape)\n",
    "print(Dn.min(), Dn.max(), torch.sum(Dn == 0))\n",
    "\n",
    "gpu =torch.device(\"cuda:0\" if torch.cuda.is_available() else \"cpu\")\n",
    "S0 = S0.to(gpu); S1 = S1.to(gpu); R1 = R1.to(gpu); Dn = Dn.to(gpu)"
   ]
  },
  {
   "cell_type": "markdown",
   "id": "201736b1",
   "metadata": {},
   "source": [
    "## Learn model"
   ]
  },
  {
   "cell_type": "code",
   "execution_count": 223,
   "id": "48db7c4e",
   "metadata": {},
   "outputs": [],
   "source": [
    "model = nn.Sequential(\n",
    "            nn.Linear(4, 512),\n",
    "            nn.ReLU(),\n",
    "            nn.Linear(512, 256),    \n",
    "            nn.ReLU(),\n",
    "            nn.Linear(256, 1) )\n",
    "\n",
    "model = model.to(gpu)"
   ]
  },
  {
   "cell_type": "code",
   "execution_count": 241,
   "id": "fc980d23",
   "metadata": {},
   "outputs": [],
   "source": [
    "loss      = nn.MSELoss()\n",
    "#optimizer = torch.optim.SGD(model.parameters(), lr=0.01, momentum=0.8)     \n",
    "optimizer = torch.optim.Adam(model.parameters(), lr=0.00001)     "
   ]
  },
  {
   "cell_type": "code",
   "execution_count": 225,
   "id": "05eb7fc9",
   "metadata": {},
   "outputs": [],
   "source": [
    "def fit(model, S0,S1,R1,Dn, batch_size=256):        \n",
    "    sumL, sumA, numB = 0, 0, int( len(S0)/batch_size )\n",
    "       \n",
    "    idx = torch.randperm( len(S0) )     # перемешанный список индексов\n",
    "    S0, S1, R1, Dn = S0[idx], S1[idx], R1[idx], Dn[idx]\n",
    "    \n",
    "    for i in range(0, numB*batch_size, batch_size):          \n",
    "        s0, s1, r1, dn = S0[i: i+batch_size], S1[i: i+batch_size], R1[i: i+batch_size], Dn[i: i+batch_size]\n",
    "                      \n",
    "        V0 = model(s0)\n",
    "        V1 = model(s1)\n",
    "        L = loss(r1+V1*dn, V0)          # Bellman equation                        \n",
    "                         \n",
    "        optimizer.zero_grad()                        \n",
    "        L.backward()                                 \n",
    "        optimizer.step()                             \n",
    "                                     \n",
    "        sumL += L.item()                                         \n",
    "         \n",
    "    return sumL/numB"
   ]
  },
  {
   "cell_type": "code",
   "execution_count": null,
   "id": "81fb69d2",
   "metadata": {},
   "outputs": [],
   "source": [
    "epochs = 100000                                \n",
    "for epoch in range(1,epochs+1):                    \n",
    "    L = fit(model, S0, S1, R1, Dn)           \n",
    "    if epoch % 100 == 0 or epoch == epochs-1:                 \n",
    "        print(f'\\repoch: {epoch:5d} loss: {L:.6f}', end=\"\") "
   ]
  },
  {
   "cell_type": "code",
   "execution_count": 173,
   "id": "fd96b80d",
   "metadata": {},
   "outputs": [
    {
     "name": "stdout",
     "output_type": "stream",
     "text": [
      "tensor([-8.5099])\n"
     ]
    }
   ],
   "source": [
    "S = torch.tensor([0.5, 0.4, -0.5, 0.1], dtype=torch.float32)\n",
    "with torch.no_grad():        \n",
    "    V = model(S)\n",
    "print(V)"
   ]
  },
  {
   "cell_type": "markdown",
   "id": "f3aa6fce",
   "metadata": {},
   "source": [
    "## Obtaining a value matrix from a neural network"
   ]
  },
  {
   "cell_type": "code",
   "execution_count": 252,
   "id": "db7fa591",
   "metadata": {},
   "outputs": [
    {
     "name": "stdout",
     "output_type": "stream",
     "text": [
      "torch.Size([101, 101])\n",
      "tensor(-0.2875) tensor(239.5162)\n"
     ]
    },
    {
     "data": {
      "image/png": "[encoded data removed]",
      "text/plain": [
       "<Figure size 432x288 with 1 Axes>"
      ]
     },
     "metadata": {
      "needs_background": "light"
     },
     "output_type": "display_data"
    }
   ],
   "source": [
    "import matplotlib.pyplot as plt\n",
    "\n",
    "bins  = 101\n",
    "low   = np.array([-5,-5,-5,-5])\n",
    "high  = np.array([ 5, 5, 5, 5])\n",
    "step  = (high-low)/(bins, bins, bins, bins)\n",
    "\n",
    "def V_table():    \n",
    "    res = np.empty(bins)\n",
    "    indx = torch.cartesian_prod(torch.arange(0, bins),                                 \n",
    "                                torch.arange(0, bins),\n",
    "                                torch.arange(50, 51),                                \n",
    "                                torch.arange(50, 51),\n",
    "                               )\n",
    "    \n",
    "    S = torch.tensor(low, dtype = torch.float32) + indx*torch.tensor(step, dtype = torch.float32)        \n",
    "    S = S.to(gpu)\n",
    "    with torch.no_grad():        \n",
    "        V = model(S)\n",
    "        \n",
    "    return V.view(bins, bins).cpu()\n",
    "\n",
    "V = V_table()\n",
    "print(V.shape)\n",
    "print(V.min(), V.max())\n",
    "\n",
    "plt.imshow(V.numpy().T, interpolation='none', origin='lower', cmap='seismic', alpha=0.5)\n",
    "plt.show()"
   ]
  },
  {
   "cell_type": "code",
   "execution_count": 249,
   "id": "97fa1375",
   "metadata": {},
   "outputs": [
    {
     "data": {
      "text/plain": [
       "<matplotlib.image.AxesImage at 0x1eb0bdaeaf0>"
      ]
     },
     "execution_count": 249,
     "metadata": {},
     "output_type": "execute_result"
    },
    {
     "data": {
      "image/png": "[encoded data removed]",
      "text/plain": [
       "<Figure size 432x288 with 1 Axes>"
      ]
     },
     "metadata": {
      "needs_background": "light"
     },
     "output_type": "display_data"
    }
   ],
   "source": [
    "\n",
    "\n"
   ]
  }
 ],
 "metadata": {
  "kernelspec": {
   "display_name": "Python 3 (ipykernel)",
   "language": "python",
   "name": "python3"
  },
  "language_info": {
   "codemirror_mode": {
    "name": "ipython",
    "version": 3
   },
   "file_extension": ".py",
   "mimetype": "text/x-python",
   "name": "python",
   "nbconvert_exporter": "python",
   "pygments_lexer": "ipython3",
   "version": "3.8.10"
  }
 },
 "nbformat": 4,
 "nbformat_minor": 5
}
