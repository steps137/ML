{
 "cells": [
  {
   "cell_type": "markdown",
   "metadata": {
    "id": "pY6a4qzQSXzx"
   },
   "source": [
    "# Approximation Policy Function in the MountainCar problem\n",
    "## Neural network with three output (with softmax)"
   ]
  },
  {
   "cell_type": "code",
   "execution_count": null,
   "metadata": {
    "id": "KN1DnCqwSrW0"
   },
   "outputs": [],
   "source": [
    "def dataset():\n",
    "    X, Y = [], []\n",
    "    pi = solver.pi\n",
    "    for ix in range(1, solver.bins[0]-1):\n",
    "        for iv in range(1, solver.bins[1]-1):\n",
    "            a = pi[ix, iv]\n",
    "            if a != -1:                \n",
    "                  X.append( solver.state((ix, iv)).tolist() )\n",
    "                  Y.append( int(pi[ix, iv]) )\n",
    "    return X, Y\n"
   ]
  },
  {
   "cell_type": "code",
   "execution_count": null,
   "metadata": {
    "colab": {
     "base_uri": "https://localhost:8080/"
    },
    "executionInfo": {
     "elapsed": 35111,
     "status": "ok",
     "timestamp": 1654375535226,
     "user": {
      "displayName": "Sergey Stepanov",
      "userId": "11972621437342649150"
     },
     "user_tz": -180
    },
    "id": "LmOYKi3ne88d",
    "outputId": "7f24539d-e6ba-4563-e548-dc77ff30a3df"
   },
   "outputs": [],
   "source": [
    "solver.prev, solver.next = [], []    # clear memory\n",
    "\n",
    "X, Y = dataset()\n",
    "X, Y = torch.tensor(X, dtype=torch.float32), torch.tensor(Y, dtype=torch.int64)\n",
    "\n",
    "print(X[-3:])\n",
    "print(Y[-3:])\n",
    "\n",
    "print(torch.min(Y), torch.max(Y), len(Y), torch.sum(Y == 1.), torch.sum( Y == 0.))"
   ]
  },
  {
   "cell_type": "code",
   "execution_count": null,
   "metadata": {
    "colab": {
     "base_uri": "https://localhost:8080/"
    },
    "executionInfo": {
     "elapsed": 372,
     "status": "ok",
     "timestamp": 1654375535595,
     "user": {
      "displayName": "Sergey Stepanov",
      "userId": "11972621437342649150"
     },
     "user_tz": -180
    },
    "id": "CAVwEAGoUABK",
    "outputId": "7efb7ddb-0ec0-4704-e6cf-ea3ebdd7f93b"
   },
   "outputs": [],
   "source": [
    "import torch\n",
    "import torch.nn as nn\n",
    "\n",
    "gpu = torch.device(\"cuda:0\" if torch.cuda.is_available() else \"cpu\")\n",
    "print(gpu)"
   ]
  },
  {
   "cell_type": "markdown",
   "metadata": {
    "id": "fzt7zQaeZ--z"
   },
   "source": [
    "## Network architecture"
   ]
  },
  {
   "cell_type": "code",
   "execution_count": null,
   "metadata": {
    "colab": {
     "base_uri": "https://localhost:8080/"
    },
    "executionInfo": {
     "elapsed": 10737,
     "status": "ok",
     "timestamp": 1654375546331,
     "user": {
      "displayName": "Sergey Stepanov",
      "userId": "11972621437342649150"
     },
     "user_tz": -180
    },
    "id": "KaCpUTeKUER5",
    "outputId": "f00741c1-6812-4394-dfd6-02c41809b54a"
   },
   "outputs": [],
   "source": [
    "nH = [32, 64]\n",
    "model = nn.Sequential(\n",
    "           nn.Linear(2, nH[0]),    \n",
    "           nn.ReLU(),      \n",
    "           nn.Linear(nH[0], nH[1]),  \n",
    "           nn.ReLU(),         \n",
    "           nn.Linear(nH[1], 3),  \n",
    "           )      \n",
    "model.to(gpu) \n",
    "print(gpu)"
   ]
  },
  {
   "cell_type": "code",
   "execution_count": null,
   "metadata": {
    "colab": {
     "base_uri": "https://localhost:8080/"
    },
    "executionInfo": {
     "elapsed": 248,
     "status": "ok",
     "timestamp": 1654376379578,
     "user": {
      "displayName": "Sergey Stepanov",
      "userId": "11972621437342649150"
     },
     "user_tz": -180
    },
    "id": "VJ2r6xSNUaMx",
    "outputId": "bf574277-4265-498f-f07f-9bbe6f716526"
   },
   "outputs": [],
   "source": [
    "loss      = nn.CrossEntropyLoss()\n",
    "optimizer = torch.optim.SGD(model.parameters(),   lr=0.1, momentum=0.8) \n",
    "#optimizer = torch.optim.Adam(model.parameters(), lr=0.1 )\n",
    "\n",
    "gpu = torch.device(\"cuda:0\" if torch.cuda.is_available() else \"cpu\")\n",
    "\n",
    "X = X.to(gpu)\n",
    "Y = Y.to(gpu)\n",
    "\n",
    "print(X.shape, Y.shape)\n",
    "print(X.device, Y.device)"
   ]
  },
  {
   "cell_type": "code",
   "execution_count": null,
   "metadata": {
    "id": "XxQvGp9fU9sz"
   },
   "outputs": [],
   "source": [
    "def fit(model, X,Y, batch_size=1000, train=True):          \n",
    "      model.train(train)                                 \n",
    "      sumL, sumA, numB = 0, 0, int( len(X)/batch_size )  \n",
    "       \n",
    "      idx = torch.randperm( len(X) ).to(gpu)             \n",
    "      X, Y = X[idx], Y[idx]      \n",
    "\n",
    "      for i in range(0, numB*batch_size, batch_size):          \n",
    "          xb = X[i: i+batch_size]                        \n",
    "          yb = Y[i: i+batch_size]                        \n",
    "              \n",
    "          y = model(xb)                                  \n",
    "          L = loss(y, yb)                                \n",
    "  \n",
    "          if train:                                      \n",
    "              optimizer.zero_grad()                      \n",
    "              L.backward()                               \n",
    "              optimizer.step()                           \n",
    "                                     \n",
    "          sumL += L.detach().item()                       \n",
    "          a = torch.argmax( torch.softmax(y.detach(), 1), 1 )\n",
    "          sumA += (a == yb).float().mean()                \n",
    "         \n",
    "      return sumL/numB,  sumA/numB                        "
   ]
  },
  {
   "cell_type": "code",
   "execution_count": null,
   "metadata": {
    "colab": {
     "base_uri": "https://localhost:8080/",
     "height": 658
    },
    "executionInfo": {
     "elapsed": 955393,
     "status": "error",
     "timestamp": 1654377338314,
     "user": {
      "displayName": "Sergey Stepanov",
      "userId": "11972621437342649150"
     },
     "user_tz": -180
    },
    "id": "kGqGfADQVORw",
    "outputId": "fde0a1b2-b8a2-4a76-eb5e-c975ef967541"
   },
   "outputs": [],
   "source": [
    "import time\n",
    "model.to(gpu)\n",
    "print( \"before:      loss: %.3e accuracy: %.4f\" %  fit(model, X,Y, train=False) )\n",
    " \n",
    "beg = time.process_time()\n",
    "epochs = 1000                                             \n",
    "for epoch in range(epochs):                               \n",
    "    L,A = fit(model, X, Y, batch_size=1000)               \n",
    "      \n",
    "    if (epoch and epoch % 10 == 0) or epoch == epochs-1:  \n",
    "        print(f\"epoch: {epoch:5d} loss: {L:.3e} accuracy: {A:.4f}   {time.process_time()-beg:.2f}s\")   \n",
    "        beg = time.process_time()"
   ]
  },
  {
   "cell_type": "code",
   "execution_count": null,
   "metadata": {
    "colab": {
     "base_uri": "https://localhost:8080/"
    },
    "executionInfo": {
     "elapsed": 15989,
     "status": "ok",
     "timestamp": 1654376276042,
     "user": {
      "displayName": "Sergey Stepanov",
      "userId": "11972621437342649150"
     },
     "user_tz": -180
    },
    "id": "QxLu8jGmq6lA",
    "outputId": "60c35ccd-8c57-4046-89fe-88d34f57c264"
   },
   "outputs": [],
   "source": [
    "def table(model, bins = (101, 101)):    \n",
    "    pi = np.empty(bins)\n",
    "    step = (solver.env.high-solver.env.low)/bins\n",
    "    X = torch.empty((bins[0]*bins[1], 2), dtype=torch.float32)\n",
    "    i = 0\n",
    "    for ix in range(bins[0]):\n",
    "        for iv in range(bins[1]):\n",
    "            X[i] = torch.tensor(solver.env.low + (ix, iv)*step, dtype=torch.float32)\n",
    "            i += 1\n",
    "\n",
    "    print(\"model calc\")\n",
    "    with torch.no_grad():\n",
    "        Y = model(torch.tensor(X, dtype=torch.float32))\n",
    "        A = torch.argmax( torch.softmax(Y.detach(), 1), 1 )\n",
    "    print(\"X:\", X.shape, \"Y:\", Y.shape, \"A:\", A.shape)\n",
    "    \n",
    "    i, cnt = 0, 0\n",
    "    for ix in range(bins[0]):\n",
    "        for iv in range(bins[1]):            \n",
    "            #probs = torch.softmax(Y[i], 0).numpy()     \n",
    "            #pi[ix, iv] = np.random.choice([0,1,2], p=probs)  \n",
    "            pi[ix, iv] = A[i]\n",
    "            i += 1\n",
    "\n",
    "        print(f\"\\rPolicy : {ix*100./bins[0]:3.0f}%\", end=\"\")\n",
    "    return pi\n",
    "\n",
    "\n",
    "pi = table(model.cpu(), (1001, 1001))"
   ]
  },
  {
   "cell_type": "code",
   "execution_count": null,
   "metadata": {
    "colab": {
     "base_uri": "https://localhost:8080/",
     "height": 930
    },
    "executionInfo": {
     "elapsed": 720,
     "status": "ok",
     "timestamp": 1654376281532,
     "user": {
      "displayName": "Sergey Stepanov",
      "userId": "11972621437342649150"
     },
     "user_tz": -180
    },
    "id": "uzDNv0gp-LL0",
    "outputId": "b672c03a-ed05-49e0-bd5b-b84b4c3dd04e"
   },
   "outputs": [],
   "source": [
    "plot(pi, 'Policy function', d_ticks=100, bins = (1001, 1001))"
   ]
  },
  {
   "cell_type": "code",
   "execution_count": null,
   "metadata": {
    "colab": {
     "base_uri": "https://localhost:8080/",
     "height": 372
    },
    "executionInfo": {
     "elapsed": 36297,
     "status": "error",
     "timestamp": 1654330808573,
     "user": {
      "displayName": "Sergey Stepanov",
      "userId": "11972621437342649150"
     },
     "user_tz": -180
    },
    "id": "CrRf6AAsLRlT",
    "outputId": "7ad39283-4f50-47cf-aafe-2babb5940f66"
   },
   "outputs": [],
   "source": [
    "def test(model, episodes = 10000, ticks=200, level = 0.05):\n",
    "    env = gym.make(\"MountainCar-v0\")\n",
    "    rews = []\n",
    "    for episode in range(episodes):\n",
    "        obs =  env.reset()\n",
    "        tot = 0\n",
    "        for _ in range(ticks):\n",
    "            with torch.no_grad():\n",
    "                y = model(torch.tensor(obs, dtype=torch.float32))\n",
    "                a = torch.argmax( torch.softmax(y, 0), 0 )\n",
    "            action = a.item()\n",
    "\n",
    "            obs, rew, done, _ = env.step(action)\n",
    "            tot += rew\n",
    "\n",
    "            if done:\n",
    "                break\n",
    "\n",
    "        rews.append(tot)\n",
    "        if episode and episode % 100 == 0:\n",
    "            mean, std = np.mean(rews), np.std(rews)\n",
    "            print(f\"\\r{episode:5d}:  Reward: {mean:7.2f} ± {std/len(rews)**0.5:.1f}, std: {std:.0f}, min: {np.min(rews):.0f}  max: {np.max(rews):.0f}\", end=\"\")  \n",
    "\n",
    "    mean, std = np.mean(rews), np.std(rews)\n",
    "    print(f\"\\r{episode:5d}:  Reward: {mean:7.2f} ± {std/len(rews)**0.5:.1f}, std: {std:.0f}, min: {np.min(rews):.0f}  max: {np.max(rews):.0f}\")  \n",
    "            \n",
    "    \n",
    "test(model, level = 0.05)"
   ]
  },
  {
   "cell_type": "code",
   "execution_count": null,
   "metadata": {
    "id": "x87PkOvwys9E"
   },
   "outputs": [],
   "source": [
    "import datetime\n",
    "  \n",
    "state = {'info':      \"MountainCar\",            # описание\n",
    "         'date':      datetime.datetime.now(),   # дата и время\n",
    "         'model' :    model.state_dict(),        # параметры модели\n",
    "         'optimizer': optimizer.state_dict()}    # состояние оптимизатора\n",
    " \n",
    "torch.save(state, 'MountainCar_16_32_soft.9980.99.pt')                    # сохраняем файл"
   ]
  }
 ],
 "metadata": {
  "accelerator": "GPU",
  "colab": {
   "authorship_tag": "ABX9TyOyGWMPaQF6awvPPhmsY9JG",
   "collapsed_sections": [],
   "name": "MountainCar-Solution_Softmax.ipynb",
   "provenance": []
  },
  "kernelspec": {
   "display_name": "Python 3 (ipykernel)",
   "language": "python",
   "name": "python3"
  },
  "language_info": {
   "codemirror_mode": {
    "name": "ipython",
    "version": 3
   },
   "file_extension": ".py",
   "mimetype": "text/x-python",
   "name": "python",
   "nbconvert_exporter": "python",
   "pygments_lexer": "ipython3",
   "version": "3.8.10"
  }
 },
 "nbformat": 4,
 "nbformat_minor": 1
}
