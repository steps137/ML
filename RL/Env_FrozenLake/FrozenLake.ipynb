{
 "cells": [
  {
   "cell_type": "markdown",
   "id": "f01347b7",
   "metadata": {},
   "source": [
    "# Frozen Lake\n",
    "\n",
    "\n",
    "## Import libraries and create an environment"
   ]
  },
  {
   "cell_type": "code",
   "execution_count": 1,
   "id": "c039ceaa",
   "metadata": {},
   "outputs": [],
   "source": [
    "import math\n",
    "import io\n",
    "from   PIL import Image, ImageDraw, ImageFont\n",
    "import imageio\n",
    "\n",
    "import numpy as np\n",
    "import matplotlib.pyplot as plt\n",
    "from   matplotlib.colors import Colormap, ListedColormap\n",
    "import seaborn as sns\n",
    "\n",
    "import gym                                            # OpenAI Gym library\n",
    "env = gym.make(\"FrozenLake-v1\")                       # create an environment"
   ]
  },
  {
   "cell_type": "markdown",
   "id": "66a0384a",
   "metadata": {},
   "source": [
    "## Environment properties"
   ]
  },
  {
   "cell_type": "code",
   "execution_count": 2,
   "id": "0395b1ec",
   "metadata": {},
   "outputs": [
    {
     "name": "stdout",
     "output_type": "stream",
     "text": [
      "space:  Discrete(16) count: 16\n",
      "actions Discrete(4)  count: 4\n",
      "start obs: 0\n",
      "\n",
      "\u001b[41mS\u001b[0mFFF\n",
      "FHFH\n",
      "FFFH\n",
      "HFFG\n"
     ]
    }
   ],
   "source": [
    "print(\"space: \", env.observation_space, end=\" \")     # observation space\n",
    "print(\"count:\",  env.observation_space.n)\n",
    "\n",
    "print(\"actions\", env.action_space, end=\"  \")         # action space\n",
    "print(\"count:\",  env.action_space.n)                 # number of actions, type\n",
    "\n",
    "print('start obs:', env.reset() )                    # initial observation on the system\n",
    "env.render()"
   ]
  },
  {
   "cell_type": "code",
   "execution_count": null,
   "id": "77552774",
   "metadata": {},
   "outputs": [],
   "source": [
    "env.P[2] "
   ]
  },
  {
   "cell_type": "markdown",
   "id": "3f9a8297",
   "metadata": {},
   "source": [
    "## Actions\n",
    "**obs** = row * ncols + col;   **start** = 0,  **goal** = 15 (4x4)<br>\n",
    "**actions**: 0: LEFT,  1: DOWN, 2: RIGHT, 3: UP;\n",
    "<pre>\n",
    "<b>S</b>...              3              \n",
    ".H.H             0 2             \n",
    "...H              1              \n",
    "H..<b>G</b>\n",
    "</pre>\n",
    "Disable sliding and consider several trajectories on the map. "
   ]
  },
  {
   "cell_type": "code",
   "execution_count": 3,
   "id": "3c4e0848",
   "metadata": {},
   "outputs": [
    {
     "name": "stdout",
     "output_type": "stream",
     "text": [
      "   0\n",
      "\n",
      "\u001b[41mS\u001b[0mFFF\n",
      "FHFH\n",
      "FFFH\n",
      "HFFG\n",
      "\n",
      "\u001b[41mS\u001b[0mFFF\n",
      "FHFH\n",
      "FFFH\n",
      "HFFG\n",
      "\n",
      "\u001b[41mS\u001b[0mFFF\n",
      "FHFH\n",
      "FFFH\n",
      "HFFG\n",
      "\n",
      "\u001b[41mS\u001b[0mFFF\n",
      "FHFH\n",
      "FFFH\n",
      "HFFG\n",
      "\n",
      "\u001b[41mS\u001b[0mFFF\n",
      "FHFH\n",
      "FFFH\n",
      "HFFG\n",
      "\n",
      "\u001b[41mS\u001b[0mFFF\n",
      "FHFH\n",
      "FFFH\n",
      "HFFG\n"
     ]
    }
   ],
   "source": [
    "env = gym.make(\"FrozenLake-v1\", is_slippery=False)  \n",
    "print(\"  \", env.reset())\n",
    "for a in [1,1,2,2,1,2]:\n",
    "    #print(a, env.step(a))    \n",
    "    env.render()"
   ]
  },
  {
   "cell_type": "markdown",
   "id": "752aae47",
   "metadata": {},
   "source": [
    "## Preparation for training"
   ]
  },
  {
   "cell_type": "code",
   "execution_count": 4,
   "id": "4177c34b",
   "metadata": {},
   "outputs": [],
   "source": [
    "env = gym.make(\"FrozenLake-v1\", is_slippery=True)  \n",
    "\n",
    "def policy(s):\n",
    "    \"\"\" epsilon-greedy policy function \"\"\"            \n",
    "    #return [0, 3, 3, 3, 0, 0, 0, 0, 3, 1, 0, 0, 0, 2, 1, 0][s]            \n",
    "    if np.random.random() < epsilon:\n",
    "        return np.random.randint(env.action_space.n)\n",
    "    return np.argmax(Q[s])\n",
    "          \n",
    "def test(episodes=1000, ticks=1000):    \n",
    "    print(\"\\nStart Policy Testing...\")     \n",
    "    steps1, steps2, rews = [], [], []\n",
    "    for _ in range(episodes):\n",
    "        s = env.reset()        \n",
    "        tot = 0\n",
    "        for t in range(1,ticks+1):\n",
    "            s, r, done, _ = env.step( policy(s) )                                    \n",
    "            tot += r\n",
    "            if done:\n",
    "                if r:                    \n",
    "                    steps1.append(t)\n",
    "                else:\n",
    "                    steps2.append(t)\n",
    "                break           \n",
    "        rews.append(tot)\n",
    "        if t == ticks and r == 0:\n",
    "            print(\"Too long episode\")\n",
    "    steps1 = steps1 or [0]\n",
    "    steps2 = steps2 or [0]\n",
    "    print(f\"{episodes:4d} rew: {np.mean(rews):5.3f} ± {np.std(rews)/len(rews)**0.5:5.3f} steps ok: {np.mean(steps1):4.1f} ± {np.std(steps1)/len(steps1)**0.5:3.1f}  steps wrong: {np.mean(steps2):4.1f} ± {np.std(steps2)/len(steps2)**0.5:3.1f}\" )    "
   ]
  },
  {
   "cell_type": "markdown",
   "id": "152acf09",
   "metadata": {},
   "source": [
    "## Q-learning\n",
    "```\n",
    "episodes, stat = 10000, 100\n",
    "reward:      params:\n",
    "0.74 ± 0.01  {'lm': 0.1, 'gamma': 0.99, 'eps1': 1.0, 'eps2': 0.001, 'decays': 5000}\n",
    "0.33 ± 0.01  {'lm': 0.1, 'gamma': 1,    'eps1': 1.0, 'eps2': 0.001, 'decays': 1000}\n",
    "``` \n",
    "With `gamma = 1`, the method is unstable. Very sensitive to decays."
   ]
  },
  {
   "cell_type": "code",
   "execution_count": 5,
   "id": "09f57029",
   "metadata": {},
   "outputs": [],
   "source": [
    "def run_episode(ticks=1000):     \n",
    "    rew = 0                              # total reward\n",
    "    s0 = env.reset()                     # start state\n",
    "    for t in range(1, ticks+1):          # limit time\n",
    "        a0 = policy(s0)                  # choose an action\n",
    "        s1, r1, done, _ = env.step(a0)   # do it\n",
    "                \n",
    "        TD = r1 + CFG['gamma']*np.max(Q[s1]) - Q[s0, a0]\n",
    "        Q[s0, a0] +=  CFG['lm'] * TD        \n",
    "        \n",
    "        rew += r1                        # accumulating a reward\n",
    "        if done:                         \n",
    "            return rew, r1,  t           # terminal state\n",
    "            \n",
    "        s0 = s1                          # otherwise we continue\n",
    "        \n",
    "    print(\"Too long episode\")\n",
    "    return tot_rew, 0, t              "
   ]
  },
  {
   "cell_type": "markdown",
   "id": "b827538b",
   "metadata": {},
   "source": [
    "## SARSA\n",
    "```\n",
    "episodes, stat = 10000, 100\n",
    "reward:      params:\n",
    "0.74 ± 0.01  {'lm': 0.1,  'gamma': 0.99, 'eps1': 1.0, 'eps2': 0.001, 'decays': 5000}\n",
    "0.18 ± 0.01  {'lm': 0.1,  'gamma': 0.99, 'eps1': 1.0, 'eps2': 0.001, 'decays': 1000}\n",
    "0.08 ± 0.01  {'lm': 0.01, 'gamma': 0.99, 'eps1': 1.0, 'eps2': 0.001, 'decays': 5000}\n",
    "```\n",
    "With `gamma = 1`, the method is unstable. Very sensitive to `decays`."
   ]
  },
  {
   "cell_type": "code",
   "execution_count": null,
   "id": "475c7a40",
   "metadata": {},
   "outputs": [],
   "source": [
    "def run_episode(ticks=1000):\n",
    "    tot_rew = 0\n",
    "    s0 = env.reset()\n",
    "    a0 = policy(s0)\n",
    "    for t in range(ticks):                \n",
    "        s1, r1, done, _ = env.step(a0)\n",
    "        a1 = policy(s1)\n",
    "                \n",
    "        g = r1 + CFG['gamma'] * Q[s1, a1] -  Q[s0, a0]\n",
    "        Q[s0, a0] +=  CFG['lm'] * g        \n",
    "        \n",
    "        tot_rew += r1\n",
    "        if done:           \n",
    "            return tot_rew, r1,  t\n",
    "            \n",
    "        s0, a0 = s1, a1\n",
    "        \n",
    "    print(\"Too long episode\")\n",
    "    return tot_rew, 0, t              "
   ]
  },
  {
   "cell_type": "markdown",
   "id": "eafe22ec",
   "metadata": {},
   "source": [
    "## Run learning"
   ]
  },
  {
   "cell_type": "code",
   "execution_count": 9,
   "id": "73f5150c",
   "metadata": {},
   "outputs": [
    {
     "name": "stderr",
     "output_type": "stream",
     "text": [
      "<timed exec>:11: RuntimeWarning: divide by zero encountered in double_scalars\n"
     ]
    },
    {
     "name": "stdout",
     "output_type": "stream",
     "text": [
      "{'lm': 0.1, 'gamma': 0.99, 'eps1': 1.0, 'eps2': 0.01, 'decays': 0}\n",
      "10000  rew: 0.000 ± 0.000  [0.00,0.00], steps:   0.0 ± 0.0 [0,0],  Q: 0.00 ± 0.00 [0.00,0.00], eps: 0.000\n",
      "Start Policy Testing...\n",
      "1000 rew: 0.000 ± 0.000 steps ok:  0.0 ± 0.0  steps wrong: 17.8 ± 0.4\n",
      "CPU times: total: 2.94 s\n",
      "Wall time: 2.87 s\n"
     ]
    }
   ],
   "source": [
    "%%time\n",
    "\n",
    "Q = np.zeros((env.observation_space.n, env.action_space.n))\n",
    "\n",
    "CFG = {\n",
    "    'lm'    : 0.1,      # learning rate\n",
    "    'gamma' : 0.99,     # discount rate\n",
    "    'eps1'  : 1.0,      # start epsilon\n",
    "    'eps2'  : 0.01,     # finish epsilon before 0\n",
    "    'decays': 5000,     # episodes of decay\n",
    "}\n",
    "epsilon = CFG['eps1']\n",
    "decay   = np.exp(np.log(CFG['eps2']/CFG['eps1'])/CFG['decays'])\n",
    "\n",
    "print(CFG)\n",
    "steps, rews, history, frames = [], [], [], []\n",
    "\n",
    "episodes, stat = 10000, 100\n",
    "for episode in range(1,episodes+1):    \n",
    "    r, ok, t = run_episode()\n",
    "           \n",
    "    rews.append(r)\n",
    "    \n",
    "    epsilon *= decay\n",
    "    if epsilon < CFG['eps2']: epsilon = 0.\n",
    "    \n",
    "    #if episode in range(100,301) or episode == episodes or episode % 100 == 0:\n",
    "    #    add_frame(f\"episode:{episode:6d}  reward: {np.mean(rews):4.2f} ± {np.std(rews)/len(rews)**0.5:4.2f}  epsilon: {epsilon:.3f}  (c) QuData.com\")\n",
    "\n",
    "    steps = steps or [0]\n",
    "    history.append( [episode, np.mean(rews[-stat:]), np.mean(rews[-1000:])] )\n",
    "    \n",
    "    if episode % stat == 0 or episode == episodes:\n",
    "        print(\"\\r%5d  rew: %5.3f ± %5.3f  [%.2f,%.2f], steps: %5.1f ± %3.1f [%.0f,%.0f],  Q: %4.2f ± %4.2f [%.2f,%.2f], eps: %5.3f\" \n",
    "              % (episode,\n",
    "                 np.mean(rews[-stat:]),   np.std(rews[-stat:]) /stat **0.5,  np.min(rews[-stat:]),  np.max(rews[-stat:]),                                \n",
    "                 np.mean(steps[-stat:]),  np.std(steps[-stat:])  /stat  **0.5, np.min(steps[-stat:]),   np.max(steps[-stat:]),                         \n",
    "                 np.mean(Q[-stat:]),      np.std(Q[-stat:]),  np.min(Q[-stat:]), np.max(Q[-stat:]),\n",
    "                 epsilon), end=\"\")\n",
    "            \n",
    "test()"
   ]
  },
  {
   "cell_type": "code",
   "execution_count": 10,
   "id": "5f247072",
   "metadata": {},
   "outputs": [
    {
     "data": {
      "text/plain": [
       "<Figure size 864x720 with 0 Axes>"
      ]
     },
     "metadata": {},
     "output_type": "display_data"
    },
    {
     "data": {
      "image/png": "[encoded data removed]",
      "text/plain": [
       "<Figure size 432x288 with 1 Axes>"
      ]
     },
     "metadata": {
      "needs_background": "light"
     },
     "output_type": "display_data"
    }
   ],
   "source": [
    "history = np.array(history)\n",
    "pars = [ f\"{k:8s}: {v}\\n\" for k,v in CFG.items()]\n",
    "plt.figure(figsize=(12,10))  \n",
    "fig, ax = plt.subplots()\n",
    "ax.set( ylim=(0., 0.9) )\n",
    "plt.rcParams.update({'font.size': 12})\n",
    "plt.title(f'Frozen Lake Q-learning: reward={np.mean(rews[-stat:]):.2f} ± {np.std(rews[-stat:]) /stat **0.5:.2f}')\n",
    "plt.xlabel('episode');  plt.ylabel('reward');\n",
    "plt.plot(history[:,0], history[:,1], color=\"gray\",  linewidth=1)\n",
    "plt.plot(history[:,0], history[:,2], color=\"blue\",  linewidth=2)\n",
    "plt.grid(color='#CCCCCC', linestyle='--')\n",
    "plt.text(5000, 0, \"\".join(pars), {'fontsize':16, 'fontname':'monospace'})\n",
    "plt.show()"
   ]
  },
  {
   "cell_type": "markdown",
   "id": "051e3f36",
   "metadata": {},
   "source": [
    "## Transition probabilities"
   ]
  },
  {
   "cell_type": "code",
   "execution_count": null,
   "id": "d096ffe0",
   "metadata": {},
   "outputs": [],
   "source": [
    "terminals = [5, 7, 11, 12]\n",
    "for s1 in range(env.observation_space.n):\n",
    "    if s1 not in terminals:        \n",
    "        for a1 in range(env.action_space.n):\n",
    "            print(s1, '<v>^'[a1],end=\":\")\n",
    "            for p, s2, r, done in env.P[s1][a1]:        \n",
    "                print(f\" {s2:2d}({p:.2f},{r:.0f},{int(done)})\", end=\"; \")\n",
    "            print()\n",
    "        print()"
   ]
  },
  {
   "cell_type": "markdown",
   "id": "20fea993",
   "metadata": {},
   "source": [
    "## Visualization"
   ]
  },
  {
   "cell_type": "code",
   "execution_count": 4,
   "id": "66aafe78",
   "metadata": {},
   "outputs": [],
   "source": [
    "def plt_to_array(fig):\n",
    "    \"\"\" Get array from figure of plt \"\"\"\n",
    "    buf = io.BytesIO()\n",
    "    fig.savefig(buf, format='raw', dpi = 128)\n",
    "    buf.seek(0)\n",
    "    arr = np.reshape(np.frombuffer(buf.getvalue(), dtype=np.uint8),\n",
    "                     newshape=(int(fig.bbox.bounds[3]), int(fig.bbox.bounds[2]), -1))\n",
    "    buf.close()    \n",
    "    return arr\n",
    "\n",
    "def add_frame(text):    \n",
    "    \"\"\" Add frame to frames list \"\"\"\n",
    "    fig = plt.figure(figsize=(30,20), dpi = 128)    \n",
    "    plt.rcParams.update({'font.size': 28})\n",
    "    plt.suptitle(text)\n",
    "    for i in range(4):                    \n",
    "        plt.subplot(2, 3, [1,2,4,5][i])\n",
    "        plt.title (['Q(s,0) <','Q(s,1) v', 'Q(s,2) >', 'Q(s,3) ^'][i]) \n",
    "        sns.heatmap(Q[:, i].reshape(4,-1), \n",
    "                    annot=True, cbar=False, square=True, vmin=0, vmax=1., cmap=\"Greys\", fmt='.2g',\n",
    "                    xticklabels=False, yticklabels=False) \n",
    "        \n",
    "    plt.subplot(2, 3, 3)\n",
    "    plt.title('V(s)')\n",
    "    sns.heatmap(np.max(Q, axis=1).reshape(4,-1), \n",
    "                annot=True, cbar=False, square=True, vmin=0, vmax=1., cmap=\"Greys\", fmt='.2g',\n",
    "                xticklabels=False, yticklabels=False) \n",
    "\n",
    "    plt.subplot(2, 3, 6)\n",
    "    plt.title('policy')\n",
    "    p = np.argmax(Q, axis=1)\n",
    "    sns.heatmap(p.reshape(4,-1), \n",
    "                annot=True, cbar=False, square=True, vmin=0, vmax=3., cmap=\"Greys\", fmt='.0f',\n",
    "                xticklabels=False, yticklabels=False) \n",
    "              \n",
    "              \n",
    "    frames.append( plt_to_array(fig) )\n",
    "    plt.close()"
   ]
  },
  {
   "cell_type": "code",
   "execution_count": null,
   "id": "7730d05a",
   "metadata": {},
   "outputs": [],
   "source": [
    "test(10000)\n"
   ]
  },
  {
   "cell_type": "code",
   "execution_count": null,
   "id": "3d57e4be",
   "metadata": {},
   "outputs": [],
   "source": [
    "imageio.mimwrite(\"FrozenLake_Q-learning.mp4\", frames, fps=10)"
   ]
  },
  {
   "cell_type": "code",
   "execution_count": null,
   "id": "92f56bfe",
   "metadata": {},
   "outputs": [],
   "source": [
    "V = np.max(Q, axis=1)\n",
    "print(V.reshape(4,-1))\n",
    "\n",
    "pi = np.argmax(Q, axis=1)\n",
    "print(pi.reshape(4,-1))\n"
   ]
  },
  {
   "cell_type": "code",
   "execution_count": null,
   "id": "b6ad5303",
   "metadata": {},
   "outputs": [],
   "source": [
    "frames = []\n",
    "plotQ()"
   ]
  },
  {
   "cell_type": "markdown",
   "id": "e386f5cb",
   "metadata": {},
   "source": [
    "## Policy Iteration Algorithm\n",
    "1. **Policy evaluation**:\n",
    "$$\n",
    "V_{k+1}(s) = \\sum_{s',r'}  P(s',r'|s,\\alpha=\\pi(s))\\, \\bigr[r'+\\gamma\\,V_k(s')\\bigr]\n",
    "$$\n",
    "The in-place update assumes one $V(s)$ array, not two. This makes it even faster. We repeat until $V(s)$ stops changing.\n",
    "2. **Improving the policy**:\n",
    "$$\n",
    "\\pi(s) = \\arg\\max_a Q(s,a) =  \\arg\\max_a \\sum_{s',r'} P(s',r'|s,\\alpha) \\,\\bigr[r'+\\gamma\\,V_k(s')\\bigr]\n",
    "$$\n",
    "Repeat 1 again.\n",
    "\n",
    "Сhanged from: https://marcinbogdanski.github.io/rl-sketchpad/RL_An_Introduction_2018/0403_Policy_Iteration.html"
   ]
  },
  {
   "cell_type": "code",
   "execution_count": null,
   "id": "8aa34a9d",
   "metadata": {},
   "outputs": [],
   "source": [
    "def policy_iter(env, gamma, theta):\n",
    "    \"\"\"Policy Iteration Algorithm\n",
    "    \n",
    "    Params:\n",
    "        env - environment with following required memebers:\n",
    "            env.observation_space.n - number of states\n",
    "            env.action_space.n      - number of actions\n",
    "            env.P     - prob-transitions and rewards for all states and actions\n",
    "        gamma (float) - discount factor\n",
    "        theta (float) - termination condition\n",
    "    \"\"\"    \n",
    "    # 1. Initialization\n",
    "    V  = np.zeros(env.observation_space.n)\n",
    "    pi = np.zeros(env.observation_space.n, dtype=int)  # greedy, always pick action 0\n",
    "    \n",
    "    while True:\n",
    "        # 2. Policy Evaluation\n",
    "        while True:\n",
    "            delta = 0\n",
    "            for s in range(env.observation_space.n):\n",
    "                v = V[s]\n",
    "                V[s] = sum_sr(env, V=V, s=s, a=pi[s], gamma=gamma)\n",
    "                delta = max(delta, abs(v - V[s]))\n",
    "            if delta < theta: break\n",
    "\n",
    "        # 3. Policy Improvement\n",
    "        policy_stable = True\n",
    "        for s in range(env.observation_space.n):\n",
    "            old_action = pi[s]\n",
    "            pi[s] = np.argmax([sum_sr(env, V=V, s=s, a=a, gamma=gamma)  # list comprehension\n",
    "                               for a in range(env.action_space.n)])\n",
    "            if old_action != pi[s]: policy_stable = False\n",
    "        if policy_stable: break\n",
    "    \n",
    "    return V, pi\n",
    "\n",
    "def sum_sr(env, V, s, a, gamma):\n",
    "    \"\"\"Calc state-action value for state 's' and action 'a'\"\"\"\n",
    "    tmp = 0  # state value for state s\n",
    "    for p, s_, r, _ in env.P[s][a]:     # see note #1 !\n",
    "        # p  - transition probability from (s,a) to (s')\n",
    "        # s_ - next state (s')\n",
    "        # r  - reward on transition from (s,a) to (s')\n",
    "        tmp += p * (r + gamma * V[s_])\n",
    "    return tmp"
   ]
  },
  {
   "cell_type": "code",
   "execution_count": null,
   "id": "7ea9436d",
   "metadata": {},
   "outputs": [],
   "source": [
    "V, pi = policy_iter(env, gamma=1, theta=1e-8)\n",
    "print(V.reshape([4, -1]))\n",
    "print(pi)"
   ]
  }
 ],
 "metadata": {
  "kernelspec": {
   "display_name": "Python 3 (ipykernel)",
   "language": "python",
   "name": "python3"
  },
  "language_info": {
   "codemirror_mode": {
    "name": "ipython",
    "version": 3
   },
   "file_extension": ".py",
   "mimetype": "text/x-python",
   "name": "python",
   "nbconvert_exporter": "python",
   "pygments_lexer": "ipython3",
   "version": "3.8.10"
  }
 },
 "nbformat": 4,
 "nbformat_minor": 5
}
