{
 "cells": [
  {
   "cell_type": "markdown",
   "id": "680379c7",
   "metadata": {},
   "source": [
    "# Bipedal Walker\n",
    "\n",
    "\n",
    "Exploring the `BipedalWalker-v3` environment from the Open Gym \n",
    "\n",
    "## Import libraries and create an environment"
   ]
  },
  {
   "cell_type": "code",
   "execution_count": 4,
   "id": "0a463c80",
   "metadata": {},
   "outputs": [],
   "source": [
    "import math\n",
    "import numpy as np\n",
    "import gym                                        # OpenAI Gym library\n",
    "env = gym.make('BipedalWalker-v3')                # create an environment"
   ]
  },
  {
   "cell_type": "markdown",
   "id": "0a44bd37",
   "metadata": {},
   "source": [
    "## Show initial state\n",
    "\n",
    "- On Windows, the render window will pop up on top of the browser only if it is not maximized to full screen (**reduce the browser window**). \n",
    "- You can close the render window only by executing the command `env.close()`.\n"
   ]
  },
  {
   "cell_type": "code",
   "execution_count": 3,
   "id": "8467c8ec",
   "metadata": {},
   "outputs": [
    {
     "name": "stdout",
     "output_type": "stream",
     "text": [
      "obs: [ 2.74530193e-03  1.37775426e-05 -1.79651823e-03 -1.60000920e-02\n",
      "  9.25935879e-02  4.17050673e-03  8.59676287e-01 -1.91346246e-03\n",
      "  1.00000000e+00  3.28830518e-02  4.17034235e-03  8.53479117e-01\n",
      " -2.83762223e-03  1.00000000e+00  4.40813214e-01  4.45819318e-01\n",
      "  4.61421937e-01  4.89549309e-01  5.34101844e-01  6.02459908e-01\n",
      "  7.09147573e-01  8.85930181e-01  1.00000000e+00  1.00000000e+00]\n"
     ]
    }
   ],
   "source": [
    "obs = env.reset()                               # initial observation on the system\n",
    "env.render()                                    # render the environment\n",
    "\n",
    "print('obs:', obs) "
   ]
  },
  {
   "cell_type": "code",
   "execution_count": 3,
   "id": "790369a0",
   "metadata": {},
   "outputs": [],
   "source": [
    "env.close()                                     # сlose render window"
   ]
  },
  {
   "cell_type": "markdown",
   "id": "371a2eb2",
   "metadata": {},
   "source": [
    "## Environment properties\n",
    "\n",
    "In documentation  (!) for observation space:\n",
    "<pre>\n",
    "                     vx vy                                                   10 lidar rangefinder measurements\n",
    "  low:  `[-3.14 -5. -5. -5. -3.14 -5. -3.14 -5. -0. -3.14 -5. -3.14 -5. -0. -1. -1. -1. -1. -1. -1. -1. -1. -1. -1. ]`\n",
    "  high: `[ 3.14  5.  5.  5.  3.14  5.  3.14  5.  5.  3.14  5.  3.14  5.  5.  1.  1.  1.  1.  1.  1.  1.  1.  1.  1. ]`\n",
    "</pre>\n",
    "Actions are motor speed values in the [-1, 1] range for each of the 4 joints at both hips and knees."
   ]
  },
  {
   "cell_type": "code",
   "execution_count": 4,
   "id": "13c99c41",
   "metadata": {},
   "outputs": [
    {
     "name": "stdout",
     "output_type": "stream",
     "text": [
      "space:  (24,) float32\n",
      "low:    [-3.1415927 -5.        -5.        -5.        -3.1415927 -5.\n",
      " -3.1415927 -5.        -0.        -3.1415927 -5.        -3.1415927\n",
      " -5.        -0.        -1.        -1.        -1.        -1.\n",
      " -1.        -1.        -1.        -1.        -1.        -1.       ]\n",
      "high:   [3.1415927 5.        5.        5.        3.1415927 5.        3.1415927\n",
      " 5.        5.        3.1415927 5.        3.1415927 5.        5.\n",
      " 1.        1.        1.        1.        1.        1.        1.\n",
      " 1.        1.        1.       ]\n",
      "actions: (4,) float32\n",
      "low:    [-1. -1. -1. -1.]\n",
      "high:   [1. 1. 1. 1.]\n"
     ]
    }
   ],
   "source": [
    "space = env.observation_space                     # observation space\n",
    "print(\"space: \", space.shape, space.dtype)        # space dimension and type\n",
    "print(\"low:   \", space.low)                       # minimum values\n",
    "print(\"high:  \", space.high)                      # maximum values\n",
    "\n",
    "actions = env.action_space                        # action space\n",
    "print(\"actions:\", actions.shape, actions.dtype)   # number of actions, type\n",
    "print(\"low:   \", actions.low)\n",
    "print(\"high:  \", actions.high)"
   ]
  },
  {
   "cell_type": "code",
   "execution_count": 8,
   "id": "04904a32",
   "metadata": {},
   "outputs": [
    {
     "name": "stdout",
     "output_type": "stream",
     "text": [
      "obs: [ 2.7474375e-03 -1.0635478e-05  8.2731131e-04 -1.5999928e-02\n",
      "  9.2003956e-02 -1.0917652e-03  8.6024475e-01  2.2098131e-03\n",
      "  1.0000000e+00  3.2409053e-02 -1.0916947e-03  8.5379446e-01\n",
      "  7.7211094e-04  1.0000000e+00  4.4081402e-01  4.4582012e-01\n",
      "  4.6142277e-01  4.8955020e-01  5.3410280e-01  6.0246104e-01\n",
      "  7.0914888e-01  8.8593185e-01  9.7504199e-01  1.0000000e+00]\n"
     ]
    }
   ],
   "source": [
    "obs = env.reset()                               # initial observation on the system\n",
    "\n",
    "for i in range(10):\n",
    "    env.step((1,1,-0.5,0))        \n",
    "    #if i % 2: \n",
    "    #    env.step((1,0,0,0))        \n",
    "    #else:\n",
    "    #    env.step((0,0,1,0))\n",
    "    env.render()                                    # render the environment\n",
    "\n",
    "print('obs:', obs) "
   ]
  },
  {
   "cell_type": "code",
   "execution_count": 9,
   "id": "a226a89a",
   "metadata": {},
   "outputs": [],
   "source": [
    "env.close()                                     # сlose render window"
   ]
  },
  {
   "cell_type": "code",
   "execution_count": 6,
   "id": "bf88e2e5",
   "metadata": {},
   "outputs": [],
   "source": [
    "import torch"
   ]
  },
  {
   "cell_type": "code",
   "execution_count": 12,
   "id": "db984dbd",
   "metadata": {},
   "outputs": [
    {
     "data": {
      "text/plain": [
       "tensor([[0, 4, 3],\n",
       "        [1, 0, 3]])"
      ]
     },
     "execution_count": 12,
     "metadata": {},
     "output_type": "execute_result"
    }
   ],
   "source": [
    "x = torch.tensor([[-1,5,3], [1,-5,3]])\n",
    "x = x.clamp( 0,  4)\n",
    "x"
   ]
  }
 ],
 "metadata": {
  "kernelspec": {
   "display_name": "Python 3 (ipykernel)",
   "language": "python",
   "name": "python3"
  },
  "language_info": {
   "codemirror_mode": {
    "name": "ipython",
    "version": 3
   },
   "file_extension": ".py",
   "mimetype": "text/x-python",
   "name": "python",
   "nbconvert_exporter": "python",
   "pygments_lexer": "ipython3",
   "version": "3.8.10"
  }
 },
 "nbformat": 4,
 "nbformat_minor": 5
}
