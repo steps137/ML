{
 "cells": [
  {
   "cell_type": "markdown",
   "id": "1d42860a",
   "metadata": {},
   "source": [
    "# LunarLander\n",
    "\n",
    "Exploring the `LunarLander-v2` environment from the Open Gym \n",
    "\n",
    "There are 8 states: the **position** (x,y), **velocity** (vx,vy), **orientation** (angle, its angular velocity), **two booleans** that represent whether each leg is in contact with the ground or not.\n",
    "\n",
    "There are **four discrete actions**: (do nothing, fire left engine, fire main engine, fire right engine).\n",
    "\n",
    "- Reward for landing pad and coming to rest is about **100-140** points\n",
    "- If it comes to rest, it receives an additional **+100** points\n",
    "- Each leg with ground contact is **+10** points.\n",
    "- Firing the main engine is **-0.3** points each frame. \n",
    "- Firing the side engine is **-0.03** points each frame.\n",
    "- If the lander crashes, it receives an additional **-100** points\n",
    "\n",
    "## Import libraries and create an environment"
   ]
  },
  {
   "cell_type": "code",
   "execution_count": 1,
   "id": "878232a7",
   "metadata": {},
   "outputs": [
    {
     "name": "stdout",
     "output_type": "stream",
     "text": [
      "space:  (8,) float32\n",
      "low:    [-inf -inf -inf -inf -inf -inf -inf -inf]\n",
      "high:   [inf inf inf inf inf inf inf inf]\n",
      "actions: 4 int64\n",
      "obs: [ 0.00211143  1.4118983   0.21385045  0.0434727  -0.00243984 -0.04844033\n",
      "  0.          0.        ]\n"
     ]
    },
    {
     "name": "stderr",
     "output_type": "stream",
     "text": [
      "c:\\users\\admin\\appdata\\local\\programs\\python\\python38\\lib\\site-packages\\pyglet\\image\\codecs\\wic.py:406: UserWarning: [WinError -2147417850] Изменение режима для потока после его установки невозможно\n",
      "  warnings.warn(str(err))\n"
     ]
    },
    {
     "data": {
      "image/png": "[encoded data removed]",
      "text/plain": [
       "<Figure size 432x288 with 1 Axes>"
      ]
     },
     "metadata": {
      "needs_background": "light"
     },
     "output_type": "display_data"
    }
   ],
   "source": [
    "import numpy as np\n",
    "import matplotlib.pyplot as plt\n",
    "\n",
    "import gym                                      # OpenAI Gym library\n",
    "env = gym.make('LunarLander-v2')                # create an environment\n",
    "\n",
    "space = env.observation_space                     # observation space\n",
    "print(\"space: \", space.shape, space.dtype)        # space dimension and type\n",
    "print(\"low:   \", space.low)                       # minimum values\n",
    "print(\"high:  \", space.high)                      # maximum values\n",
    "\n",
    "actions = env.action_space                        # action space\n",
    "print(\"actions:\", actions.n, actions.dtype)       # number of actions, type\n",
    "\n",
    "obs = env.reset()                               # initial observation on the system\n",
    "print('obs:', obs) \n",
    "plt.imshow(env.render('rgb_array'))             # render the environment as image \n",
    "env.close()"
   ]
  },
  {
   "cell_type": "code",
   "execution_count": 31,
   "id": "f56b39f4",
   "metadata": {},
   "outputs": [],
   "source": [
    "env.close()"
   ]
  },
  {
   "cell_type": "markdown",
   "id": "cb4c21e9",
   "metadata": {},
   "source": [
    "## Save Video"
   ]
  },
  {
   "cell_type": "code",
   "execution_count": 24,
   "id": "1c20dc5e",
   "metadata": {},
   "outputs": [],
   "source": [
    "import torch\n",
    "import torch.nn as nn\n",
    "\n",
    "class AgentModel(nn.Module):\n",
    "    \"\"\" Neural network for Q(s,a) \"\"\"\n",
    "    def __init__(self, nS, nA, hiddens):\n",
    "        super(AgentModel, self).__init__()\n",
    "        \n",
    "        neurons, layers = [nS] + hiddens + [nA], []        \n",
    "        for i in range(len(neurons)-1):\n",
    "            layers.append(nn.Linear(neurons[i], neurons[i+1]) )\n",
    "            if i < len(neurons)-2:\n",
    "                layers.append( nn.ReLU() )\n",
    "        \n",
    "        self.model = nn.Sequential(*layers)\n",
    " \n",
    "    def forward(self, x):\n",
    "        return self.model(x)        "
   ]
  },
  {
   "cell_type": "code",
   "execution_count": 26,
   "id": "306429dc",
   "metadata": {},
   "outputs": [
    {
     "name": "stdout",
     "output_type": "stream",
     "text": [
      "AgentModel(\n",
      "  (model): Sequential(\n",
      "    (0): Linear(in_features=8, out_features=256, bias=True)\n",
      "    (1): ReLU()\n",
      "    (2): Linear(in_features=256, out_features=128, bias=True)\n",
      "    (3): ReLU()\n",
      "    (4): Linear(in_features=128, out_features=4, bias=True)\n",
      "  )\n",
      ")\n",
      "AgentModel(\n",
      "  (model): Sequential(\n",
      "    (0): Linear(in_features=8, out_features=256, bias=True)\n",
      "    (1): ReLU()\n",
      "    (2): Linear(in_features=256, out_features=128, bias=True)\n",
      "    (3): ReLU()\n",
      "    (4): Linear(in_features=128, out_features=4, bias=True)\n",
      "  )\n",
      ")\n"
     ]
    },
    {
     "data": {
      "text/plain": [
       "<All keys matched successfully>"
      ]
     },
     "execution_count": 26,
     "metadata": {},
     "output_type": "execute_result"
    }
   ],
   "source": [
    "model = AgentModel( 8, 4, [ 256, 128] )\n",
    "print(model)\n",
    "state  = torch.load('models/LunarLander-v2_256_128.278.pt')   \n",
    "print(state['model'])\n",
    "model.load_state_dict(state['state'])   "
   ]
  },
  {
   "cell_type": "code",
   "execution_count": 27,
   "id": "262cb073",
   "metadata": {},
   "outputs": [],
   "source": [
    "def policy(state):    \n",
    "    x = torch.tensor(state, dtype=torch.float32)\n",
    "    with torch.no_grad():\n",
    "        y = model(x).detach().to('cpu').numpy() \n",
    "    return np.argmax(y)     "
   ]
  },
  {
   "cell_type": "code",
   "execution_count": 40,
   "id": "7f99f3ab",
   "metadata": {},
   "outputs": [
    {
     "name": "stderr",
     "output_type": "stream",
     "text": [
      "IMAGEIO FFMPEG_WRITER WARNING: input image is not divisible by macro_block_size=16, resizing from (600, 400) to (608, 400) to ensure video compatibility with most codecs and players. To prevent resizing, make your input image divisible by the macro_block_size or set the macro_block_size to 1 (risking incompatibility).\n"
     ]
    }
   ],
   "source": [
    "from PIL import Image, ImageDraw, ImageFont\n",
    "import imageio\n",
    "\n",
    "def render_frame(frame, text: str):\n",
    "    \"\"\"\n",
    "    Get frame with overwritten text:\n",
    "    \"\"\"\n",
    "    im = Image.fromarray(frame)\n",
    "    if text:        \n",
    "        drawer = ImageDraw.Draw(im)    \n",
    "        text_color = (255,255,255) if np.mean(im) < 128 else (0,0,0)\n",
    "        font = ImageFont.truetype(\"verdana.ttf\", 18)\n",
    "        drawer.text((10, 10), text, fill=text_color, font=font)             \n",
    "        font = ImageFont.truetype(\"verdana.ttf\", 14)\n",
    "        drawer.text((im.size[0]-100,im.size[1]-20), \"QuData.com\", fill=(0,255,0), font=font)\n",
    "    return im\n",
    "\n",
    "\n",
    "frames, last = [], 0\n",
    "for episode in range(1, 11):\n",
    "    rew, wait = 0, 0\n",
    "    s = env.reset()                        \n",
    "    for t in range(1, 301):       \n",
    "        a = policy(s)                 \n",
    "        s, r, done, _ = env.step(a) \n",
    "        rew += r\n",
    "        \n",
    "        if done:\n",
    "            last = rew\n",
    "\n",
    "        frame = env.render(mode='rgb_array') \n",
    "        frame = render_frame(frame, f\"Episode:{episode:2d},  t:{t:5d},  reward: {last:3.0f},  <reward>=278\")\n",
    "        frames.append(frame)\n",
    "    \n",
    "        if done:    \n",
    "            break                \n",
    "\n",
    "imageio.mimwrite(\"render.mp4\", frames, fps=60)            \n",
    "env.close()"
   ]
  }
 ],
 "metadata": {
  "kernelspec": {
   "display_name": "Python 3 (ipykernel)",
   "language": "python",
   "name": "python3"
  },
  "language_info": {
   "codemirror_mode": {
    "name": "ipython",
    "version": 3
   },
   "file_extension": ".py",
   "mimetype": "text/x-python",
   "name": "python",
   "nbconvert_exporter": "python",
   "pygments_lexer": "ipython3",
   "version": "3.8.10"
  }
 },
 "nbformat": 4,
 "nbformat_minor": 5
}
