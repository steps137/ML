{
 "cells": [
  {
   "cell_type": "markdown",
   "id": "680379c7",
   "metadata": {},
   "source": [
    "# Bipedal Walker\n",
    "\n",
    "\n",
    "Exploring the `BipedalWalker-v3` environment from the Open Gym \n",
    "\n",
    "## Import libraries and create an environment"
   ]
  },
  {
   "cell_type": "code",
   "execution_count": 7,
   "id": "0a463c80",
   "metadata": {},
   "outputs": [],
   "source": [
    "import numpy as np\n",
    "import gym                                        # OpenAI Gym library\n",
    "env = gym.make('BipedalWalker-v3', hardcore=True)                # create an environment"
   ]
  },
  {
   "cell_type": "markdown",
   "id": "0a44bd37",
   "metadata": {},
   "source": [
    "## Show initial state\n",
    "\n",
    "- On Windows, the render window will pop up on top of the browser only if it is not maximized to full screen (**reduce the browser window**). \n",
    "- You can close the render window only by executing the command `env.close()`.\n"
   ]
  },
  {
   "cell_type": "code",
   "execution_count": 6,
   "id": "8467c8ec",
   "metadata": {},
   "outputs": [
    {
     "ename": "error",
     "evalue": "display Surface quit",
     "output_type": "error",
     "traceback": [
      "\u001b[1;31m---------------------------------------------------------------------------\u001b[0m",
      "\u001b[1;31merror\u001b[0m                                     Traceback (most recent call last)",
      "Input \u001b[1;32mIn [6]\u001b[0m, in \u001b[0;36m<cell line: 2>\u001b[1;34m()\u001b[0m\n\u001b[0;32m      1\u001b[0m obs \u001b[38;5;241m=\u001b[39m env\u001b[38;5;241m.\u001b[39mreset()                               \u001b[38;5;66;03m# initial observation on the system\u001b[39;00m\n\u001b[1;32m----> 2\u001b[0m \u001b[43menv\u001b[49m\u001b[38;5;241;43m.\u001b[39;49m\u001b[43mrender\u001b[49m\u001b[43m(\u001b[49m\u001b[43m)\u001b[49m                                    \u001b[38;5;66;03m# render the environment\u001b[39;00m\n\u001b[0;32m      4\u001b[0m \u001b[38;5;28mprint\u001b[39m(\u001b[38;5;124m'\u001b[39m\u001b[38;5;124mobs:\u001b[39m\u001b[38;5;124m'\u001b[39m, obs)\n",
      "File \u001b[1;32mc:\\users\\admin\\appdata\\local\\programs\\python\\python38\\lib\\site-packages\\gym\\core.py:343\u001b[0m, in \u001b[0;36mWrapper.render\u001b[1;34m(self, **kwargs)\u001b[0m\n\u001b[0;32m    341\u001b[0m \u001b[38;5;28;01mdef\u001b[39;00m \u001b[38;5;21mrender\u001b[39m(\u001b[38;5;28mself\u001b[39m, \u001b[38;5;241m*\u001b[39m\u001b[38;5;241m*\u001b[39mkwargs):\n\u001b[0;32m    342\u001b[0m     \u001b[38;5;124;03m\"\"\"Renders the environment with kwargs.\"\"\"\u001b[39;00m\n\u001b[1;32m--> 343\u001b[0m     \u001b[38;5;28;01mreturn\u001b[39;00m \u001b[38;5;28;43mself\u001b[39;49m\u001b[38;5;241;43m.\u001b[39;49m\u001b[43menv\u001b[49m\u001b[38;5;241;43m.\u001b[39;49m\u001b[43mrender\u001b[49m\u001b[43m(\u001b[49m\u001b[38;5;241;43m*\u001b[39;49m\u001b[38;5;241;43m*\u001b[39;49m\u001b[43mkwargs\u001b[49m\u001b[43m)\u001b[49m\n",
      "File \u001b[1;32mc:\\users\\admin\\appdata\\local\\programs\\python\\python38\\lib\\site-packages\\gym\\wrappers\\order_enforcing.py:51\u001b[0m, in \u001b[0;36mOrderEnforcing.render\u001b[1;34m(self, **kwargs)\u001b[0m\n\u001b[0;32m     46\u001b[0m \u001b[38;5;28;01mif\u001b[39;00m \u001b[38;5;129;01mnot\u001b[39;00m \u001b[38;5;28mself\u001b[39m\u001b[38;5;241m.\u001b[39m_disable_render_order_enforcing \u001b[38;5;129;01mand\u001b[39;00m \u001b[38;5;129;01mnot\u001b[39;00m \u001b[38;5;28mself\u001b[39m\u001b[38;5;241m.\u001b[39m_has_reset:\n\u001b[0;32m     47\u001b[0m     \u001b[38;5;28;01mraise\u001b[39;00m ResetNeeded(\n\u001b[0;32m     48\u001b[0m         \u001b[38;5;124m\"\u001b[39m\u001b[38;5;124mCannot call `env.render()` before calling `env.reset()`, if this is a intended action, \u001b[39m\u001b[38;5;124m\"\u001b[39m\n\u001b[0;32m     49\u001b[0m         \u001b[38;5;124m\"\u001b[39m\u001b[38;5;124mset `disable_render_order_enforcing=True` on the OrderEnforcer wrapper.\u001b[39m\u001b[38;5;124m\"\u001b[39m\n\u001b[0;32m     50\u001b[0m     )\n\u001b[1;32m---> 51\u001b[0m \u001b[38;5;28;01mreturn\u001b[39;00m \u001b[38;5;28;43mself\u001b[39;49m\u001b[38;5;241;43m.\u001b[39;49m\u001b[43menv\u001b[49m\u001b[38;5;241;43m.\u001b[39;49m\u001b[43mrender\u001b[49m\u001b[43m(\u001b[49m\u001b[38;5;241;43m*\u001b[39;49m\u001b[38;5;241;43m*\u001b[39;49m\u001b[43mkwargs\u001b[49m\u001b[43m)\u001b[49m\n",
      "File \u001b[1;32mc:\\users\\admin\\appdata\\local\\programs\\python\\python38\\lib\\site-packages\\gym\\wrappers\\env_checker.py:57\u001b[0m, in \u001b[0;36mPassiveEnvChecker.render\u001b[1;34m(self, **kwargs)\u001b[0m\n\u001b[0;32m     55\u001b[0m     \u001b[38;5;28;01mreturn\u001b[39;00m passive_env_render_check(\u001b[38;5;28mself\u001b[39m\u001b[38;5;241m.\u001b[39menv, \u001b[38;5;241m*\u001b[39m\u001b[38;5;241m*\u001b[39mkwargs)\n\u001b[0;32m     56\u001b[0m \u001b[38;5;28;01melse\u001b[39;00m:\n\u001b[1;32m---> 57\u001b[0m     \u001b[38;5;28;01mreturn\u001b[39;00m \u001b[38;5;28;43mself\u001b[39;49m\u001b[38;5;241;43m.\u001b[39;49m\u001b[43menv\u001b[49m\u001b[38;5;241;43m.\u001b[39;49m\u001b[43mrender\u001b[49m\u001b[43m(\u001b[49m\u001b[38;5;241;43m*\u001b[39;49m\u001b[38;5;241;43m*\u001b[39;49m\u001b[43mkwargs\u001b[49m\u001b[43m)\u001b[49m\n",
      "File \u001b[1;32mc:\\users\\admin\\appdata\\local\\programs\\python\\python38\\lib\\site-packages\\gym\\envs\\box2d\\bipedal_walker.py:720\u001b[0m, in \u001b[0;36mBipedalWalker.render\u001b[1;34m(self, mode)\u001b[0m\n\u001b[0;32m    715\u001b[0m pygame\u001b[38;5;241m.\u001b[39mdraw\u001b[38;5;241m.\u001b[39mlines(\n\u001b[0;32m    716\u001b[0m     \u001b[38;5;28mself\u001b[39m\u001b[38;5;241m.\u001b[39msurf, color\u001b[38;5;241m=\u001b[39m(\u001b[38;5;241m0\u001b[39m, \u001b[38;5;241m0\u001b[39m, \u001b[38;5;241m0\u001b[39m), points\u001b[38;5;241m=\u001b[39mf \u001b[38;5;241m+\u001b[39m [f[\u001b[38;5;241m0\u001b[39m]], width\u001b[38;5;241m=\u001b[39m\u001b[38;5;241m1\u001b[39m, closed\u001b[38;5;241m=\u001b[39m\u001b[38;5;28;01mFalse\u001b[39;00m\n\u001b[0;32m    717\u001b[0m )\n\u001b[0;32m    719\u001b[0m \u001b[38;5;28mself\u001b[39m\u001b[38;5;241m.\u001b[39msurf \u001b[38;5;241m=\u001b[39m pygame\u001b[38;5;241m.\u001b[39mtransform\u001b[38;5;241m.\u001b[39mflip(\u001b[38;5;28mself\u001b[39m\u001b[38;5;241m.\u001b[39msurf, \u001b[38;5;28;01mFalse\u001b[39;00m, \u001b[38;5;28;01mTrue\u001b[39;00m)\n\u001b[1;32m--> 720\u001b[0m \u001b[38;5;28;43mself\u001b[39;49m\u001b[38;5;241;43m.\u001b[39;49m\u001b[43mscreen\u001b[49m\u001b[38;5;241;43m.\u001b[39;49m\u001b[43mblit\u001b[49m\u001b[43m(\u001b[49m\u001b[38;5;28;43mself\u001b[39;49m\u001b[38;5;241;43m.\u001b[39;49m\u001b[43msurf\u001b[49m\u001b[43m,\u001b[49m\u001b[43m \u001b[49m\u001b[43m(\u001b[49m\u001b[38;5;241;43m-\u001b[39;49m\u001b[38;5;28;43mself\u001b[39;49m\u001b[38;5;241;43m.\u001b[39;49m\u001b[43mscroll\u001b[49m\u001b[43m \u001b[49m\u001b[38;5;241;43m*\u001b[39;49m\u001b[43m \u001b[49m\u001b[43mSCALE\u001b[49m\u001b[43m,\u001b[49m\u001b[43m \u001b[49m\u001b[38;5;241;43m0\u001b[39;49m\u001b[43m)\u001b[49m\u001b[43m)\u001b[49m\n\u001b[0;32m    721\u001b[0m \u001b[38;5;28;01mif\u001b[39;00m mode \u001b[38;5;241m==\u001b[39m \u001b[38;5;124m\"\u001b[39m\u001b[38;5;124mhuman\u001b[39m\u001b[38;5;124m\"\u001b[39m:\n\u001b[0;32m    722\u001b[0m     pygame\u001b[38;5;241m.\u001b[39mevent\u001b[38;5;241m.\u001b[39mpump()\n",
      "\u001b[1;31merror\u001b[0m: display Surface quit"
     ]
    }
   ],
   "source": [
    "obs = env.reset()                               # initial observation on the system\n",
    "env.render()                                    # render the environment\n",
    "\n",
    "print('obs:', obs) "
   ]
  },
  {
   "cell_type": "code",
   "execution_count": 3,
   "id": "790369a0",
   "metadata": {},
   "outputs": [],
   "source": [
    "env.close()                                     # сlose render window"
   ]
  },
  {
   "cell_type": "markdown",
   "id": "371a2eb2",
   "metadata": {},
   "source": [
    "## Environment properties\n",
    "\n",
    "In documentation  (!) for observation space:\n",
    "<pre>\n",
    "                     vx vy                                                   10 lidar rangefinder measurements\n",
    "  low:  `[-3.14 -5. -5. -5. -3.14 -5. -3.14 -5. -0. -3.14 -5. -3.14 -5. -0. -1. -1. -1. -1. -1. -1. -1. -1. -1. -1. ]`\n",
    "  high: `[ 3.14  5.  5.  5.  3.14  5.  3.14  5.  5.  3.14  5.  3.14  5.  5.  1.  1.  1.  1.  1.  1.  1.  1.  1.  1. ]`\n",
    "</pre>\n",
    "Actions are motor speed values in the [-1, 1] range for each of the 4 joints at both hips and knees."
   ]
  },
  {
   "cell_type": "code",
   "execution_count": 4,
   "id": "13c99c41",
   "metadata": {},
   "outputs": [
    {
     "name": "stdout",
     "output_type": "stream",
     "text": [
      "space:  (24,) float32\n",
      "low:    [-3.1415927 -5.        -5.        -5.        -3.1415927 -5.\n",
      " -3.1415927 -5.        -0.        -3.1415927 -5.        -3.1415927\n",
      " -5.        -0.        -1.        -1.        -1.        -1.\n",
      " -1.        -1.        -1.        -1.        -1.        -1.       ]\n",
      "high:   [3.1415927 5.        5.        5.        3.1415927 5.        3.1415927\n",
      " 5.        5.        3.1415927 5.        3.1415927 5.        5.\n",
      " 1.        1.        1.        1.        1.        1.        1.\n",
      " 1.        1.        1.       ]\n",
      "actions: (4,) float32\n",
      "low:    [-1. -1. -1. -1.]\n",
      "high:   [1. 1. 1. 1.]\n"
     ]
    }
   ],
   "source": [
    "space = env.observation_space                     # observation space\n",
    "print(\"space: \", space.shape, space.dtype)        # space dimension and type\n",
    "print(\"low:   \", space.low)                       # minimum values\n",
    "print(\"high:  \", space.high)                      # maximum values\n",
    "\n",
    "actions = env.action_space                        # action space\n",
    "print(\"actions:\", actions.shape, actions.dtype)   # number of actions, type\n",
    "print(\"low:   \", actions.low)\n",
    "print(\"high:  \", actions.high)"
   ]
  },
  {
   "cell_type": "code",
   "execution_count": 8,
   "id": "04904a32",
   "metadata": {},
   "outputs": [
    {
     "name": "stdout",
     "output_type": "stream",
     "text": [
      "obs: [ 2.7474375e-03 -1.0635478e-05  8.2731131e-04 -1.5999928e-02\n",
      "  9.2003956e-02 -1.0917652e-03  8.6024475e-01  2.2098131e-03\n",
      "  1.0000000e+00  3.2409053e-02 -1.0916947e-03  8.5379446e-01\n",
      "  7.7211094e-04  1.0000000e+00  4.4081402e-01  4.4582012e-01\n",
      "  4.6142277e-01  4.8955020e-01  5.3410280e-01  6.0246104e-01\n",
      "  7.0914888e-01  8.8593185e-01  9.7504199e-01  1.0000000e+00]\n"
     ]
    }
   ],
   "source": [
    "obs = env.reset()                               # initial observation on the system\n",
    "\n",
    "for i in range(10):\n",
    "    env.step((1,1,-0.5,0))        \n",
    "    #if i % 2: \n",
    "    #    env.step((1,0,0,0))        \n",
    "    #else:\n",
    "    #    env.step((0,0,1,0))\n",
    "    env.render()                                    # render the environment\n",
    "\n",
    "print('obs:', obs) "
   ]
  },
  {
   "cell_type": "code",
   "execution_count": 9,
   "id": "a226a89a",
   "metadata": {},
   "outputs": [],
   "source": [
    "env.close()                                     # сlose render window"
   ]
  }
 ],
 "metadata": {
  "kernelspec": {
   "display_name": "Python 3 (ipykernel)",
   "language": "python",
   "name": "python3"
  },
  "language_info": {
   "codemirror_mode": {
    "name": "ipython",
    "version": 3
   },
   "file_extension": ".py",
   "mimetype": "text/x-python",
   "name": "python",
   "nbconvert_exporter": "python",
   "pygments_lexer": "ipython3",
   "version": "3.8.10"
  }
 },
 "nbformat": 4,
 "nbformat_minor": 5
}
