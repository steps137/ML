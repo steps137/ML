{
 "cells": [
  {
   "cell_type": "markdown",
   "id": "680379c7",
   "metadata": {},
   "source": [
    "# Bipedal Walker\n",
    "\n",
    "\n",
    "Exploring the `BipedalWalker-v3` environment from the Open Gym \n",
    "\n",
    "## Import libraries and create an environment"
   ]
  },
  {
   "cell_type": "code",
   "execution_count": null,
   "id": "0a463c80",
   "metadata": {},
   "outputs": [],
   "source": [
    "import numpy as np\n",
    "import gym                                        # OpenAI Gym library\n",
    "env = gym.make('BipedalWalker-v3', hardcore=True)                # create an environment"
   ]
  },
  {
   "cell_type": "markdown",
   "id": "0a44bd37",
   "metadata": {},
   "source": [
    "## Show initial state\n",
    "\n",
    "- On Windows, the render window will pop up on top of the browser only if it is not maximized to full screen (**reduce the browser window**). \n",
    "- You can close the render window only by executing the command `env.close()`.\n"
   ]
  },
  {
   "cell_type": "code",
   "execution_count": null,
   "id": "8467c8ec",
   "metadata": {},
   "outputs": [],
   "source": [
    "obs = env.reset()                               # initial observation on the system\n",
    "env.render()                                    # render the environment\n",
    "\n",
    "print('obs:', obs) "
   ]
  },
  {
   "cell_type": "code",
   "execution_count": null,
   "id": "790369a0",
   "metadata": {},
   "outputs": [],
   "source": [
    "env.close()                                     # сlose render window"
   ]
  },
  {
   "cell_type": "markdown",
   "id": "371a2eb2",
   "metadata": {},
   "source": [
    "## Environment properties\n",
    "\n",
    "In documentation  (!) for observation space:\n",
    "<pre>\n",
    "                     vx vy                                                   10 lidar rangefinder measurements\n",
    "  low:  `[-3.14 -5. -5. -5. -3.14 -5. -3.14 -5. -0. -3.14 -5. -3.14 -5. -0. -1. -1. -1. -1. -1. -1. -1. -1. -1. -1. ]`\n",
    "  high: `[ 3.14  5.  5.  5.  3.14  5.  3.14  5.  5.  3.14  5.  3.14  5.  5.  1.  1.  1.  1.  1.  1.  1.  1.  1.  1. ]`\n",
    "</pre>\n",
    "Actions are motor speed values in the [-1, 1] range for each of the 4 joints at both hips and knees."
   ]
  },
  {
   "cell_type": "code",
   "execution_count": null,
   "id": "13c99c41",
   "metadata": {},
   "outputs": [],
   "source": [
    "space = env.observation_space                     # observation space\n",
    "print(\"space: \", space.shape, space.dtype)        # space dimension and type\n",
    "print(\"low:   \", space.low)                       # minimum values\n",
    "print(\"high:  \", space.high)                      # maximum values\n",
    "\n",
    "actions = env.action_space                        # action space\n",
    "print(\"actions:\", actions.shape, actions.dtype)   # number of actions, type\n",
    "print(\"low:   \", actions.low)\n",
    "print(\"high:  \", actions.high)"
   ]
  },
  {
   "cell_type": "code",
   "execution_count": null,
   "id": "04904a32",
   "metadata": {},
   "outputs": [],
   "source": [
    "obs = env.reset()                               # initial observation on the system\n",
    "\n",
    "for i in range(10):\n",
    "    env.step((1,1,-0.5,0))        \n",
    "    #if i % 2: \n",
    "    #    env.step((1,0,0,0))        \n",
    "    #else:\n",
    "    #    env.step((0,0,1,0))\n",
    "    env.render()                                    # render the environment\n",
    "\n",
    "print('obs:', obs) "
   ]
  },
  {
   "cell_type": "code",
   "execution_count": null,
   "id": "a226a89a",
   "metadata": {},
   "outputs": [],
   "source": [
    "env.close()                                     # сlose render window"
   ]
  }
 ],
 "metadata": {
  "kernelspec": {
   "display_name": "Python 3 (ipykernel)",
   "language": "python",
   "name": "python3"
  },
  "language_info": {
   "codemirror_mode": {
    "name": "ipython",
    "version": 3
   },
   "file_extension": ".py",
   "mimetype": "text/x-python",
   "name": "python",
   "nbconvert_exporter": "python",
   "pygments_lexer": "ipython3",
   "version": "3.8.10"
  }
 },
 "nbformat": 4,
 "nbformat_minor": 5
}
