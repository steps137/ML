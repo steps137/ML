{
 "cells": [
  {
   "cell_type": "code",
   "execution_count": 9,
   "id": "f3dce2d6",
   "metadata": {},
   "outputs": [],
   "source": [
    "import time\n",
    "import numpy as np\n",
    "import matplotlib.pyplot as plt\n",
    "import gym\n",
    "import torch\n",
    "from   torch import nn"
   ]
  },
  {
   "cell_type": "code",
   "execution_count": 20,
   "id": "f09c22ff",
   "metadata": {},
   "outputs": [],
   "source": [
    "env = gym.make('MountainCar-v0')                        \n",
    "action_space = np.arange(env.action_space.n)           \n",
    "\n",
    "nH = [32, 64]\n",
    "model = nn.Sequential(\n",
    "           nn.Linear(2, nH[0]),    \n",
    "           nn.ReLU(),      \n",
    "           nn.Linear(nH[0], nH[1]),  \n",
    "           nn.ReLU(),         \n",
    "           nn.Linear(nH[1], 3) )      "
   ]
  },
  {
   "cell_type": "code",
   "execution_count": 21,
   "id": "67fc8e82",
   "metadata": {},
   "outputs": [],
   "source": [
    "def discount_rewards(rewards, gamma=0.99):\n",
    "    r = np.array( [gamma**i * rewards[i] for i in range(len(rewards))] )    \n",
    "    r = r[: : -1].cumsum()[ : :-1]            # срез:  [beg : end : steps]\n",
    "    return r - r.mean()\n",
    "\n",
    "\n",
    "def policy(obs):\n",
    "    with torch.no_grad():\n",
    "        y = model(torch.FloatTensor(obs)).detach()        \n",
    "        \n",
    "    probs = torch.softmax(y, 0).numpy()      \n",
    "    return np.random.choice(action_space, p=probs)        # случайный выбор с вероятностью            \n",
    "    \n",
    "#------------------------------------------------------------------------------\n",
    "\n",
    "def learn(env, model, num_iters=1000, num_episodes=100, gamma=0.99, ticks = 200):        \n",
    "    \n",
    "    optimizer = torch.optim.Adam(model.parameters(), lr=0.000001)  # Define optimizer \n",
    "        \n",
    "    tot_learn = 0\n",
    "    left      = -1.2, \n",
    "    beg       = time.process_time()\n",
    "    total_rewards = []\n",
    "    \n",
    "    for iter in range(num_iters):                                  # итерации        \n",
    "        batch_rewards, batch_actions, batch_states = [], [], []\n",
    "        \n",
    "        episode = 0        \n",
    "        while episode < num_episodes: # and  len(batch_actions) < 500:            \n",
    "            rewards, vels = [], []\n",
    "            obs = env.reset()\n",
    "            \n",
    "            \n",
    "            max_x = obs[0] - left\n",
    "            for _ in range(ticks):                \n",
    "                action = policy(obs)\n",
    "                \n",
    "                batch_states.append (obs.tolist())                # чтобы warning-а не было\n",
    "                batch_actions.append(action)\n",
    "            \n",
    "                obs, rew, done, _ = env.step(action)   \n",
    "                \n",
    "                if obs[0] - left > max_x:\n",
    "                    max_x = obs[0] - left\n",
    "\n",
    "                rewards.append(rew)                \n",
    "                \n",
    "                if done:\n",
    "                    total_rewards.append( sum(rewards) )\n",
    "                    rewards[-1] += 10 * max_x\n",
    "                    break                                         # эпизод окончен\n",
    "            \n",
    "            batch_rewards.extend( discount_rewards(rewards, gamma) )            \n",
    "            episode += 1                     \n",
    "        \n",
    "        X = torch.FloatTensor(batch_states)\n",
    "        W = torch.FloatTensor(batch_rewards)                    \n",
    "        A = torch.LongTensor (batch_actions)                   # Actions are used as indices, must be LongTensor\n",
    "\n",
    "        for epoch in range(1):                                 # эпохи обучения                        \n",
    "            probs = torch.softmax(model(X), 1)\n",
    "            logprob = (probs+1.e-5).log()                      # логарифм вероятностей\n",
    "            logprob = torch.gather(logprob, 1, A.view(-1,1)).squeeze()            \n",
    "            loss = -(W * logprob).mean()                       # Calculate loss                    \n",
    "\n",
    "            optimizer.zero_grad()\n",
    "            loss.backward()                                    # Calculate gradients                    \n",
    "            optimizer.step()                                   # Apply gradients\n",
    "\n",
    "            tot_learn += 1\n",
    "       \n",
    "        last_num = 1000\n",
    "        avg, std = np.mean(total_rewards[-last_num:]), np.std(total_rewards[-last_num:])/len(total_rewards[-last_num:])**0.5\n",
    "        print(\"\\rIter: %4d  episode: %5d Reward of last %d trials:  %5.2f +/- %5.2f  loss:%.3e,  time: %5.0fs\" \n",
    "                 % (iter + 1, episode, last_num, avg, std, loss.detach().item() ,time.process_time() - beg), end = \"\")        \n",
    "\n",
    "    print(\" tot_learn\", tot_learn)     \n",
    "    return total_rewards"
   ]
  },
  {
   "cell_type": "code",
   "execution_count": 6,
   "id": "2f277111",
   "metadata": {},
   "outputs": [],
   "source": []
  },
  {
   "cell_type": "code",
   "execution_count": 7,
   "id": "e7a4d516",
   "metadata": {},
   "outputs": [],
   "source": []
  },
  {
   "cell_type": "code",
   "execution_count": null,
   "id": "83075157",
   "metadata": {},
   "outputs": [],
   "source": [
    "state = torch.load('MountainCar_16_32_soft.9980.99.pt')                   # загружаем файл\n",
    "model.load_state_dict(state['model'])        # получаем параметры модели\n",
    "optimizer.load_state_dict(state['optimizer'])    # получаем состояние оптимизатора\n",
    "print(state['info'], state['date'])              # вспомогательная информация\n"
   ]
  },
  {
   "cell_type": "code",
   "execution_count": 22,
   "id": "c127b816",
   "metadata": {},
   "outputs": [
    {
     "name": "stdout",
     "output_type": "stream",
     "text": [
      "Iter:   33  episode:   100 Reward of last 1000 trials:  -200.00 +/-  0.00  loss:8.438e-08,  time:   435ss"
     ]
    },
    {
     "ename": "KeyboardInterrupt",
     "evalue": "",
     "output_type": "error",
     "traceback": [
      "\u001b[1;31m---------------------------------------------------------------------------\u001b[0m",
      "\u001b[1;31mKeyboardInterrupt\u001b[0m                         Traceback (most recent call last)",
      "Input \u001b[1;32mIn [22]\u001b[0m, in \u001b[0;36m<cell line: 1>\u001b[1;34m()\u001b[0m\n\u001b[1;32m----> 1\u001b[0m rewards \u001b[38;5;241m=\u001b[39m \u001b[43mlearn\u001b[49m\u001b[43m(\u001b[49m\u001b[43menv\u001b[49m\u001b[43m,\u001b[49m\u001b[43m \u001b[49m\u001b[43mmodel\u001b[49m\u001b[43m)\u001b[49m\n",
      "Input \u001b[1;32mIn [21]\u001b[0m, in \u001b[0;36mlearn\u001b[1;34m(env, model, num_iters, num_episodes, gamma, ticks)\u001b[0m\n\u001b[0;32m     34\u001b[0m max_x \u001b[38;5;241m=\u001b[39m obs[\u001b[38;5;241m0\u001b[39m] \u001b[38;5;241m-\u001b[39m left\n\u001b[0;32m     35\u001b[0m \u001b[38;5;28;01mfor\u001b[39;00m _ \u001b[38;5;129;01min\u001b[39;00m \u001b[38;5;28mrange\u001b[39m(ticks):                \n\u001b[1;32m---> 36\u001b[0m     action \u001b[38;5;241m=\u001b[39m \u001b[43mpolicy\u001b[49m\u001b[43m(\u001b[49m\u001b[43mobs\u001b[49m\u001b[43m)\u001b[49m\n\u001b[0;32m     38\u001b[0m     batch_states\u001b[38;5;241m.\u001b[39mappend (obs\u001b[38;5;241m.\u001b[39mtolist())                \u001b[38;5;66;03m# чтобы warning-а не было\u001b[39;00m\n\u001b[0;32m     39\u001b[0m     batch_actions\u001b[38;5;241m.\u001b[39mappend(action)\n",
      "Input \u001b[1;32mIn [21]\u001b[0m, in \u001b[0;36mpolicy\u001b[1;34m(obs)\u001b[0m\n\u001b[0;32m      7\u001b[0m \u001b[38;5;28;01mdef\u001b[39;00m \u001b[38;5;21mpolicy\u001b[39m(obs):\n\u001b[0;32m      8\u001b[0m     \u001b[38;5;28;01mwith\u001b[39;00m torch\u001b[38;5;241m.\u001b[39mno_grad():\n\u001b[1;32m----> 9\u001b[0m         y \u001b[38;5;241m=\u001b[39m \u001b[43mmodel\u001b[49m\u001b[43m(\u001b[49m\u001b[43mtorch\u001b[49m\u001b[38;5;241;43m.\u001b[39;49m\u001b[43mFloatTensor\u001b[49m\u001b[43m(\u001b[49m\u001b[43mobs\u001b[49m\u001b[43m)\u001b[49m\u001b[43m)\u001b[49m\u001b[38;5;241m.\u001b[39mdetach()        \n\u001b[0;32m     11\u001b[0m     probs \u001b[38;5;241m=\u001b[39m torch\u001b[38;5;241m.\u001b[39msoftmax(y, \u001b[38;5;241m0\u001b[39m)\u001b[38;5;241m.\u001b[39mnumpy()      \n\u001b[0;32m     12\u001b[0m     \u001b[38;5;28;01mreturn\u001b[39;00m np\u001b[38;5;241m.\u001b[39mrandom\u001b[38;5;241m.\u001b[39mchoice(action_space, p\u001b[38;5;241m=\u001b[39mprobs)\n",
      "File \u001b[1;32mc:\\users\\admin\\appdata\\local\\programs\\python\\python38\\lib\\site-packages\\torch\\nn\\modules\\module.py:1110\u001b[0m, in \u001b[0;36mModule._call_impl\u001b[1;34m(self, *input, **kwargs)\u001b[0m\n\u001b[0;32m   1106\u001b[0m \u001b[38;5;66;03m# If we don't have any hooks, we want to skip the rest of the logic in\u001b[39;00m\n\u001b[0;32m   1107\u001b[0m \u001b[38;5;66;03m# this function, and just call forward.\u001b[39;00m\n\u001b[0;32m   1108\u001b[0m \u001b[38;5;28;01mif\u001b[39;00m \u001b[38;5;129;01mnot\u001b[39;00m (\u001b[38;5;28mself\u001b[39m\u001b[38;5;241m.\u001b[39m_backward_hooks \u001b[38;5;129;01mor\u001b[39;00m \u001b[38;5;28mself\u001b[39m\u001b[38;5;241m.\u001b[39m_forward_hooks \u001b[38;5;129;01mor\u001b[39;00m \u001b[38;5;28mself\u001b[39m\u001b[38;5;241m.\u001b[39m_forward_pre_hooks \u001b[38;5;129;01mor\u001b[39;00m _global_backward_hooks\n\u001b[0;32m   1109\u001b[0m         \u001b[38;5;129;01mor\u001b[39;00m _global_forward_hooks \u001b[38;5;129;01mor\u001b[39;00m _global_forward_pre_hooks):\n\u001b[1;32m-> 1110\u001b[0m     \u001b[38;5;28;01mreturn\u001b[39;00m \u001b[43mforward_call\u001b[49m\u001b[43m(\u001b[49m\u001b[38;5;241;43m*\u001b[39;49m\u001b[38;5;28;43minput\u001b[39;49m\u001b[43m,\u001b[49m\u001b[43m \u001b[49m\u001b[38;5;241;43m*\u001b[39;49m\u001b[38;5;241;43m*\u001b[39;49m\u001b[43mkwargs\u001b[49m\u001b[43m)\u001b[49m\n\u001b[0;32m   1111\u001b[0m \u001b[38;5;66;03m# Do not call functions when jit is used\u001b[39;00m\n\u001b[0;32m   1112\u001b[0m full_backward_hooks, non_full_backward_hooks \u001b[38;5;241m=\u001b[39m [], []\n",
      "File \u001b[1;32mc:\\users\\admin\\appdata\\local\\programs\\python\\python38\\lib\\site-packages\\torch\\nn\\modules\\container.py:141\u001b[0m, in \u001b[0;36mSequential.forward\u001b[1;34m(self, input)\u001b[0m\n\u001b[0;32m    139\u001b[0m \u001b[38;5;28;01mdef\u001b[39;00m \u001b[38;5;21mforward\u001b[39m(\u001b[38;5;28mself\u001b[39m, \u001b[38;5;28minput\u001b[39m):\n\u001b[0;32m    140\u001b[0m     \u001b[38;5;28;01mfor\u001b[39;00m module \u001b[38;5;129;01min\u001b[39;00m \u001b[38;5;28mself\u001b[39m:\n\u001b[1;32m--> 141\u001b[0m         \u001b[38;5;28minput\u001b[39m \u001b[38;5;241m=\u001b[39m \u001b[43mmodule\u001b[49m\u001b[43m(\u001b[49m\u001b[38;5;28;43minput\u001b[39;49m\u001b[43m)\u001b[49m\n\u001b[0;32m    142\u001b[0m     \u001b[38;5;28;01mreturn\u001b[39;00m \u001b[38;5;28minput\u001b[39m\n",
      "File \u001b[1;32mc:\\users\\admin\\appdata\\local\\programs\\python\\python38\\lib\\site-packages\\torch\\nn\\modules\\module.py:1110\u001b[0m, in \u001b[0;36mModule._call_impl\u001b[1;34m(self, *input, **kwargs)\u001b[0m\n\u001b[0;32m   1106\u001b[0m \u001b[38;5;66;03m# If we don't have any hooks, we want to skip the rest of the logic in\u001b[39;00m\n\u001b[0;32m   1107\u001b[0m \u001b[38;5;66;03m# this function, and just call forward.\u001b[39;00m\n\u001b[0;32m   1108\u001b[0m \u001b[38;5;28;01mif\u001b[39;00m \u001b[38;5;129;01mnot\u001b[39;00m (\u001b[38;5;28mself\u001b[39m\u001b[38;5;241m.\u001b[39m_backward_hooks \u001b[38;5;129;01mor\u001b[39;00m \u001b[38;5;28mself\u001b[39m\u001b[38;5;241m.\u001b[39m_forward_hooks \u001b[38;5;129;01mor\u001b[39;00m \u001b[38;5;28mself\u001b[39m\u001b[38;5;241m.\u001b[39m_forward_pre_hooks \u001b[38;5;129;01mor\u001b[39;00m _global_backward_hooks\n\u001b[0;32m   1109\u001b[0m         \u001b[38;5;129;01mor\u001b[39;00m _global_forward_hooks \u001b[38;5;129;01mor\u001b[39;00m _global_forward_pre_hooks):\n\u001b[1;32m-> 1110\u001b[0m     \u001b[38;5;28;01mreturn\u001b[39;00m \u001b[43mforward_call\u001b[49m\u001b[43m(\u001b[49m\u001b[38;5;241;43m*\u001b[39;49m\u001b[38;5;28;43minput\u001b[39;49m\u001b[43m,\u001b[49m\u001b[43m \u001b[49m\u001b[38;5;241;43m*\u001b[39;49m\u001b[38;5;241;43m*\u001b[39;49m\u001b[43mkwargs\u001b[49m\u001b[43m)\u001b[49m\n\u001b[0;32m   1111\u001b[0m \u001b[38;5;66;03m# Do not call functions when jit is used\u001b[39;00m\n\u001b[0;32m   1112\u001b[0m full_backward_hooks, non_full_backward_hooks \u001b[38;5;241m=\u001b[39m [], []\n",
      "File \u001b[1;32mc:\\users\\admin\\appdata\\local\\programs\\python\\python38\\lib\\site-packages\\torch\\nn\\modules\\linear.py:103\u001b[0m, in \u001b[0;36mLinear.forward\u001b[1;34m(self, input)\u001b[0m\n\u001b[0;32m    102\u001b[0m \u001b[38;5;28;01mdef\u001b[39;00m \u001b[38;5;21mforward\u001b[39m(\u001b[38;5;28mself\u001b[39m, \u001b[38;5;28minput\u001b[39m: Tensor) \u001b[38;5;241m-\u001b[39m\u001b[38;5;241m>\u001b[39m Tensor:\n\u001b[1;32m--> 103\u001b[0m     \u001b[38;5;28;01mreturn\u001b[39;00m \u001b[43mF\u001b[49m\u001b[38;5;241;43m.\u001b[39;49m\u001b[43mlinear\u001b[49m\u001b[43m(\u001b[49m\u001b[38;5;28;43minput\u001b[39;49m\u001b[43m,\u001b[49m\u001b[43m \u001b[49m\u001b[38;5;28;43mself\u001b[39;49m\u001b[38;5;241;43m.\u001b[39;49m\u001b[43mweight\u001b[49m\u001b[43m,\u001b[49m\u001b[43m \u001b[49m\u001b[38;5;28;43mself\u001b[39;49m\u001b[38;5;241;43m.\u001b[39;49m\u001b[43mbias\u001b[49m\u001b[43m)\u001b[49m\n",
      "\u001b[1;31mKeyboardInterrupt\u001b[0m: "
     ]
    }
   ],
   "source": [
    "rewards = learn(env, model)"
   ]
  }
 ],
 "metadata": {
  "kernelspec": {
   "display_name": "Python 3 (ipykernel)",
   "language": "python",
   "name": "python3"
  },
  "language_info": {
   "codemirror_mode": {
    "name": "ipython",
    "version": 3
   },
   "file_extension": ".py",
   "mimetype": "text/x-python",
   "name": "python",
   "nbconvert_exporter": "python",
   "pygments_lexer": "ipython3",
   "version": "3.8.10"
  }
 },
 "nbformat": 4,
 "nbformat_minor": 5
}
