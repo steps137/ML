{
 "cells": [
  {
   "cell_type": "markdown",
   "id": "94b7317c",
   "metadata": {},
   "source": [
    "# MountainCar Continuous"
   ]
  },
  {
   "cell_type": "code",
   "execution_count": 23,
   "id": "de3f9184",
   "metadata": {},
   "outputs": [],
   "source": [
    "import itertools\n",
    "import numpy as np\n",
    "import gym\n",
    "\n",
    "#np.random.seed(1)\n",
    "env = gym.make('MountainCarContinuous-v0')\n",
    "#env.seed(1)"
   ]
  },
  {
   "cell_type": "code",
   "execution_count": 28,
   "id": "62655bb2",
   "metadata": {},
   "outputs": [],
   "source": [
    "# ZhiqingXiao\n",
    "# https://github.com/ZhiqingXiao/OpenAIGymSolution/tree/master/MountainCarContinuous-v0\n",
    "def policy(obs):\n",
    "    p, v = obs\n",
    "    force = 2*int( p > -4*v or p < 13*v-0.6) - 1.0\n",
    "    return np.array([force,])"
   ]
  },
  {
   "cell_type": "code",
   "execution_count": 38,
   "id": "c98df967",
   "metadata": {},
   "outputs": [],
   "source": [
    "def policy(obs):    \n",
    "    force = 2*int( obs[1] > 0 ) - 1.0\n",
    "    return np.array([force,])"
   ]
  },
  {
   "cell_type": "code",
   "execution_count": 36,
   "id": "c822e888",
   "metadata": {},
   "outputs": [],
   "source": [
    "def policy(obs):        \n",
    "    return 2*np.random.random((1,))-1"
   ]
  },
  {
   "cell_type": "code",
   "execution_count": 34,
   "id": "1954c355",
   "metadata": {},
   "outputs": [],
   "source": [
    "def run_episode(env, render=False, verbose=False):\n",
    "    observation = env.reset()\n",
    "    episode_reward = 0.\n",
    "    for step in itertools.count():\n",
    "        if render:\n",
    "            env.render()\n",
    "        action = policy(observation)\n",
    "        observation, reward, done, _ = env.step(action)\n",
    "        episode_reward += reward\n",
    "        if done:\n",
    "            break\n",
    "    if verbose:\n",
    "        print('get {} rewards in {} steps'.format(\n",
    "                episode_reward, step + 1))\n",
    "    return episode_reward"
   ]
  },
  {
   "cell_type": "code",
   "execution_count": 39,
   "id": "ddd04a68",
   "metadata": {},
   "outputs": [
    {
     "name": "stdout",
     "output_type": "stream",
     "text": [
      "average episode rewards = 92.05120000000001\n"
     ]
    }
   ],
   "source": [
    "episode_rewards = [run_episode(env) for _ in range(1000)]\n",
    "print('average episode rewards = {}'.format(np.mean(episode_rewards)))"
   ]
  }
 ],
 "metadata": {
  "kernelspec": {
   "display_name": "Python 3 (ipykernel)",
   "language": "python",
   "name": "python3"
  },
  "language_info": {
   "codemirror_mode": {
    "name": "ipython",
    "version": 3
   },
   "file_extension": ".py",
   "mimetype": "text/x-python",
   "name": "python",
   "nbconvert_exporter": "python",
   "pygments_lexer": "ipython3",
   "version": "3.8.10"
  }
 },
 "nbformat": 4,
 "nbformat_minor": 5
}
