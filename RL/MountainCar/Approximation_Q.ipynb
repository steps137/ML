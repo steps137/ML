{
 "cells": [
  {
   "cell_type": "markdown",
   "metadata": {
    "id": "pY6a4qzQSXzx"
   },
   "source": [
    "# Approximation Q - Function in the MountainCar problem\n",
    "## Neural network with 3 outputs¶\n",
    "\n",
    "Approximation of the policy function found by constructing the state graph"
   ]
  },
  {
   "cell_type": "markdown",
   "metadata": {
    "id": "2lqyEHOgdNO4"
   },
   "source": [
    "## Load from file"
   ]
  },
  {
   "cell_type": "code",
   "execution_count": 3,
   "metadata": {
    "colab": {
     "base_uri": "https://localhost:8080/"
    },
    "executionInfo": {
     "elapsed": 259,
     "status": "ok",
     "timestamp": 1654507615204,
     "user": {
      "displayName": "Sergey Stepanov",
      "userId": "11972621437342649150"
     },
     "user_tz": -180
    },
    "id": "Fc93aD1NcESy",
    "outputId": "d0a8165b-5360-4ab8-dc98-1f3f2485728a"
   },
   "outputs": [
    {
     "name": "stdout",
     "output_type": "stream",
     "text": [
      "shape: (5001, 5001) int64\n",
      "min, max: -1 2\n"
     ]
    }
   ],
   "source": [
    "import math\n",
    "import time\n",
    "import gym\n",
    "import numpy as np\n",
    "import matplotlib.pyplot as plt\n",
    "from   matplotlib import colors\n",
    "import torch\n",
    "import torch.nn as nn\n",
    "\n",
    "Q = np.load(\"data/Q_smooth.npy\")\n",
    "\n",
    "bins = Q.shape\n",
    "\n",
    "low  = np.array([-1.2, -0.07], dtype=np.float32)\n",
    "high = np.array([ 0.6,  0.07], dtype=np.float32)\n",
    "step = (high-low)/bins\n",
    "\n",
    "print(\"shape:\", Q.shape, Q.dtype)\n",
    "print(\"min, max:\", np.min(Q), np.max(Q))"
   ]
  },
  {
   "cell_type": "markdown",
   "metadata": {},
   "source": [
    "## Visualization"
   ]
  },
  {
   "cell_type": "code",
   "execution_count": null,
   "metadata": {},
   "outputs": [],
   "source": [
    "def plot(mat, title, d_ticks=1000, bins = (101,101)):\n",
    "    def index(state):        \n",
    "        indx = ((state - low)/step).astype(np.int)\n",
    "        indx = np.clip(indx, (0,0), (bins[0]-1, bins[1]-1))\n",
    "        return tuple( indx )\n",
    "\n",
    "    g, m, x0   = index([0.5, 0.]), index([-math.pi/6, 0.]), np.array([ index([-0.6, 0.]), index([-0.4, 0.]) ])\n",
    "    cmap = colors.ListedColormap(['gray', 'blue', 'white', 'red'])    \n",
    "    \n",
    "    plt.imshow(mat.T, interpolation='none', origin='lower', cmap= cmap, alpha=0.5)\n",
    "\n",
    "    plt.title (title, {'fontsize': 16})\n",
    "    plt.xlabel('x', {'fontsize': 16});         plt.ylabel('v', {'fontsize': 16}) \n",
    "    plt.axhline(g[1], c=\"black\", linewidth=1); plt.axvline(g[0], c=\"black\", linewidth=1)\n",
    "    plt.axvline(m[0], c=\"black\", linewidth=1)\n",
    "    plt.axvline(x0[0][0], c=\"black\", linewidth=2, ymin = 0.49, ymax = 0.51)\n",
    "    plt.axvline(x0[1][0], c=\"black\", linewidth=2, ymin = 0.49, ymax = 0.51)\n",
    "    ticks = range(0, bins[0], d_ticks)\n",
    "    plt.xticks( ticks, np.round(100*np.linspace(low[0], high[0], len(ticks)))/100 )\n",
    "    plt.yticks( ticks, np.round(100*np.linspace(low[1], high[1], len(ticks)))/100 )\n",
    "    \n",
    "    \n",
    "plt.figure(figsize=(5,5))\n",
    "plot(pi, \"\", bins=bins)\n",
    "plt.show()"
   ]
  },
  {
   "cell_type": "markdown",
   "metadata": {},
   "source": [
    "## Create dataset"
   ]
  },
  {
   "cell_type": "code",
   "execution_count": null,
   "metadata": {
    "id": "nc0L68w8jJli"
   },
   "outputs": [],
   "source": [
    "X, Y = [], []    \n",
    "for ix in range(1, bins[0] - 1):\n",
    "    for iv in range(1, bins[1] - 1):\n",
    "        a = pi[ix, iv]\n",
    "        if a != -1:                \n",
    "            X.append( (low + (ix, iv)*step).tolist() )\n",
    "            Y.append( float(pi[ix, iv])/2. )                          # !!!!! [0,2] -> [0,1]\n",
    "    print(f\"\\r {100.*ix/bins[0]: .0f}%\", end=\"\")\n",
    "print(\" ... created\")\n",
    "    \n",
    "X, Y = torch.tensor(X, dtype=torch.float32), torch.tensor(Y, dtype=torch.float32).view(-1,1)         \n",
    "\n",
    "print(X[-3:])\n",
    "print(Y[-3:])\n",
    "\n",
    "print(torch.min(Y), torch.max(Y), len(Y), torch.sum(Y == 1.), torch.sum( Y == 0.))"
   ]
  },
  {
   "cell_type": "code",
   "execution_count": null,
   "metadata": {
    "colab": {
     "base_uri": "https://localhost:8080/"
    },
    "executionInfo": {
     "elapsed": 37103,
     "status": "ok",
     "timestamp": 1654411696106,
     "user": {
      "displayName": "Sergey Stepanov",
      "userId": "11972621437342649150"
     },
     "user_tz": -180
    },
    "id": "axp53BRHjOaA",
    "outputId": "71bad6de-fd01-419a-f6a4-72edda5ea83c"
   },
   "outputs": [],
   "source": [
    "data = torch.cat([X, Y], 1)\n",
    "np.save(\"data/data_XY\", data.numpy())\n",
    "del data"
   ]
  },
  {
   "cell_type": "code",
   "execution_count": null,
   "metadata": {},
   "outputs": [],
   "source": [
    "data = np.load(\"data/data_XY.npy\")\n",
    "X, Y = data[:,0:2], data[:,2:]\n",
    "X, Y = torch.tensor(X, dtype=torch.float32), torch.tensor(Y, dtype=torch.float32).view(-1,1)         \n",
    "print(torch.min(Y), torch.max(Y), len(Y), torch.sum(Y == 1.), torch.sum( Y == 0.))"
   ]
  },
  {
   "cell_type": "markdown",
   "metadata": {
    "id": "v-ROXhJHdmSQ"
   },
   "source": [
    "## Create divice"
   ]
  },
  {
   "cell_type": "code",
   "execution_count": null,
   "metadata": {
    "colab": {
     "base_uri": "https://localhost:8080/"
    },
    "executionInfo": {
     "elapsed": 273,
     "status": "ok",
     "timestamp": 1654507620460,
     "user": {
      "displayName": "Sergey Stepanov",
      "userId": "11972621437342649150"
     },
     "user_tz": -180
    },
    "id": "51VQ_1wCjR-3",
    "outputId": "8be63f41-5ff4-4f56-ffd7-83f592522ce7"
   },
   "outputs": [],
   "source": [
    "gpu = torch.device(\"cuda:0\" if torch.cuda.is_available() else \"cpu\")\n",
    "print(gpu)"
   ]
  },
  {
   "cell_type": "markdown",
   "metadata": {
    "id": "p-9UJ0gqjZb3"
   },
   "source": [
    "## Network architecture"
   ]
  },
  {
   "cell_type": "code",
   "execution_count": null,
   "metadata": {
    "colab": {
     "base_uri": "https://localhost:8080/"
    },
    "executionInfo": {
     "elapsed": 14974,
     "status": "ok",
     "timestamp": 1654507655631,
     "user": {
      "displayName": "Sergey Stepanov",
      "userId": "11972621437342649150"
     },
     "user_tz": -180
    },
    "id": "se35xNZGjZb3",
    "outputId": "48987253-f537-4bf9-8b05-181e888e2da8"
   },
   "outputs": [],
   "source": [
    "neurons = [2, 32, 64, 1]\n",
    "layers  = [] \n",
    "for i in range(len(neurons)-1):\n",
    "    layers.append( nn.Linear(neurons[i], neurons[i+1]) )\n",
    "    layers.append( nn.Sigmoid() )\n",
    "\n",
    "model = nn.Sequential( *layers ) \n",
    "model.to(gpu) "
   ]
  },
  {
   "cell_type": "markdown",
   "metadata": {
    "id": "CH6rP_9WsHja"
   },
   "source": [
    "## Obtaining a policy matrix from a neural network"
   ]
  },
  {
   "cell_type": "code",
   "execution_count": null,
   "metadata": {},
   "outputs": [],
   "source": [
    "def table(bins = (101, 101)):    \n",
    "    res = np.empty(bins)\n",
    "    step = (high-low)/bins\n",
    "    indx = torch.cartesian_prod(torch.arange(0, bins[0]), torch.arange(0, bins[1]))\n",
    "    \n",
    "    X = torch.tensor(low, dtype = torch.float32) + indx*torch.tensor(step, dtype = torch.float32)        \n",
    "    \n",
    "    with torch.no_grad():\n",
    "        X = X.to(gpu)\n",
    "        Y = model.to(gpu)(X).cpu()\n",
    "    \n",
    "    Y = (2*Y).round().view(bins[0], bins[1]).numpy()\n",
    "    return Y\n",
    "\n",
    "res = table( (1001, 1001) )\n",
    "print(res.shape)"
   ]
  },
  {
   "cell_type": "code",
   "execution_count": null,
   "metadata": {
    "colab": {
     "base_uri": "https://localhost:8080/",
     "height": 594
    },
    "executionInfo": {
     "elapsed": 396,
     "status": "ok",
     "timestamp": 1654521114782,
     "user": {
      "displayName": "Sergey Stepanov",
      "userId": "11972621437342649150"
     },
     "user_tz": -180
    },
    "id": "Evkj--IAjZb6",
    "outputId": "d30c43ba-19cc-4259-9c03-a89dbd7421ca"
   },
   "outputs": [],
   "source": [
    "plot(res, 'Policy function, Reward: -98.1 ± 0.1 in [-107, -83]', d_ticks=200, bins = (1001, 1001))"
   ]
  },
  {
   "cell_type": "markdown",
   "metadata": {
    "id": "fx-SQLVPr-cA"
   },
   "source": [
    "## Learning"
   ]
  },
  {
   "cell_type": "code",
   "execution_count": null,
   "metadata": {
    "colab": {
     "base_uri": "https://localhost:8080/"
    },
    "executionInfo": {
     "elapsed": 4,
     "status": "ok",
     "timestamp": 1654507655632,
     "user": {
      "displayName": "Sergey Stepanov",
      "userId": "11972621437342649150"
     },
     "user_tz": -180
    },
    "id": "-h-n-h7BjZb4",
    "outputId": "e73bac12-5969-4216-c428-2262db7ba59a"
   },
   "outputs": [],
   "source": [
    "loss      = nn.BCELoss()\n",
    "optimizer = torch.optim.SGD(model.parameters(),   lr=0.1, momentum=0.8) \n",
    "#optimizer = torch.optim.Adam(model.parameters(), lr=0.1 )\n",
    "\n",
    "X = X.to(gpu)\n",
    "Y = Y.to(gpu)\n",
    "print(X.device, Y.device)"
   ]
  },
  {
   "cell_type": "code",
   "execution_count": null,
   "metadata": {
    "executionInfo": {
     "elapsed": 17212,
     "status": "ok",
     "timestamp": 1654507683107,
     "user": {
      "displayName": "Sergey Stepanov",
      "userId": "11972621437342649150"
     },
     "user_tz": -180
    },
    "id": "Mq_wnX8ujZb4"
   },
   "outputs": [],
   "source": [
    "def fit(model, X,Y, batch_size=1000, train=True):          \n",
    "    model.train(train)                                   # important for Dropout, BatchNorm\n",
    "    sumL, sumA, numB = 0, 0, int( len(X)/batch_size )    # error, accuracy, batches\n",
    "       \n",
    "    idx = torch.randperm( len(X) ).to(gpu)               # mix index list\n",
    "    X, Y = X[idx], Y[idx]      \n",
    "\n",
    "    for i in range(0, numB*batch_size, batch_size):          \n",
    "        xb, yb = X[i: i+batch_size],  Y[i: i+batch_size]                                 \n",
    "              \n",
    "        y = model(xb)                                    # direct distribution\n",
    "        L = loss(y, yb)                                  # calculate the loss\n",
    "  \n",
    "        if train:                                        # in learning mode\n",
    "            optimizer.zero_grad()                        # reset the gradients        \n",
    "            L.backward()                                 # calculate gradients            \n",
    "            optimizer.step()                             # adjusting parameters\n",
    "                                     \n",
    "        sumL += L.detach().item()                        # total error (item from graph)\n",
    "        sumA += (y.round() == yb).float().mean()         # class definition accuracy\n",
    "         \n",
    "    return sumL/numB,  sumA/numB                         # mean error and accuracy\n",
    "\n",
    "\n",
    "    \n",
    "def plot_fit(history):\n",
    "    data = np.array(history)\n",
    "    \n",
    "    plt.figure(figsize=(18, 6))\n",
    "    plt.subplot(1, 3, 1)        \n",
    "    plt.xlabel('epoch');  plt.ylabel('loss');\n",
    "    plt.plot(data[:,0], data[:,1])\n",
    "    \n",
    "    plt.subplot(1, 3, 2)        \n",
    "    plt.ylim(0.9, 1.); plt.xlabel('epoch');  plt.ylabel('acc');\n",
    "    plt.plot(data[:,0], data[:,2])\n",
    "    \n",
    "    plt.subplot(1, 3, 3)        \n",
    "    res = table( (1001, 1001) )\n",
    "    plot(res, '', d_ticks=200, bins = (1001, 1001))\n",
    "    \n",
    "    plt.show()\n",
    "    "
   ]
  },
  {
   "cell_type": "code",
   "execution_count": null,
   "metadata": {
    "colab": {
     "base_uri": "https://localhost:8080/"
    },
    "executionInfo": {
     "elapsed": 1844872,
     "status": "ok",
     "timestamp": 1654520124639,
     "user": {
      "displayName": "Sergey Stepanov",
      "userId": "11972621437342649150"
     },
     "user_tz": -180
    },
    "id": "9Cwn22IPjZb5",
    "outputId": "18e728af-a36e-4051-9698-5661c6d5e3a9"
   },
   "outputs": [],
   "source": [
    "model.to(gpu)\n",
    "print( \"before:      loss: %.5f accuracy: %.4f\" %  fit(model, X,Y, train=False) )\n",
    " \n",
    "beg = time.process_time()\n",
    "history = []\n",
    "\n",
    "epochs = 1000                                              # number of epochs\n",
    "for epoch in range(1, epochs+1):                                \n",
    "    L, A = fit(model, X, Y, batch_size=500)                 # one epoch\n",
    "    history.append((epoch, L, A))\n",
    "       \n",
    "    if epoch % 1 == 0 or epoch == epochs:  \n",
    "        print(f\"\\repoch: {epoch:5d} loss: {L:.5f} accuracy: {A:.4f}   {time.process_time()-beg:.2f}s\", end=\"\")   \n",
    "        beg = time.process_time()\n",
    "        \n",
    "    if epoch % 10 == 0:\n",
    "        plot_fit(history)\n",
    " "
   ]
  },
  {
   "cell_type": "markdown",
   "metadata": {
    "id": "lu1eIWVGsVNN"
   },
   "source": [
    "## Testing a neural network on a real environment"
   ]
  },
  {
   "cell_type": "code",
   "execution_count": null,
   "metadata": {
    "colab": {
     "base_uri": "https://localhost:8080/"
    },
    "executionInfo": {
     "elapsed": 170164,
     "status": "ok",
     "timestamp": 1654521345468,
     "user": {
      "displayName": "Sergey Stepanov",
      "userId": "11972621437342649150"
     },
     "user_tz": -180
    },
    "id": "RMjoanHLjZb6",
    "outputId": "67e1820e-14ab-4b84-8de3-ff675a58e1ec"
   },
   "outputs": [],
   "source": [
    "def test(model, episodes = 1000, ticks=200, level = 0.05):\n",
    "    env = gym.make(\"MountainCar-v0\")\n",
    "    rews = []\n",
    "    for episode in range(episodes):\n",
    "        obs =  env.reset()\n",
    "        tot = 0\n",
    "        for _ in range(ticks):\n",
    "            with torch.no_grad():\n",
    "                #x = 2.*(torch.tensor(obs, dtype=torch.float32) - low)/(high-low) - 1.\n",
    "                x = torch.tensor(obs, dtype=torch.float32)\n",
    "                y = model(x)\n",
    "            \n",
    "            if   y > 0.5 + level:\n",
    "                action = 2\n",
    "            elif y < 0.5 - level:\n",
    "                action = 0\n",
    "            else:\n",
    "                action = 1            \n",
    "\n",
    "            obs, rew, done, _ = env.step(action)\n",
    "            tot += rew\n",
    "\n",
    "            if done:\n",
    "                break\n",
    "\n",
    "        rews.append(tot)\n",
    "        if episode and episode % 100 == 0:\n",
    "            mean, std = np.mean(rews), np.std(rews)\n",
    "            print(f\"\\r{episode:5d}:  Reward: {mean:7.2f} ± {std/len(rews)**0.5:.1f}, std: {std:.0f}, min: {np.min(rews):.0f}  max: {np.max(rews):.0f}\", end=\"\")  \n",
    "\n",
    "    mean, std = np.mean(rews), np.std(rews)\n",
    "    print(f\"\\r{episode:5d}:  Reward: {mean:7.2f} ± {std/len(rews)**0.5:.1f}, std: {std:.0f}, min: {np.min(rews):.0f}  max: {np.max(rews):.0f}\")  \n",
    "            \n",
    "    \n",
    "test(model.cpu(), level = 0.05)"
   ]
  },
  {
   "cell_type": "code",
   "execution_count": null,
   "metadata": {
    "id": "HYGFQcEUjZb6"
   },
   "outputs": [],
   "source": [
    "import datetime\n",
    "  \n",
    "state = {'info':      \"MountainCar Reward:  -98.27 ± 0.1, std: 7, [-108, -83]\",            # описание\n",
    "         'date':      datetime.datetime.now(),   # дата и время\n",
    "         'model' :    model.state_dict(),        # параметры модели\n",
    "         'optimizer': optimizer.state_dict()}    # состояние оптимизатора\n",
    " \n",
    "torch.save(state, 'MountainCar_2_128_128_1.98.2.pt')                    # сохраняем файл"
   ]
  },
  {
   "cell_type": "code",
   "execution_count": null,
   "metadata": {
    "id": "x87PkOvwys9E"
   },
   "outputs": [],
   "source": [
    "import datetime\n",
    "  \n",
    "state = {'info':      \"MountainCar\",            # описание\n",
    "         'date':      datetime.datetime.now(),   # дата и время\n",
    "         'model' :    model.state_dict(),        # параметры модели\n",
    "         'optimizer': optimizer.state_dict()}    # состояние оптимизатора\n",
    " \n",
    "torch.save(state, 'MountainCar_16_32_soft.9980.99.pt')                    # сохраняем файл"
   ]
  },
  {
   "cell_type": "code",
   "execution_count": null,
   "metadata": {
    "colab": {
     "base_uri": "https://localhost:8080/",
     "height": 372
    },
    "executionInfo": {
     "elapsed": 36297,
     "status": "error",
     "timestamp": 1654330808573,
     "user": {
      "displayName": "Sergey Stepanov",
      "userId": "11972621437342649150"
     },
     "user_tz": -180
    },
    "id": "CrRf6AAsLRlT",
    "outputId": "7ad39283-4f50-47cf-aafe-2babb5940f66"
   },
   "outputs": [],
   "source": [
    "def test(model, episodes = 10000, ticks=200, level = 0.05):\n",
    "    env = gym.make(\"MountainCar-v0\")\n",
    "    rews = []\n",
    "    for episode in range(episodes):\n",
    "        obs =  env.reset()\n",
    "        tot = 0\n",
    "        for _ in range(ticks):\n",
    "            with torch.no_grad():\n",
    "                y = model(torch.tensor(obs, dtype=torch.float32))\n",
    "                a = torch.argmax( torch.softmax(y, 0), 0 )\n",
    "            action = a.item()\n",
    "\n",
    "            obs, rew, done, _ = env.step(action)\n",
    "            tot += rew\n",
    "\n",
    "            if done:\n",
    "                break\n",
    "\n",
    "        rews.append(tot)\n",
    "        if episode and episode % 100 == 0:\n",
    "            mean, std = np.mean(rews), np.std(rews)\n",
    "            print(f\"\\r{episode:5d}:  Reward: {mean:7.2f} ± {std/len(rews)**0.5:.1f}, std: {std:.0f}, min: {np.min(rews):.0f}  max: {np.max(rews):.0f}\", end=\"\")  \n",
    "\n",
    "    mean, std = np.mean(rews), np.std(rews)\n",
    "    print(f\"\\r{episode:5d}:  Reward: {mean:7.2f} ± {std/len(rews)**0.5:.1f}, std: {std:.0f}, min: {np.min(rews):.0f}  max: {np.max(rews):.0f}\")  \n",
    "            \n",
    "    \n",
    "test(model, level = 0.05)"
   ]
  }
 ],
 "metadata": {
  "accelerator": "GPU",
  "colab": {
   "authorship_tag": "ABX9TyOyGWMPaQF6awvPPhmsY9JG",
   "collapsed_sections": [],
   "name": "MountainCar-Solution_Softmax.ipynb",
   "provenance": []
  },
  "kernelspec": {
   "display_name": "Python 3 (ipykernel)",
   "language": "python",
   "name": "python3"
  },
  "language_info": {
   "codemirror_mode": {
    "name": "ipython",
    "version": 3
   },
   "file_extension": ".py",
   "mimetype": "text/x-python",
   "name": "python",
   "nbconvert_exporter": "python",
   "pygments_lexer": "ipython3",
   "version": "3.8.10"
  }
 },
 "nbformat": 4,
 "nbformat_minor": 1
}
