{
 "cells": [
  {
   "cell_type": "markdown",
   "metadata": {
    "id": "pY6a4qzQSXzx"
   },
   "source": [
    "# Approximation Policy Function in the MountainCar problem\n",
    "## Neural network with one output (sigmoid)¶\n",
    "\n",
    "Approximation of the policy function found by constructing the state graph"
   ]
  },
  {
   "cell_type": "markdown",
   "metadata": {
    "id": "2lqyEHOgdNO4"
   },
   "source": [
    "## Load from file"
   ]
  },
  {
   "cell_type": "code",
   "execution_count": 140,
   "metadata": {
    "colab": {
     "base_uri": "https://localhost:8080/"
    },
    "executionInfo": {
     "elapsed": 259,
     "status": "ok",
     "timestamp": 1654507615204,
     "user": {
      "displayName": "Sergey Stepanov",
      "userId": "11972621437342649150"
     },
     "user_tz": -180
    },
    "id": "Fc93aD1NcESy",
    "outputId": "d0a8165b-5360-4ab8-dc98-1f3f2485728a"
   },
   "outputs": [
    {
     "name": "stdout",
     "output_type": "stream",
     "text": [
      "shape: (5001, 5001) int64\n",
      "min, max: -1 2\n",
      "counts: 17060598 3522015 2131 4425257\n"
     ]
    }
   ],
   "source": [
    "import math\n",
    "import time\n",
    "import gym\n",
    "import numpy as np\n",
    "import matplotlib.pyplot as plt\n",
    "from   matplotlib import colors\n",
    "import torch\n",
    "import torch.nn as nn\n",
    "\n",
    "pi = np.load(\"data/pi_smooth_thin.npy\")\n",
    "\n",
    "bins = pi.shape\n",
    "\n",
    "low  = np.array([-1.2, -0.07], dtype=np.float32)\n",
    "high = np.array([ 0.6,  0.07], dtype=np.float32)\n",
    "step = (high-low)/bins\n",
    "\n",
    "print(\"shape:\", pi.shape, pi.dtype)\n",
    "print(\"min, max:\", np.min(pi), np.max(pi))\n",
    "print(\"counts:\", np.sum(pi == -1), np.sum(pi == 0), np.sum( pi == 1), np.sum( pi == 2))"
   ]
  },
  {
   "cell_type": "markdown",
   "metadata": {},
   "source": [
    "## Visualization"
   ]
  },
  {
   "cell_type": "code",
   "execution_count": 128,
   "metadata": {},
   "outputs": [
    {
     "data": {
      "image/png": "[encoded data removed]",
      "text/plain": [
       "<Figure size 360x360 with 1 Axes>"
      ]
     },
     "metadata": {
      "needs_background": "light"
     },
     "output_type": "display_data"
    }
   ],
   "source": [
    "def plot(mat, title, d_ticks=1000, bins = (101,101)):\n",
    "    def index(state):        \n",
    "        indx = ((state - low)/step).astype(int)\n",
    "        indx = np.clip(indx, (0,0), (bins[0]-1, bins[1]-1))\n",
    "        return tuple( indx )\n",
    "\n",
    "    g, m, x0   = index([0.5, 0.]), index([-math.pi/6, 0.]), np.array([ index([-0.6, 0.]), index([-0.4, 0.]) ])\n",
    "    cmap = colors.ListedColormap(['gray', 'blue', 'white', 'red'])    \n",
    "    \n",
    "    plt.imshow(mat.T, interpolation='none', origin='lower', cmap= cmap, alpha=0.5)\n",
    "\n",
    "    plt.title (title, {'fontsize': 16})\n",
    "    plt.xlabel('x', {'fontsize': 16});         plt.ylabel('v', {'fontsize': 16}) \n",
    "    plt.axhline(g[1], c=\"black\", linewidth=1); plt.axvline(g[0], c=\"black\", linewidth=1)\n",
    "    plt.axvline(m[0], c=\"black\", linewidth=1)\n",
    "    plt.axvline(x0[0][0], c=\"black\", linewidth=2, ymin = 0.49, ymax = 0.51)\n",
    "    plt.axvline(x0[1][0], c=\"black\", linewidth=2, ymin = 0.49, ymax = 0.51)\n",
    "    ticks = range(0, bins[0], d_ticks)\n",
    "    plt.xticks( ticks, np.round(100*np.linspace(low[0], high[0], len(ticks)))/100 )\n",
    "    plt.yticks( ticks, np.round(100*np.linspace(low[1], high[1], len(ticks)))/100 )\n",
    "    \n",
    "    \n",
    "plt.figure(figsize=(5,5))\n",
    "plot(pi, \"\", bins=bins)\n",
    "plt.show()"
   ]
  },
  {
   "cell_type": "markdown",
   "metadata": {},
   "source": [
    "## Create dataset"
   ]
  },
  {
   "cell_type": "code",
   "execution_count": 129,
   "metadata": {
    "id": "nc0L68w8jJli"
   },
   "outputs": [
    {
     "name": "stdout",
     "output_type": "stream",
     "text": [
      "  100% ... created\n",
      "tensor([[0.5993, 0.0009],\n",
      "        [0.5993, 0.0009],\n",
      "        [0.5993, 0.0010]])\n",
      "tensor([[1.],\n",
      "        [1.],\n",
      "        [1.]])\n",
      "tensor(0.) tensor(1.) 7949238 tensor(4425093) tensor(3522014)\n"
     ]
    }
   ],
   "source": [
    "X, Y = [], []    \n",
    "for ix in range(1, bins[0] - 1):\n",
    "    for iv in range(1, bins[1] - 1):\n",
    "        a = pi[ix, iv]\n",
    "        if a != -1:                \n",
    "            X.append( (low + (ix, iv)*step).tolist() )\n",
    "            Y.append( float(pi[ix, iv])/2. )                          # !!!!! [0,2] -> [0,1]\n",
    "    print(f\"\\r {100.*ix/bins[0]: .0f}%\", end=\"\")\n",
    "print(\" ... created\")\n",
    "    \n",
    "X, Y = torch.tensor(X, dtype=torch.float32), torch.tensor(Y, dtype=torch.float32).view(-1,1)         \n",
    "\n",
    "print(X[-3:])\n",
    "print(Y[-3:])\n",
    "\n",
    "print(torch.min(Y), torch.max(Y), len(Y), torch.sum(Y == 1.), torch.sum( Y == 0.))"
   ]
  },
  {
   "cell_type": "code",
   "execution_count": 130,
   "metadata": {
    "colab": {
     "base_uri": "https://localhost:8080/"
    },
    "executionInfo": {
     "elapsed": 37103,
     "status": "ok",
     "timestamp": 1654411696106,
     "user": {
      "displayName": "Sergey Stepanov",
      "userId": "11972621437342649150"
     },
     "user_tz": -180
    },
    "id": "axp53BRHjOaA",
    "outputId": "71bad6de-fd01-419a-f6a4-72edda5ea83c"
   },
   "outputs": [],
   "source": [
    "data = torch.cat([X, Y], 1)\n",
    "np.save(\"data/data_XY\", data.numpy())\n",
    "del data"
   ]
  },
  {
   "cell_type": "code",
   "execution_count": 132,
   "metadata": {},
   "outputs": [
    {
     "name": "stdout",
     "output_type": "stream",
     "text": [
      "tensor(0.) tensor(1.) 7949238 tensor(4425093) tensor(3522014)\n"
     ]
    }
   ],
   "source": [
    "data = np.load(\"data/data_XY.npy\")\n",
    "X, Y = data[:,0:2], data[:,2:]\n",
    "X, Y = torch.tensor(X, dtype=torch.float32), torch.tensor(Y, dtype=torch.float32).view(-1,1)         \n",
    "print(torch.min(Y), torch.max(Y), len(Y), torch.sum(Y == 1.), torch.sum( Y == 0.))"
   ]
  },
  {
   "cell_type": "markdown",
   "metadata": {
    "id": "v-ROXhJHdmSQ"
   },
   "source": [
    "## Create divice"
   ]
  },
  {
   "cell_type": "code",
   "execution_count": 80,
   "metadata": {
    "colab": {
     "base_uri": "https://localhost:8080/"
    },
    "executionInfo": {
     "elapsed": 273,
     "status": "ok",
     "timestamp": 1654507620460,
     "user": {
      "displayName": "Sergey Stepanov",
      "userId": "11972621437342649150"
     },
     "user_tz": -180
    },
    "id": "51VQ_1wCjR-3",
    "outputId": "8be63f41-5ff4-4f56-ffd7-83f592522ce7"
   },
   "outputs": [
    {
     "name": "stdout",
     "output_type": "stream",
     "text": [
      "cuda:0\n"
     ]
    }
   ],
   "source": [
    "gpu = torch.device(\"cuda:0\" if torch.cuda.is_available() else \"cpu\")\n",
    "print(gpu)"
   ]
  },
  {
   "cell_type": "markdown",
   "metadata": {
    "id": "p-9UJ0gqjZb3"
   },
   "source": [
    "## Network architecture"
   ]
  },
  {
   "cell_type": "code",
   "execution_count": 134,
   "metadata": {
    "colab": {
     "base_uri": "https://localhost:8080/"
    },
    "executionInfo": {
     "elapsed": 14974,
     "status": "ok",
     "timestamp": 1654507655631,
     "user": {
      "displayName": "Sergey Stepanov",
      "userId": "11972621437342649150"
     },
     "user_tz": -180
    },
    "id": "se35xNZGjZb3",
    "outputId": "48987253-f537-4bf9-8b05-181e888e2da8"
   },
   "outputs": [
    {
     "data": {
      "text/plain": [
       "Sequential(\n",
       "  (0): Linear(in_features=2, out_features=32, bias=True)\n",
       "  (1): Sigmoid()\n",
       "  (2): Linear(in_features=32, out_features=64, bias=True)\n",
       "  (3): Sigmoid()\n",
       "  (4): Linear(in_features=64, out_features=1, bias=True)\n",
       "  (5): Sigmoid()\n",
       ")"
      ]
     },
     "execution_count": 134,
     "metadata": {},
     "output_type": "execute_result"
    }
   ],
   "source": [
    "neurons = [2, 32, 64, 1]\n",
    "layers  = [] \n",
    "for i in range(len(neurons)-1):\n",
    "    layers.append( nn.Linear(neurons[i], neurons[i+1]) )\n",
    "    layers.append( nn.Sigmoid() )\n",
    "\n",
    "model = nn.Sequential( *layers ) \n",
    "model.to(gpu) "
   ]
  },
  {
   "cell_type": "markdown",
   "metadata": {
    "id": "CH6rP_9WsHja"
   },
   "source": [
    "## Obtaining a policy matrix from a neural network"
   ]
  },
  {
   "cell_type": "code",
   "execution_count": 125,
   "metadata": {},
   "outputs": [
    {
     "name": "stdout",
     "output_type": "stream",
     "text": [
      "model calc torch.Size([1002001, 2])\n",
      "(1001, 1001)\n"
     ]
    }
   ],
   "source": [
    "def table(bins = (101, 101)):    \n",
    "    res = np.empty(bins)\n",
    "    step = (high-low)/bins\n",
    "    indx = torch.cartesian_prod(torch.arange(0, bins[0]), torch.arange(0, bins[1]))\n",
    "    \n",
    "    X = torch.tensor(low, dtype = torch.float32) + indx*torch.tensor(step, dtype = torch.float32)        \n",
    "    \n",
    "    with torch.no_grad():\n",
    "        X = X.to(gpu)\n",
    "        Y = model.to(gpu)(X).cpu()        \n",
    "    \n",
    "    Y = (2*Y).round().view(bins[0], bins[1]).numpy()\n",
    "    return Y"
   ]
  },
  {
   "cell_type": "code",
   "execution_count": 126,
   "metadata": {
    "colab": {
     "base_uri": "https://localhost:8080/",
     "height": 594
    },
    "executionInfo": {
     "elapsed": 396,
     "status": "ok",
     "timestamp": 1654521114782,
     "user": {
      "displayName": "Sergey Stepanov",
      "userId": "11972621437342649150"
     },
     "user_tz": -180
    },
    "id": "Evkj--IAjZb6",
    "outputId": "d30c43ba-19cc-4259-9c03-a89dbd7421ca"
   },
   "outputs": [
    {
     "data": {
      "image/png": "[encoded data removed]",
      "text/plain": [
       "<Figure size 432x288 with 1 Axes>"
      ]
     },
     "metadata": {
      "needs_background": "light"
     },
     "output_type": "display_data"
    }
   ],
   "source": [
    "plt.figure(figsize=(10,10))\n",
    "res = table( (1001, 1001) )\n",
    "plot(res, 'Policy function, Reward: -98.1 ± 0.1 in [-107, -83]', d_ticks=100, bins = (1001, 1001))\n",
    "plt.show()"
   ]
  },
  {
   "cell_type": "markdown",
   "metadata": {
    "id": "fx-SQLVPr-cA"
   },
   "source": [
    "## Learning"
   ]
  },
  {
   "cell_type": "code",
   "execution_count": 136,
   "metadata": {
    "colab": {
     "base_uri": "https://localhost:8080/"
    },
    "executionInfo": {
     "elapsed": 4,
     "status": "ok",
     "timestamp": 1654507655632,
     "user": {
      "displayName": "Sergey Stepanov",
      "userId": "11972621437342649150"
     },
     "user_tz": -180
    },
    "id": "-h-n-h7BjZb4",
    "outputId": "e73bac12-5969-4216-c428-2262db7ba59a"
   },
   "outputs": [
    {
     "name": "stdout",
     "output_type": "stream",
     "text": [
      "cuda:0 cuda:0\n"
     ]
    }
   ],
   "source": [
    "loss      = nn.BCELoss()\n",
    "optimizer = torch.optim.SGD(model.parameters(),   lr=0.1, momentum=0.8) \n",
    "#optimizer = torch.optim.Adam(model.parameters(), lr=0.1 )\n",
    "\n",
    "X = X.to(gpu)\n",
    "Y = Y.to(gpu)\n",
    "print(X.device, Y.device)"
   ]
  },
  {
   "cell_type": "code",
   "execution_count": 137,
   "metadata": {
    "executionInfo": {
     "elapsed": 17212,
     "status": "ok",
     "timestamp": 1654507683107,
     "user": {
      "displayName": "Sergey Stepanov",
      "userId": "11972621437342649150"
     },
     "user_tz": -180
    },
    "id": "Mq_wnX8ujZb4"
   },
   "outputs": [],
   "source": [
    "def fit(model, X,Y, batch_size=1000, train=True):          \n",
    "    model.train(train)                                   # important for Dropout, BatchNorm\n",
    "    sumL, sumA, numB = 0, 0, int( len(X)/batch_size )    # error, accuracy, batches\n",
    "       \n",
    "    idx = torch.randperm( len(X) ).to(gpu)               # mix index list\n",
    "    X, Y = X[idx], Y[idx]      \n",
    "\n",
    "    for i in range(0, numB*batch_size, batch_size):          \n",
    "        xb, yb = X[i: i+batch_size],  Y[i: i+batch_size]                                 \n",
    "              \n",
    "        y = model(xb)                                    # direct distribution\n",
    "        L = loss(y, yb)                                  # calculate the loss\n",
    "  \n",
    "        if train:                                        # in learning mode\n",
    "            optimizer.zero_grad()                        # reset the gradients        \n",
    "            L.backward()                                 # calculate gradients            \n",
    "            optimizer.step()                             # adjusting parameters\n",
    "                                     \n",
    "        sumL += L.item()                                 # total error (item from graph)\n",
    "        sumA += (y.round() == yb).float().mean().item()  # class definition accuracy\n",
    "         \n",
    "    return sumL/numB,  sumA/numB                         # mean error and accuracy\n",
    "\n",
    "\n",
    "    \n",
    "def plot_fit(history):\n",
    "    data = np.array(history)\n",
    "    \n",
    "    plt.figure(figsize=(18, 6))\n",
    "    plt.subplot(1, 3, 1)        \n",
    "    plt.xlabel('epoch');  plt.ylabel('loss');\n",
    "    plt.plot(data[:,0], data[:,1])\n",
    "    \n",
    "    plt.subplot(1, 3, 2)        \n",
    "    #plt.ylim(0.9, 1.); \n",
    "    plt.xlabel('epoch');  plt.ylabel('acc');\n",
    "    plt.plot(data[:,0], data[:,2])\n",
    "\n",
    "    plt.subplot(1, 3, 3)        \n",
    "    res = table( (1001, 1001) )\n",
    "    plot(res, '', d_ticks=100, bins = (1001, 1001))\n",
    "\n",
    "    plt.show()    "
   ]
  },
  {
   "cell_type": "code",
   "execution_count": 138,
   "metadata": {
    "colab": {
     "base_uri": "https://localhost:8080/"
    },
    "executionInfo": {
     "elapsed": 1844872,
     "status": "ok",
     "timestamp": 1654520124639,
     "user": {
      "displayName": "Sergey Stepanov",
      "userId": "11972621437342649150"
     },
     "user_tz": -180
    },
    "id": "9Cwn22IPjZb5",
    "outputId": "18e728af-a36e-4051-9698-5661c6d5e3a9"
   },
   "outputs": [
    {
     "name": "stdout",
     "output_type": "stream",
     "text": [
      "before:      loss: 0.73604 accuracy: 0.4431\n",
      "epoch:    10 loss: 0.03132 accuracy: 0.9909   17.97smodel calc torch.Size([1002001, 2])\n"
     ]
    },
    {
     "data": {
      "image/png": "[encoded data removed]",
      "text/plain": [
       "<Figure size 1296x432 with 3 Axes>"
      ]
     },
     "metadata": {
      "needs_background": "light"
     },
     "output_type": "display_data"
    },
    {
     "name": "stdout",
     "output_type": "stream",
     "text": [
      "epoch:    12 loss: 0.02871 accuracy: 0.9916   17.05s"
     ]
    },
    {
     "ename": "KeyboardInterrupt",
     "evalue": "",
     "output_type": "error",
     "traceback": [
      "\u001b[1;31m---------------------------------------------------------------------------\u001b[0m",
      "\u001b[1;31mKeyboardInterrupt\u001b[0m                         Traceback (most recent call last)",
      "Input \u001b[1;32mIn [138]\u001b[0m, in \u001b[0;36m<cell line: 8>\u001b[1;34m()\u001b[0m\n\u001b[0;32m      7\u001b[0m epochs \u001b[38;5;241m=\u001b[39m \u001b[38;5;241m1000\u001b[39m                                              \u001b[38;5;66;03m# number of epochs\u001b[39;00m\n\u001b[0;32m      8\u001b[0m \u001b[38;5;28;01mfor\u001b[39;00m epoch \u001b[38;5;129;01min\u001b[39;00m \u001b[38;5;28mrange\u001b[39m(\u001b[38;5;241m1\u001b[39m, epochs\u001b[38;5;241m+\u001b[39m\u001b[38;5;241m1\u001b[39m):                                \n\u001b[1;32m----> 9\u001b[0m     L, A \u001b[38;5;241m=\u001b[39m \u001b[43mfit\u001b[49m\u001b[43m(\u001b[49m\u001b[43mmodel\u001b[49m\u001b[43m,\u001b[49m\u001b[43m \u001b[49m\u001b[43mX\u001b[49m\u001b[43m,\u001b[49m\u001b[43m \u001b[49m\u001b[43mY\u001b[49m\u001b[43m,\u001b[49m\u001b[43m \u001b[49m\u001b[43mbatch_size\u001b[49m\u001b[38;5;241;43m=\u001b[39;49m\u001b[38;5;241;43m500\u001b[39;49m\u001b[43m)\u001b[49m                 \u001b[38;5;66;03m# one epoch\u001b[39;00m\n\u001b[0;32m     10\u001b[0m     history\u001b[38;5;241m.\u001b[39mappend((epoch, L, A))\n\u001b[0;32m     12\u001b[0m     \u001b[38;5;28;01mif\u001b[39;00m epoch \u001b[38;5;241m%\u001b[39m \u001b[38;5;241m1\u001b[39m \u001b[38;5;241m==\u001b[39m \u001b[38;5;241m0\u001b[39m \u001b[38;5;129;01mor\u001b[39;00m epoch \u001b[38;5;241m==\u001b[39m epochs:  \n",
      "Input \u001b[1;32mIn [137]\u001b[0m, in \u001b[0;36mfit\u001b[1;34m(model, X, Y, batch_size, train)\u001b[0m\n\u001b[0;32m     14\u001b[0m \u001b[38;5;28;01mif\u001b[39;00m train:                                        \u001b[38;5;66;03m# in learning mode\u001b[39;00m\n\u001b[0;32m     15\u001b[0m     optimizer\u001b[38;5;241m.\u001b[39mzero_grad()                        \u001b[38;5;66;03m# reset the gradients        \u001b[39;00m\n\u001b[1;32m---> 16\u001b[0m     \u001b[43mL\u001b[49m\u001b[38;5;241;43m.\u001b[39;49m\u001b[43mbackward\u001b[49m\u001b[43m(\u001b[49m\u001b[43m)\u001b[49m                                 \u001b[38;5;66;03m# calculate gradients            \u001b[39;00m\n\u001b[0;32m     17\u001b[0m     optimizer\u001b[38;5;241m.\u001b[39mstep()                             \u001b[38;5;66;03m# adjusting parameters\u001b[39;00m\n\u001b[0;32m     19\u001b[0m sumL \u001b[38;5;241m+\u001b[39m\u001b[38;5;241m=\u001b[39m L\u001b[38;5;241m.\u001b[39mdetach()\u001b[38;5;241m.\u001b[39mitem()                        \u001b[38;5;66;03m# total error (item from graph)\u001b[39;00m\n",
      "File \u001b[1;32mc:\\users\\admin\\appdata\\local\\programs\\python\\python38\\lib\\site-packages\\torch\\_tensor.py:363\u001b[0m, in \u001b[0;36mTensor.backward\u001b[1;34m(self, gradient, retain_graph, create_graph, inputs)\u001b[0m\n\u001b[0;32m    354\u001b[0m \u001b[38;5;28;01mif\u001b[39;00m has_torch_function_unary(\u001b[38;5;28mself\u001b[39m):\n\u001b[0;32m    355\u001b[0m     \u001b[38;5;28;01mreturn\u001b[39;00m handle_torch_function(\n\u001b[0;32m    356\u001b[0m         Tensor\u001b[38;5;241m.\u001b[39mbackward,\n\u001b[0;32m    357\u001b[0m         (\u001b[38;5;28mself\u001b[39m,),\n\u001b[1;32m   (...)\u001b[0m\n\u001b[0;32m    361\u001b[0m         create_graph\u001b[38;5;241m=\u001b[39mcreate_graph,\n\u001b[0;32m    362\u001b[0m         inputs\u001b[38;5;241m=\u001b[39minputs)\n\u001b[1;32m--> 363\u001b[0m \u001b[43mtorch\u001b[49m\u001b[38;5;241;43m.\u001b[39;49m\u001b[43mautograd\u001b[49m\u001b[38;5;241;43m.\u001b[39;49m\u001b[43mbackward\u001b[49m\u001b[43m(\u001b[49m\u001b[38;5;28;43mself\u001b[39;49m\u001b[43m,\u001b[49m\u001b[43m \u001b[49m\u001b[43mgradient\u001b[49m\u001b[43m,\u001b[49m\u001b[43m \u001b[49m\u001b[43mretain_graph\u001b[49m\u001b[43m,\u001b[49m\u001b[43m \u001b[49m\u001b[43mcreate_graph\u001b[49m\u001b[43m,\u001b[49m\u001b[43m \u001b[49m\u001b[43minputs\u001b[49m\u001b[38;5;241;43m=\u001b[39;49m\u001b[43minputs\u001b[49m\u001b[43m)\u001b[49m\n",
      "File \u001b[1;32mc:\\users\\admin\\appdata\\local\\programs\\python\\python38\\lib\\site-packages\\torch\\autograd\\__init__.py:173\u001b[0m, in \u001b[0;36mbackward\u001b[1;34m(tensors, grad_tensors, retain_graph, create_graph, grad_variables, inputs)\u001b[0m\n\u001b[0;32m    168\u001b[0m     retain_graph \u001b[38;5;241m=\u001b[39m create_graph\n\u001b[0;32m    170\u001b[0m \u001b[38;5;66;03m# The reason we repeat same the comment below is that\u001b[39;00m\n\u001b[0;32m    171\u001b[0m \u001b[38;5;66;03m# some Python versions print out the first line of a multi-line function\u001b[39;00m\n\u001b[0;32m    172\u001b[0m \u001b[38;5;66;03m# calls in the traceback and some print out the last line\u001b[39;00m\n\u001b[1;32m--> 173\u001b[0m \u001b[43mVariable\u001b[49m\u001b[38;5;241;43m.\u001b[39;49m\u001b[43m_execution_engine\u001b[49m\u001b[38;5;241;43m.\u001b[39;49m\u001b[43mrun_backward\u001b[49m\u001b[43m(\u001b[49m\u001b[43m  \u001b[49m\u001b[38;5;66;43;03m# Calls into the C++ engine to run the backward pass\u001b[39;49;00m\n\u001b[0;32m    174\u001b[0m \u001b[43m    \u001b[49m\u001b[43mtensors\u001b[49m\u001b[43m,\u001b[49m\u001b[43m \u001b[49m\u001b[43mgrad_tensors_\u001b[49m\u001b[43m,\u001b[49m\u001b[43m \u001b[49m\u001b[43mretain_graph\u001b[49m\u001b[43m,\u001b[49m\u001b[43m \u001b[49m\u001b[43mcreate_graph\u001b[49m\u001b[43m,\u001b[49m\u001b[43m \u001b[49m\u001b[43minputs\u001b[49m\u001b[43m,\u001b[49m\n\u001b[0;32m    175\u001b[0m \u001b[43m    \u001b[49m\u001b[43mallow_unreachable\u001b[49m\u001b[38;5;241;43m=\u001b[39;49m\u001b[38;5;28;43;01mTrue\u001b[39;49;00m\u001b[43m,\u001b[49m\u001b[43m \u001b[49m\u001b[43maccumulate_grad\u001b[49m\u001b[38;5;241;43m=\u001b[39;49m\u001b[38;5;28;43;01mTrue\u001b[39;49;00m\u001b[43m)\u001b[49m\n",
      "\u001b[1;31mKeyboardInterrupt\u001b[0m: "
     ]
    }
   ],
   "source": [
    "model.to(gpu)\n",
    "print( \"before:      loss: %.5f accuracy: %.4f\" %  fit(model, X,Y, train=False) )\n",
    " \n",
    "beg = time.process_time()\n",
    "history = []\n",
    "\n",
    "epochs = 1000                                              # number of epochs\n",
    "for epoch in range(1, epochs+1):                                \n",
    "    L, A = fit(model, X, Y, batch_size=500)                 # one epoch\n",
    "    history.append((epoch, L, A))\n",
    "       \n",
    "    if epoch % 1 == 0 or epoch == epochs:  \n",
    "        print(f\"\\repoch: {epoch:5d} loss: {L:.5f} accuracy: {A:.4f}   {time.process_time()-beg:.2f}s\", end=\"\")   \n",
    "        beg = time.process_time()\n",
    "        \n",
    "    if epoch % 10 == 0:\n",
    "        plot_fit(history)\n",
    " "
   ]
  },
  {
   "cell_type": "markdown",
   "metadata": {
    "id": "lu1eIWVGsVNN"
   },
   "source": [
    "## Testing a neural network on a real environment"
   ]
  },
  {
   "cell_type": "code",
   "execution_count": 99,
   "metadata": {
    "colab": {
     "base_uri": "https://localhost:8080/"
    },
    "executionInfo": {
     "elapsed": 170164,
     "status": "ok",
     "timestamp": 1654521345468,
     "user": {
      "displayName": "Sergey Stepanov",
      "userId": "11972621437342649150"
     },
     "user_tz": -180
    },
    "id": "RMjoanHLjZb6",
    "outputId": "67e1820e-14ab-4b84-8de3-ff675a58e1ec"
   },
   "outputs": [
    {
     "name": "stdout",
     "output_type": "stream",
     "text": [
      "  999:  Reward:  -98.37 ± 0.2, std: 7, min: -106  max: -83\n"
     ]
    }
   ],
   "source": [
    "def test(model, episodes = 1000, ticks=200, level = 0.05):\n",
    "    env = gym.make(\"MountainCar-v0\")\n",
    "    rews = []\n",
    "    for episode in range(episodes):\n",
    "        obs =  env.reset()\n",
    "        tot = 0\n",
    "        for _ in range(ticks):\n",
    "            with torch.no_grad():\n",
    "                #x = 2.*(torch.tensor(obs, dtype=torch.float32) - low)/(high-low) - 1.\n",
    "                x = torch.tensor(obs, dtype=torch.float32)\n",
    "                y = model(x)\n",
    "            \n",
    "            if   y > 0.5 + level:\n",
    "                action = 2\n",
    "            elif y < 0.5 - level:\n",
    "                action = 0\n",
    "            else:\n",
    "                action = 1            \n",
    "\n",
    "            obs, rew, done, _ = env.step(action)\n",
    "            tot += rew\n",
    "\n",
    "            if done:\n",
    "                break\n",
    "\n",
    "        rews.append(tot)\n",
    "        if episode and episode % 100 == 0:\n",
    "            mean, std = np.mean(rews), np.std(rews)\n",
    "            print(f\"\\r{episode:5d}:  Reward: {mean:7.2f} ± {std/len(rews)**0.5:.1f}, std: {std:.0f}, min: {np.min(rews):.0f}  max: {np.max(rews):.0f}\", end=\"\")  \n",
    "\n",
    "    mean, std = np.mean(rews), np.std(rews)\n",
    "    print(f\"\\r{episode:5d}:  Reward: {mean:7.2f} ± {std/len(rews)**0.5:.1f}, std: {std:.0f}, min: {np.min(rews):.0f}  max: {np.max(rews):.0f}\")  \n",
    "            \n",
    "    \n",
    "test(model.cpu(), level = 0.0)"
   ]
  },
  {
   "cell_type": "markdown",
   "metadata": {},
   "source": [
    "## Save net"
   ]
  },
  {
   "cell_type": "code",
   "execution_count": null,
   "metadata": {
    "id": "HYGFQcEUjZb6"
   },
   "outputs": [],
   "source": [
    "import datetime\n",
    "  \n",
    "state = {'info':      \"MountainCar Reward:  -98.27 ± 0.1, std: 7, [-108, -83]\",            # описание\n",
    "         'date':      datetime.datetime.now(),   # дата и время\n",
    "         'model':     str(model),\n",
    "         'state' :    model.state_dict(),        # параметры модели\n",
    "        } \n",
    " \n",
    "torch.save(state, 'MountainCar_2_128_128_1.98.2.pt')                    # сохраняем файл"
   ]
  }
 ],
 "metadata": {
  "accelerator": "GPU",
  "colab": {
   "authorship_tag": "ABX9TyOyGWMPaQF6awvPPhmsY9JG",
   "collapsed_sections": [],
   "name": "MountainCar-Solution_Softmax.ipynb",
   "provenance": []
  },
  "kernelspec": {
   "display_name": "Python 3 (ipykernel)",
   "language": "python",
   "name": "python3"
  },
  "language_info": {
   "codemirror_mode": {
    "name": "ipython",
    "version": 3
   },
   "file_extension": ".py",
   "mimetype": "text/x-python",
   "name": "python",
   "nbconvert_exporter": "python",
   "pygments_lexer": "ipython3",
   "version": "3.8.10"
  }
 },
 "nbformat": 4,
 "nbformat_minor": 1
}
