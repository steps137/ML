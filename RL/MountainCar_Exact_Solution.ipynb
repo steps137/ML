{
 "cells": [
  {
   "cell_type": "markdown",
   "metadata": {
    "id": "pY6a4qzQSXzx"
   },
   "source": [
    "# Finding the exact Policy and Value functions in the MountainCar problem\n",
    "\n",
    "The state space is discretized into a sufficiently large number of intervals along each axis. Then, from each discrete state, one environment step is launched for all possible actions. The following states are stored in the current state. Similarly, in each state, all previous states are remembered from which it can be reached.\n",
    "\n",
    "The target states are placed in the FIFO queue and the value function for them is assumed to be -1. Then, for the previous states, the value function decreases by -1, and so on. The result is a value function for the entire space.\n",
    "\n",
    "The agent's policy in each state is calculated using the value function. To do this, in the state, all possible actions are performed and the action with the maximum value is selected. If several actions result in the same maximum values, the policy function is considered undefined.\n",
    "\n",
    "The resulting policy function is thinned out in areas continuously filled with the same actions. This simplifies the training of the neural network."
   ]
  },
  {
   "cell_type": "code",
   "execution_count": null,
   "metadata": {
    "executionInfo": {
     "elapsed": 657,
     "status": "ok",
     "timestamp": 1654520612571,
     "user": {
      "displayName": "Sergey Stepanov",
      "userId": "11972621437342649150"
     },
     "user_tz": -180
    },
    "id": "nXgZAFniHHPc"
   },
   "outputs": [],
   "source": [
    "import math\n",
    "from   collections import deque\n",
    "import gym\n",
    "import numpy as np\n",
    "import matplotlib.pyplot as plt\n",
    "import torch\n",
    "import torch.nn as nn\n",
    "\n",
    "class MountainCar:\n",
    "    \"\"\" \n",
    "    We simulate the MountainCar environment \n",
    "    https://github.com/openai/gym/blob/master/gym/envs/classic_control/mountain_car.py\n",
    "    \"\"\"\n",
    "    def __init__(self, goal_velocity=0):\n",
    "        self.min_position  = -1.2\n",
    "        self.max_position  = 0.6\n",
    "        self.max_speed     = 0.07\n",
    "        self.goal_position = 0.5\n",
    "        self.goal_velocity = goal_velocity\n",
    "\n",
    "        self.low  = np.array([self.min_position, -self.max_speed], dtype=np.float32)\n",
    "        self.high = np.array([self.max_position,  self.max_speed], dtype=np.float32)\n",
    "\n",
    "        self.force   = 0.001\n",
    "        self.gravity = 0.0025\n",
    "\n",
    "        self.state = np.array([0., 0.])\n",
    "\n",
    "    def step(self, action: int):\n",
    "        position, velocity = self.state\n",
    "        velocity += (action - 1) * self.force + math.cos(3 * position) * (-self.gravity)\n",
    "        velocity = np.clip(velocity, -self.max_speed, self.max_speed)\n",
    "        position += velocity\n",
    "        position = np.clip(position, self.min_position, self.max_position)\n",
    "        if position == self.min_position and velocity < 0:\n",
    "            velocity = 0\n",
    "\n",
    "        done = bool(position >= self.goal_position and velocity >= self.goal_velocity)\n",
    "\n",
    "        self.state = (position, velocity)\n",
    "        return np.array(self.state, dtype=np.float32), done\n",
    "\n",
    "#===============================================================================\n",
    "\n",
    "class Solver:\n",
    "    def __init__(self, bins = (1001, 1001) ) -> None:\n",
    "        self.bins = bins\n",
    "        self.tot_bins = bins[0]*bins[1]\n",
    "        self.env  = MountainCar()\n",
    "        self.step = (self.env.high-self.env.low)/self.bins\n",
    "\n",
    "    #---------------------------------------------------------------------------\n",
    "\n",
    "    def state(self, indx):\n",
    "        \"\"\" Get the state vector by its index (ix, iv) \"\"\"\n",
    "        return self.env.low + indx*self.step\n",
    "\n",
    "    #---------------------------------------------------------------------------\n",
    "\n",
    "    def index(self, state):\n",
    "        \"\"\" Get state index (ix, iv) by its vector state \"\"\"\n",
    "        indx = ((state - self.env.low)/self.step).astype(np.int)\n",
    "        indx = np.clip(indx, (0,0), (self.bins[0]-1, self.bins[1]-1))\n",
    "        return tuple( indx )\n",
    "\n",
    "    #---------------------------------------------------------------------------\n",
    "\n",
    "    def x_v(self, i):\n",
    "        \"\"\" i = x*bins[1] + v \"\"\"\n",
    "        x = i // self.bins[1]\n",
    "        return x,  i - x * self.bins[1]      \n",
    "\n",
    "    #---------------------------------------------------------------------------\n",
    "\n",
    "    def create_graph(self):     \n",
    "        \"\"\" Create a state transition graph \"\"\"\n",
    "        self.open  = deque()   \n",
    "        self.prev, self.next = [], []\n",
    "        for _ in range(self.tot_bins):\n",
    "            self.prev.append([])\n",
    "            self.next.append([])\n",
    "\n",
    "        self.minV, goal  = -200, self.index([solver.env.goal_position, 0.])\n",
    "        self.value = np.full(self.bins, self.minV)\n",
    "        self.n_vals= 0\n",
    "\n",
    "        for i1 in range(self.tot_bins):\n",
    "            ix1, iv1 = self.x_v(i1)            \n",
    "            s1  = self.state( (ix1, iv1) )\n",
    "            for a in [0, 1, 2]:\n",
    "                self.env.state = s1\n",
    "                s2, done = self.env.step(a)\n",
    "                ix2, iv2 = self.index(s2)\n",
    "                i2 = ix2*self.bins[1] + iv2\n",
    "                if i2 == i1:\n",
    "                    continue\n",
    " \n",
    "                self.next[i1].append( (i2, a) )\n",
    "                self.prev[i2].append( i1 )\n",
    "                if done and self.value[ix2, iv2] == self.minV:      \n",
    "                    self.value[ix2, iv2] = -1\n",
    "                    self.open.append(i2)\n",
    "                    self.n_vals += 1\n",
    "            if i1 % 1000 == 0:\n",
    "                print(f\"\\rGraph : {i1*100./self.tot_bins:3.0f}%,  open len: {len(self.open):5d}\", end=\"\")\n",
    "        print(\"\\nGraph created\")\n",
    "\n",
    "    #---------------------------------------------------------------------------\n",
    "\n",
    "    def calc_value(self):\n",
    "        \"\"\" Calculate the value function from the transition graph \"\"\"\n",
    "        tot = self.bins[0]*self.bins[1]\n",
    "        while self.open:\n",
    "            i = self.open.popleft()\n",
    "            for p in self.prev[i]:\n",
    "                ipx, ipv = self.x_v(p)\n",
    "                if self.value[ipx, ipv] == self.minV:\n",
    "                    ix, iv = self.x_v(i)\n",
    "                    self.value[ipx, ipv] = self.value[ix, iv] - 1\n",
    "                    self.open.append(p)\n",
    "                    self.n_vals += 1\n",
    "\n",
    "            if self.n_vals % 100 == 0:\n",
    "                print(f\"\\rNum values: {100.*self.n_vals/tot:5.2f}% open len: {len(self.open):5d}\", end=\"\")\n",
    "        print(f\"\\rNum values: {100.*self.n_vals/tot:5.2f}% open len: {len(self.open):5d}\")\n",
    "\n",
    "    #---------------------------------------------------------------------------\n",
    "\n",
    "    def calc_policy(self):\n",
    "        \"\"\" Compute policy function using value function and transition graph \"\"\"\n",
    "        self.pi = np.full(self.bins, -1)\n",
    "        wrong, equal, i = 0, 0, 0\n",
    "        for ix in range(self.bins[0]):\n",
    "            for iv in range(self.bins[1]):                \n",
    "                maxV, maxA, cntMax = -10000, -1, 0\n",
    "                res = []\n",
    "                for n, a in self.next[i]:\n",
    "                    nx, nv = self.x_v(n)\n",
    "                    V = self.value[nx, nv]\n",
    "                    if V > maxV:\n",
    "                        maxA = a\n",
    "                        maxV = V\n",
    "                        cntMax = 1\n",
    "                    elif V == maxV:\n",
    "                        cntMax += 1\n",
    "\n",
    "                if   cntMax == 0:\n",
    "                    wrong += 1\n",
    "                elif cntMax == 1:\n",
    "                    self.pi[nx, nv] = maxA\n",
    "                else:\n",
    "                    equal += 1\n",
    "\n",
    "                i += 1\n",
    "                    \n",
    "        print(f\"Num policy wrong: {100.*wrong/self.pi.size:8.4f}%  equal: {100.*equal/self.pi.size:8.4f}%\")\n",
    "\n",
    "    #---------------------------------------------------------------------------\n",
    "\n",
    "    def thin(self):\n",
    "        \"\"\" Thin out policy function \"\"\"\n",
    "        for ix in range(1, self.bins[0]-1):\n",
    "            for iv in range(1, self.bins[1]-1):\n",
    "                a = self.pi[ix, iv] \n",
    "                if a != -1 and np.sum(self.pi[ix-1: ix+2, iv-1: iv+2]) == 9*a:\n",
    "                    self.pi[ix, iv] = -1.\n",
    "\n",
    "    #---------------------------------------------------------------------------\n",
    "\n",
    "    def smooth(self, M):\n",
    "        \"\"\" Smooth M-matrix \"\"\"\n",
    "        pool = nn.AvgPool2d(5, stride=1, padding = 2, count_include_pad=False)\n",
    "        x = pool(torch.tensor(M, dtype=torch.float32).view(self.bins[0],self.bins[1], 1))        \n",
    "        return torch.round(x.view(self.bins)).numpy()     \n",
    "\n",
    "    #---------------------------------------------------------------------------\n",
    "\n",
    "    def run(self):\n",
    "        self.create_graph()\n",
    "        self.calc_value()\n",
    "        self.calc_policy()\n",
    "\n",
    "    #---------------------------------------------------------------------------\n",
    "\n",
    "    def test(self, episodes = 1000, ticks = 200):\n",
    "        \"\"\" Testing with the current pi-function \"\"\"\n",
    "        env = gym.make(\"MountainCar-v0\")\n",
    "        rews = []\n",
    "        for _ in range(episodes):\n",
    "            obs =  env.reset()\n",
    "            tot = 0\n",
    "            for _ in range(ticks):\n",
    "                indx   = self.index(obs)\n",
    "                action = self.pi[indx]\n",
    "                if action < 0:\n",
    "                    action = 1\n",
    "                obs, rew, done, _ = env.step(int(action))\n",
    "\n",
    "                tot += rew\n",
    "                if done:\n",
    "                    break\n",
    "            rews.append(tot)\n",
    "        mean, std = np.mean(rews), np.std(rews)\n",
    "        print(f\"Reward: {mean:7.2f} ± {std/episodes**0.5:.1f}, std: {std:.0f}, min: {np.min(rews):.0f}  max: {np.max(rews):.0f}\")"
   ]
  },
  {
   "cell_type": "markdown",
   "metadata": {
    "id": "B0ezI-ORrKOA"
   },
   "source": [
    "## Start of calculations\n",
    "\n",
    "In our experiments we used bins = (5001, 5001). Building a graph takes a lot of time and requires a lot of CPU."
   ]
  },
  {
   "cell_type": "code",
   "execution_count": null,
   "metadata": {
    "executionInfo": {
     "elapsed": 270,
     "status": "ok",
     "timestamp": 1654520643636,
     "user": {
      "displayName": "Sergey Stepanov",
      "userId": "11972621437342649150"
     },
     "user_tz": -180
    },
    "id": "Z9pXsVPI_0HU"
   },
   "outputs": [],
   "source": [
    "solver = Solver(bins = (1001, 1001))"
   ]
  },
  {
   "cell_type": "code",
   "execution_count": null,
   "metadata": {
    "colab": {
     "base_uri": "https://localhost:8080/"
    },
    "executionInfo": {
     "elapsed": 4602586,
     "status": "ok",
     "timestamp": 1654374982866,
     "user": {
      "displayName": "Sergey Stepanov",
      "userId": "11972621437342649150"
     },
     "user_tz": -180
    },
    "id": "BhT5UovTHT2T",
    "outputId": "4b691016-c7be-45a9-cc49-dfb391d6f4f3"
   },
   "outputs": [],
   "source": [
    "solver.run()"
   ]
  },
  {
   "cell_type": "markdown",
   "metadata": {
    "id": "ZKm_fGZgqiFr"
   },
   "source": [
    "If desired, the value function can be smoothed and the policy function calculated again."
   ]
  },
  {
   "cell_type": "code",
   "execution_count": null,
   "metadata": {
    "colab": {
     "base_uri": "https://localhost:8080/"
    },
    "executionInfo": {
     "elapsed": 131866,
     "status": "ok",
     "timestamp": 1654375290561,
     "user": {
      "displayName": "Sergey Stepanov",
      "userId": "11972621437342649150"
     },
     "user_tz": -180
    },
    "id": "k0pz3jNTO8-I",
    "outputId": "1f9be9c1-f185-41e6-ce78-9f64df60a8c7"
   },
   "outputs": [],
   "source": [
    "solver.value = solver.smooth(solver.value)\n",
    "solver.calc_policy()"
   ]
  },
  {
   "cell_type": "markdown",
   "metadata": {
    "id": "HdOPHfUUqyyz"
   },
   "source": [
    "To train the neural network, we thin out the policy function in continuous areas."
   ]
  },
  {
   "cell_type": "code",
   "execution_count": null,
   "metadata": {
    "id": "7Mwo0IReWhbO"
   },
   "outputs": [],
   "source": [
    "solver.thin()"
   ]
  },
  {
   "cell_type": "markdown",
   "metadata": {
    "id": "-WMzKgvQrByp"
   },
   "source": [
    "## Saving and loading"
   ]
  },
  {
   "cell_type": "code",
   "execution_count": null,
   "metadata": {
    "id": "4biNxUxucp9i"
   },
   "outputs": [],
   "source": [
    "np.save(\"pi_smooth_thin\",    solver.pi)"
   ]
  },
  {
   "cell_type": "code",
   "execution_count": null,
   "metadata": {
    "id": "dErzFKNKQ-4C"
   },
   "outputs": [],
   "source": [
    "np.save(\"pi_smooth\",    solver.pi)\n",
    "np.save(\"value_smooth\", solver.value)"
   ]
  },
  {
   "cell_type": "code",
   "execution_count": null,
   "metadata": {
    "id": "gPqBVbbij3bD"
   },
   "outputs": [],
   "source": [
    "solver.pi = np.load(\"pi_smooth_thin.npy\")"
   ]
  },
  {
   "cell_type": "markdown",
   "metadata": {
    "id": "YWEnGhLlrWKH"
   },
   "source": [
    "## Visualization of policy and value functions"
   ]
  },
  {
   "cell_type": "code",
   "execution_count": null,
   "metadata": {
    "executionInfo": {
     "elapsed": 262,
     "status": "ok",
     "timestamp": 1654520585390,
     "user": {
      "displayName": "Sergey Stepanov",
      "userId": "11972621437342649150"
     },
     "user_tz": -180
    },
    "id": "cZgND6HrPREF"
   },
   "outputs": [],
   "source": [
    "from matplotlib import colors\n",
    "cmap = colors.ListedColormap(['white', 'blue', 'green', 'red'])\n",
    "\n",
    "def plot(mat, title, d_ticks=500, bins = (1001, 1001), bar = True, smooth = True):\n",
    "    def index(state):\n",
    "        step = (solver.env.high-solver.env.low)/bins\n",
    "        indx = ((state - solver.env.low)/step).astype(np.int)\n",
    "        indx = np.clip(indx, (0,0), (bins[0]-1, bins[1]-1))\n",
    "        return tuple( indx )\n",
    "\n",
    "\n",
    "    g, m   = index([solver.env.goal_position, 0.]), index([-math.pi/6, 0.])\n",
    "    x0 = np.array([ index([-0.6, 0.]), index([-0.4, 0.]) ])\n",
    "\n",
    "    if smooth:\n",
    "        cmap = 'seismic'\n",
    "    else:\n",
    "        cmap = colors.ListedColormap(['gray', 'blue', 'white', 'red'])\n",
    "        #cmap = colors.ListedColormap(['blue', 'white', 'red'])\n",
    "\n",
    "    plt.figure(figsize=(8,8))\n",
    "    plt.imshow(mat.T, interpolation='none', origin='lower', cmap= cmap, alpha=0.5)\n",
    "\n",
    "    plt.title (title, {'fontsize': 16})\n",
    "    plt.xlabel('x', {'fontsize': 16}) \n",
    "    plt.ylabel('v', {'fontsize': 16}) \n",
    "    plt.axhline(g[1], c=\"black\", linewidth=1)\n",
    "    plt.axvline(g[0], c=\"black\", linewidth=1)\n",
    "    plt.axvline(m[0], c=\"black\", linewidth=1)\n",
    "    plt.axvline(x0[0][0], c=\"black\", linewidth=2, ymin = 0.49, ymax = 0.51)\n",
    "    plt.axvline(x0[1][0], c=\"black\", linewidth=2, ymin = 0.49, ymax = 0.51)\n",
    "    ticks = range(0, bins[0], d_ticks)\n",
    "    plt.xticks( ticks, np.round(100*np.linspace(solver.env.low[0], solver.env.high[0], len(ticks)))/100 )\n",
    "    plt.yticks( ticks, np.round(100*np.linspace(solver.env.low[1], solver.env.high[1], len(ticks)))/100 )\n",
    "    if bar:\n",
    "      plt.colorbar(aspect=50) \n",
    "    plt.show()"
   ]
  },
  {
   "cell_type": "code",
   "execution_count": null,
   "metadata": {
    "id": "_5sHAOv4ENMw"
   },
   "outputs": [],
   "source": [
    "print(np.sum(solver.pi == 0), np.sum(solver.pi == 1), np.sum(solver.pi == 2))\n",
    "\n",
    "plot(solver.pi, 'Policy function', d_ticks=500,  bins = (1001, 1001), smooth=False)"
   ]
  },
  {
   "cell_type": "code",
   "execution_count": null,
   "metadata": {
    "colab": {
     "base_uri": "https://localhost:8080/",
     "height": 920
    },
    "executionInfo": {
     "elapsed": 1111,
     "status": "ok",
     "timestamp": 1654375438102,
     "user": {
      "displayName": "Sergey Stepanov",
      "userId": "11972621437342649150"
     },
     "user_tz": -180
    },
    "id": "N6dknFbSBPiJ",
    "outputId": "e08ec306-1102-442c-a141-be197b368ced"
   },
   "outputs": [],
   "source": [
    "plot(solver.value, 'Value function', d_ticks=500, bins = (1001, 1001))"
   ]
  },
  {
   "cell_type": "code",
   "execution_count": null,
   "metadata": {
    "colab": {
     "base_uri": "https://localhost:8080/",
     "height": 520
    },
    "executionInfo": {
     "elapsed": 2224,
     "status": "ok",
     "timestamp": 1654375459024,
     "user": {
      "displayName": "Sergey Stepanov",
      "userId": "11972621437342649150"
     },
     "user_tz": -180
    },
    "id": "CE-9aZzUYENa",
    "outputId": "1d815e62-3ca5-475b-c489-94a20353b1de"
   },
   "outputs": [],
   "source": [
    "X = np.linspace(solver.env.low[0], solver.env.high[0], solver.bins[0])\n",
    "Y = np.linspace(solver.env.low[1], solver.env.high[1], solver.bins[0])\n",
    "X, Y = np.meshgrid(X, Y)\n",
    "\n",
    "fig = plt.figure(figsize =(14, 9))\n",
    "ax = plt.axes(projection ='3d')\n",
    "\n",
    "surf = ax.plot_surface(X, Y, solver.value, cmap=plt.get_cmap('seismic'), linewidth=0, antialiased=True)\n",
    "ax.view_init(-120, 30)\n",
    "\n",
    "fig.colorbar(surf, shrink=0.5, aspect=50)\n",
    "\n",
    "plt.show()"
   ]
  },
  {
   "cell_type": "markdown",
   "metadata": {
    "id": "CrPf2i7ti08g"
   },
   "source": [
    "# Learning policy-function: Neural network with one output (sigmoid)\n",
    "\n",
    "## Generate from policy"
   ]
  },
  {
   "cell_type": "code",
   "execution_count": null,
   "metadata": {
    "id": "nc0L68w8jJli"
   },
   "outputs": [],
   "source": [
    "def dataset():\n",
    "    X, Y = [], []\n",
    "    pi = solver.pi\n",
    "    for ix in range(1, solver.bins[0]-1):\n",
    "        for iv in range(1, solver.bins[1]-1):\n",
    "            a = pi[ix, iv]\n",
    "            if a != -1:                \n",
    "                  X.append( solver.state((ix, iv)).tolist() )\n",
    "                  Y.append( float(pi[ix, iv])/2. )               # !!!!! [0,2] -> [0,1]\n",
    "    return X, Y"
   ]
  },
  {
   "cell_type": "code",
   "execution_count": null,
   "metadata": {
    "colab": {
     "base_uri": "https://localhost:8080/"
    },
    "executionInfo": {
     "elapsed": 37103,
     "status": "ok",
     "timestamp": 1654411696106,
     "user": {
      "displayName": "Sergey Stepanov",
      "userId": "11972621437342649150"
     },
     "user_tz": -180
    },
    "id": "axp53BRHjOaA",
    "outputId": "71bad6de-fd01-419a-f6a4-72edda5ea83c"
   },
   "outputs": [],
   "source": [
    "solver.prev, solver.next = [], []    # clear memory\n",
    "\n",
    "X, Y = dataset()\n",
    "X, Y = torch.tensor(X, dtype=torch.float32), torch.tensor(Y, dtype=torch.float32).view(-1,1)\n",
    "\n",
    "print(X[-3:])\n",
    "print(Y[-3:])\n",
    "\n",
    "print(torch.min(Y), torch.max(Y), len(Y), torch.sum(Y == 1.), torch.sum( Y == 0.))\n",
    "\n",
    "data = torch.cat([X, Y], 1)\n",
    "np.save(\"data_XY\", data.numpy())\n",
    "del data"
   ]
  },
  {
   "cell_type": "markdown",
   "metadata": {
    "id": "2lqyEHOgdNO4"
   },
   "source": [
    "## Load from file"
   ]
  },
  {
   "cell_type": "code",
   "execution_count": null,
   "metadata": {
    "colab": {
     "base_uri": "https://localhost:8080/"
    },
    "executionInfo": {
     "elapsed": 259,
     "status": "ok",
     "timestamp": 1654507615204,
     "user": {
      "displayName": "Sergey Stepanov",
      "userId": "11972621437342649150"
     },
     "user_tz": -180
    },
    "id": "Fc93aD1NcESy",
    "outputId": "d0a8165b-5360-4ab8-dc98-1f3f2485728a"
   },
   "outputs": [],
   "source": [
    "data = np.load(\"MountainCar_data_XY.npy\")\n",
    "X = torch.tensor(data[:, 0:2], dtype=torch.float32)\n",
    "Y = torch.tensor(data[:, 2: ], dtype=torch.float32)\n",
    "\n",
    "print(X[-3:])\n",
    "print(Y[-3:])\n",
    "\n",
    "print(X.size())\n",
    "print(torch.min(Y), torch.max(Y), len(Y), torch.sum(Y == 1.), torch.sum( Y == 0.))"
   ]
  },
  {
   "cell_type": "markdown",
   "metadata": {
    "id": "v-ROXhJHdmSQ"
   },
   "source": [
    "## Create divice"
   ]
  },
  {
   "cell_type": "code",
   "execution_count": null,
   "metadata": {
    "colab": {
     "base_uri": "https://localhost:8080/"
    },
    "executionInfo": {
     "elapsed": 273,
     "status": "ok",
     "timestamp": 1654507620460,
     "user": {
      "displayName": "Sergey Stepanov",
      "userId": "11972621437342649150"
     },
     "user_tz": -180
    },
    "id": "51VQ_1wCjR-3",
    "outputId": "8be63f41-5ff4-4f56-ffd7-83f592522ce7"
   },
   "outputs": [],
   "source": [
    "import torch\n",
    "import torch.nn as nn\n",
    "\n",
    "gpu = torch.device(\"cuda:0\" if torch.cuda.is_available() else \"cpu\")\n",
    "print(gpu)"
   ]
  },
  {
   "cell_type": "code",
   "execution_count": null,
   "metadata": {
    "executionInfo": {
     "elapsed": 364,
     "status": "ok",
     "timestamp": 1654507629634,
     "user": {
      "displayName": "Sergey Stepanov",
      "userId": "11972621437342649150"
     },
     "user_tz": -180
    },
    "id": "YixrjZc4cLaa"
   },
   "outputs": [],
   "source": [
    "#low, high = torch.tensor([[-1.2, -0.07]]), torch.tensor([[0.5, 0.07]])\n",
    "#X = 2.*(X - low)/(high-low) - 1."
   ]
  },
  {
   "cell_type": "markdown",
   "metadata": {
    "id": "p-9UJ0gqjZb3"
   },
   "source": [
    "## Network architecture"
   ]
  },
  {
   "cell_type": "code",
   "execution_count": null,
   "metadata": {
    "colab": {
     "base_uri": "https://localhost:8080/"
    },
    "executionInfo": {
     "elapsed": 14974,
     "status": "ok",
     "timestamp": 1654507655631,
     "user": {
      "displayName": "Sergey Stepanov",
      "userId": "11972621437342649150"
     },
     "user_tz": -180
    },
    "id": "se35xNZGjZb3",
    "outputId": "48987253-f537-4bf9-8b05-181e888e2da8"
   },
   "outputs": [],
   "source": [
    "nH = [128, 128]\n",
    "model = nn.Sequential(           \n",
    "           nn.Linear(2, nH[0]),    \n",
    "           nn.Sigmoid(),         \n",
    "           nn.Linear(nH[0], nH[1]),  \n",
    "           nn.Sigmoid(),         \n",
    "           nn.Linear(nH[1], 1),  \n",
    "           nn.Sigmoid() )      \n",
    "model.to(gpu) \n",
    "print(gpu)"
   ]
  },
  {
   "cell_type": "markdown",
   "metadata": {
    "id": "fx-SQLVPr-cA"
   },
   "source": [
    "## Learning"
   ]
  },
  {
   "cell_type": "code",
   "execution_count": null,
   "metadata": {
    "colab": {
     "base_uri": "https://localhost:8080/"
    },
    "executionInfo": {
     "elapsed": 4,
     "status": "ok",
     "timestamp": 1654507655632,
     "user": {
      "displayName": "Sergey Stepanov",
      "userId": "11972621437342649150"
     },
     "user_tz": -180
    },
    "id": "-h-n-h7BjZb4",
    "outputId": "e73bac12-5969-4216-c428-2262db7ba59a"
   },
   "outputs": [],
   "source": [
    "loss      = nn.BCELoss()\n",
    "optimizer = torch.optim.SGD(model.parameters(),   lr=0.1, momentum=0.8) \n",
    "#optimizer = torch.optim.Adam(model.parameters(), lr=0.1 )\n",
    "\n",
    "gpu = torch.device(\"cuda:0\" if torch.cuda.is_available() else \"cpu\")\n",
    "\n",
    "X = X.to(gpu)\n",
    "Y = Y.to(gpu)\n",
    "\n",
    "print(X.device, Y.device)"
   ]
  },
  {
   "cell_type": "code",
   "execution_count": null,
   "metadata": {
    "executionInfo": {
     "elapsed": 17212,
     "status": "ok",
     "timestamp": 1654507683107,
     "user": {
      "displayName": "Sergey Stepanov",
      "userId": "11972621437342649150"
     },
     "user_tz": -180
    },
    "id": "Mq_wnX8ujZb4"
   },
   "outputs": [],
   "source": [
    "def fit(model, X,Y, batch_size=1000, train=True):          \n",
    "      model.train(train)                                   # important for Dropout, BatchNorm\n",
    "      sumL, sumA, numB = 0, 0, int( len(X)/batch_size )    # error, accuracy, batches\n",
    "       \n",
    "      idx = torch.randperm( len(X) ).to(gpu)               # mix index list\n",
    "      X, Y = X[idx], Y[idx]      \n",
    "\n",
    "      for i in range(0, numB*batch_size, batch_size):          \n",
    "          xb, yb = X[i: i+batch_size],  Y[i: i+batch_size]                                 \n",
    "              \n",
    "          y = model(xb)                                    # direct distribution\n",
    "          L = loss(y, yb)                                  # calculate the loss\n",
    "  \n",
    "          if train:                                        # in learning mode\n",
    "              optimizer.zero_grad()                        # reset the gradients        \n",
    "              L.backward()                                 # calculate gradients            \n",
    "              optimizer.step()                             # adjusting parameters\n",
    "                                     \n",
    "          sumL += L.detach().item()                        # total error (item from graph)\n",
    "          sumA += (y.round() == yb).float().mean()         # class definition accuracy\n",
    "         \n",
    "      return sumL/numB,  sumA/numB                         # mean error and accuracy"
   ]
  },
  {
   "cell_type": "code",
   "execution_count": null,
   "metadata": {
    "colab": {
     "base_uri": "https://localhost:8080/"
    },
    "executionInfo": {
     "elapsed": 1844872,
     "status": "ok",
     "timestamp": 1654520124639,
     "user": {
      "displayName": "Sergey Stepanov",
      "userId": "11972621437342649150"
     },
     "user_tz": -180
    },
    "id": "9Cwn22IPjZb5",
    "outputId": "18e728af-a36e-4051-9698-5661c6d5e3a9"
   },
   "outputs": [],
   "source": [
    "import time\n",
    "model.to(gpu)\n",
    "print( \"before:      loss: %.5f accuracy: %.4f\" %  fit(model, X,Y, train=False) )\n",
    " \n",
    "beg = time.process_time()\n",
    "epochs = 1000                                              # number of epochs\n",
    "for epoch in range(epochs):                                \n",
    "    L,A = fit(model, X, Y, batch_size=500)                 # one epoch\n",
    "       \n",
    "    if (epoch and epoch % 10 == 0) or epoch == epochs-1:  \n",
    "        print(f\"epoch: {epoch:5d} loss: {L:.5f} accuracy: {A:.4f}   {time.process_time()-beg:.2f}s\")   \n",
    "        beg = time.process_time()"
   ]
  },
  {
   "cell_type": "markdown",
   "metadata": {
    "id": "lu1eIWVGsVNN"
   },
   "source": [
    "## Testing a neural network on a real environment"
   ]
  },
  {
   "cell_type": "code",
   "execution_count": null,
   "metadata": {
    "colab": {
     "base_uri": "https://localhost:8080/"
    },
    "executionInfo": {
     "elapsed": 170164,
     "status": "ok",
     "timestamp": 1654521345468,
     "user": {
      "displayName": "Sergey Stepanov",
      "userId": "11972621437342649150"
     },
     "user_tz": -180
    },
    "id": "RMjoanHLjZb6",
    "outputId": "67e1820e-14ab-4b84-8de3-ff675a58e1ec"
   },
   "outputs": [],
   "source": [
    "def test(model, episodes = 1000, ticks=200, level = 0.05):\n",
    "    env = gym.make(\"MountainCar-v0\")\n",
    "    rews = []\n",
    "    for episode in range(episodes):\n",
    "        obs =  env.reset()\n",
    "        tot = 0\n",
    "        for _ in range(ticks):\n",
    "            with torch.no_grad():\n",
    "                #x = 2.*(torch.tensor(obs, dtype=torch.float32) - low)/(high-low) - 1.\n",
    "                x = torch.tensor(obs, dtype=torch.float32)\n",
    "                y = model(x)\n",
    "            \n",
    "            if   y > 0.5 + level:\n",
    "                action = 2\n",
    "            elif y < 0.5 - level:\n",
    "                action = 0\n",
    "            else:\n",
    "                action = 1            \n",
    "\n",
    "            obs, rew, done, _ = env.step(action)\n",
    "            tot += rew\n",
    "\n",
    "            if done:\n",
    "                break\n",
    "\n",
    "        rews.append(tot)\n",
    "        if episode and episode % 100 == 0:\n",
    "            mean, std = np.mean(rews), np.std(rews)\n",
    "            print(f\"\\r{episode:5d}:  Reward: {mean:7.2f} ± {std/len(rews)**0.5:.1f}, std: {std:.0f}, min: {np.min(rews):.0f}  max: {np.max(rews):.0f}\", end=\"\")  \n",
    "\n",
    "    mean, std = np.mean(rews), np.std(rews)\n",
    "    print(f\"\\r{episode:5d}:  Reward: {mean:7.2f} ± {std/len(rews)**0.5:.1f}, std: {std:.0f}, min: {np.min(rews):.0f}  max: {np.max(rews):.0f}\")  \n",
    "            \n",
    "    \n",
    "test(model.cpu(), level = 0.05)"
   ]
  },
  {
   "cell_type": "markdown",
   "metadata": {
    "id": "CH6rP_9WsHja"
   },
   "source": [
    "## Obtaining a policy matrix from a neural network"
   ]
  },
  {
   "cell_type": "code",
   "execution_count": 31,
   "metadata": {
    "colab": {
     "base_uri": "https://localhost:8080/"
    },
    "executionInfo": {
     "elapsed": 22106,
     "status": "ok",
     "timestamp": 1654521112660,
     "user": {
      "displayName": "Sergey Stepanov",
      "userId": "11972621437342649150"
     },
     "user_tz": -180
    },
    "id": "huK3zhbnjZb5",
    "outputId": "05e9af12-f728-4973-a694-e8e16d8b569a"
   },
   "outputs": [
    {
     "name": "stdout",
     "output_type": "stream",
     "text": [
      "Policy : 100%"
     ]
    }
   ],
   "source": [
    "def table(model, bins = (101, 101)):    \n",
    "    pi = np.empty(bins)\n",
    "    step = (solver.env.high-solver.env.low)/bins\n",
    "    X = torch.empty((bins[0]*bins[1], 2), dtype=torch.float32)\n",
    "    i = 0\n",
    "    for ix in range(bins[0]):\n",
    "        for iv in range(bins[1]):\n",
    "            X[i] = torch.tensor(solver.env.low + (ix, iv)*step, dtype=torch.float32)\n",
    "            i += 1\n",
    "    #X = 2.*(X - low)/(high-low) - 1.    # scale !!!\n",
    "\n",
    "    print(\"model calc\")\n",
    "    with torch.no_grad():\n",
    "        Y = model(torch.tensor(X, dtype=torch.float32))\n",
    "    \n",
    "    i = 0\n",
    "    for ix in range(bins[0]):\n",
    "        for iv in range(bins[1]):            \n",
    "            y = Y[i].item()\n",
    "            i += 1\n",
    "            if y > 0.55:\n",
    "                pi[ix, iv] = 2\n",
    "            elif y < 0.45:\n",
    "                pi[ix, iv] = 0\n",
    "            else:\n",
    "                pi[ix, iv] = 1\n",
    "\n",
    "        print(f\"\\rPolicy : {ix*100./bins[0]:3.0f}%\", end=\"\")\n",
    "    return pi\n",
    "\n",
    "\n",
    "pi = table(model.to(\"cpu\"), (1001, 1001))"
   ]
  },
  {
   "cell_type": "code",
   "execution_count": 32,
   "metadata": {
    "colab": {
     "base_uri": "https://localhost:8080/",
     "height": 594
    },
    "executionInfo": {
     "elapsed": 396,
     "status": "ok",
     "timestamp": 1654521114782,
     "user": {
      "displayName": "Sergey Stepanov",
      "userId": "11972621437342649150"
     },
     "user_tz": -180
    },
    "id": "Evkj--IAjZb6",
    "outputId": "d30c43ba-19cc-4259-9c03-a89dbd7421ca"
   },
   "outputs": [
    {
     "data": {
      "image/png": "[encoded data removed]",
      "text/plain": [
       "<Figure size 576x576 with 1 Axes>"
      ]
     },
     "metadata": {
      "needs_background": "light"
     },
     "output_type": "display_data"
    }
   ],
   "source": [
    "plot(pi, 'Policy function, Reward: -98.1 ± 0.1 in [-107, -83]', d_ticks=100, bins = (1001, 1001), bar=False, smooth = False)"
   ]
  },
  {
   "cell_type": "code",
   "execution_count": null,
   "metadata": {
    "id": "HYGFQcEUjZb6"
   },
   "outputs": [],
   "source": [
    "import datetime\n",
    "  \n",
    "state = {'info':      \"MountainCar Reward:  -98.27 ± 0.1, std: 7, [-108, -83]\",            # описание\n",
    "         'date':      datetime.datetime.now(),   # дата и время\n",
    "         'model' :    model.state_dict(),        # параметры модели\n",
    "         'optimizer': optimizer.state_dict()}    # состояние оптимизатора\n",
    " \n",
    "torch.save(state, 'MountainCar_2_128_128_1.98.2.pt')                    # сохраняем файл"
   ]
  },
  {
   "cell_type": "markdown",
   "metadata": {
    "id": "WZ1a3dI0QpY1"
   },
   "source": [
    "<hr><hr>\n",
    "\n",
    "# Policy-function with Softmax\n"
   ]
  },
  {
   "cell_type": "code",
   "execution_count": null,
   "metadata": {
    "id": "KN1DnCqwSrW0"
   },
   "outputs": [],
   "source": [
    "def dataset():\n",
    "    X, Y = [], []\n",
    "    pi = solver.pi\n",
    "    for ix in range(1, solver.bins[0]-1):\n",
    "        for iv in range(1, solver.bins[1]-1):\n",
    "            a = pi[ix, iv]\n",
    "            if a != -1:                \n",
    "                  X.append( solver.state((ix, iv)).tolist() )\n",
    "                  Y.append( int(pi[ix, iv]) )\n",
    "    return X, Y\n"
   ]
  },
  {
   "cell_type": "code",
   "execution_count": null,
   "metadata": {
    "colab": {
     "base_uri": "https://localhost:8080/"
    },
    "executionInfo": {
     "elapsed": 35111,
     "status": "ok",
     "timestamp": 1654375535226,
     "user": {
      "displayName": "Sergey Stepanov",
      "userId": "11972621437342649150"
     },
     "user_tz": -180
    },
    "id": "LmOYKi3ne88d",
    "outputId": "7f24539d-e6ba-4563-e548-dc77ff30a3df"
   },
   "outputs": [],
   "source": [
    "solver.prev, solver.next = [], []    # clear memory\n",
    "\n",
    "X, Y = dataset()\n",
    "X, Y = torch.tensor(X, dtype=torch.float32), torch.tensor(Y, dtype=torch.int64)\n",
    "\n",
    "print(X[-3:])\n",
    "print(Y[-3:])\n",
    "\n",
    "print(torch.min(Y), torch.max(Y), len(Y), torch.sum(Y == 1.), torch.sum( Y == 0.))"
   ]
  },
  {
   "cell_type": "code",
   "execution_count": null,
   "metadata": {
    "colab": {
     "base_uri": "https://localhost:8080/"
    },
    "executionInfo": {
     "elapsed": 372,
     "status": "ok",
     "timestamp": 1654375535595,
     "user": {
      "displayName": "Sergey Stepanov",
      "userId": "11972621437342649150"
     },
     "user_tz": -180
    },
    "id": "CAVwEAGoUABK",
    "outputId": "7efb7ddb-0ec0-4704-e6cf-ea3ebdd7f93b"
   },
   "outputs": [],
   "source": [
    "import torch\n",
    "import torch.nn as nn\n",
    "\n",
    "gpu = torch.device(\"cuda:0\" if torch.cuda.is_available() else \"cpu\")\n",
    "print(gpu)"
   ]
  },
  {
   "cell_type": "markdown",
   "metadata": {
    "id": "fzt7zQaeZ--z"
   },
   "source": [
    "## Network architecture"
   ]
  },
  {
   "cell_type": "code",
   "execution_count": null,
   "metadata": {
    "colab": {
     "base_uri": "https://localhost:8080/"
    },
    "executionInfo": {
     "elapsed": 10737,
     "status": "ok",
     "timestamp": 1654375546331,
     "user": {
      "displayName": "Sergey Stepanov",
      "userId": "11972621437342649150"
     },
     "user_tz": -180
    },
    "id": "KaCpUTeKUER5",
    "outputId": "f00741c1-6812-4394-dfd6-02c41809b54a"
   },
   "outputs": [],
   "source": [
    "nH = [32, 64]\n",
    "model = nn.Sequential(\n",
    "           nn.Linear(2, nH[0]),    \n",
    "           nn.ReLU(),      \n",
    "           nn.Linear(nH[0], nH[1]),  \n",
    "           nn.ReLU(),         \n",
    "           nn.Linear(nH[1], 3),  \n",
    "           )      \n",
    "model.to(gpu) \n",
    "print(gpu)"
   ]
  },
  {
   "cell_type": "code",
   "execution_count": null,
   "metadata": {
    "colab": {
     "base_uri": "https://localhost:8080/"
    },
    "executionInfo": {
     "elapsed": 248,
     "status": "ok",
     "timestamp": 1654376379578,
     "user": {
      "displayName": "Sergey Stepanov",
      "userId": "11972621437342649150"
     },
     "user_tz": -180
    },
    "id": "VJ2r6xSNUaMx",
    "outputId": "bf574277-4265-498f-f07f-9bbe6f716526"
   },
   "outputs": [],
   "source": [
    "loss      = nn.CrossEntropyLoss()\n",
    "optimizer = torch.optim.SGD(model.parameters(),   lr=0.1, momentum=0.8) \n",
    "#optimizer = torch.optim.Adam(model.parameters(), lr=0.1 )\n",
    "\n",
    "gpu = torch.device(\"cuda:0\" if torch.cuda.is_available() else \"cpu\")\n",
    "\n",
    "X = X.to(gpu)\n",
    "Y = Y.to(gpu)\n",
    "\n",
    "print(X.shape, Y.shape)\n",
    "print(X.device, Y.device)"
   ]
  },
  {
   "cell_type": "code",
   "execution_count": null,
   "metadata": {
    "id": "XxQvGp9fU9sz"
   },
   "outputs": [],
   "source": [
    "def fit(model, X,Y, batch_size=1000, train=True):          \n",
    "      model.train(train)                                 \n",
    "      sumL, sumA, numB = 0, 0, int( len(X)/batch_size )  \n",
    "       \n",
    "      idx = torch.randperm( len(X) ).to(gpu)             \n",
    "      X, Y = X[idx], Y[idx]      \n",
    "\n",
    "      for i in range(0, numB*batch_size, batch_size):          \n",
    "          xb = X[i: i+batch_size]                        \n",
    "          yb = Y[i: i+batch_size]                        \n",
    "              \n",
    "          y = model(xb)                                  \n",
    "          L = loss(y, yb)                                \n",
    "  \n",
    "          if train:                                      \n",
    "              optimizer.zero_grad()                      \n",
    "              L.backward()                               \n",
    "              optimizer.step()                           \n",
    "                                     \n",
    "          sumL += L.detach().item()                       \n",
    "          a = torch.argmax( torch.softmax(y.detach(), 1), 1 )\n",
    "          sumA += (a == yb).float().mean()                \n",
    "         \n",
    "      return sumL/numB,  sumA/numB                        "
   ]
  },
  {
   "cell_type": "code",
   "execution_count": null,
   "metadata": {
    "colab": {
     "base_uri": "https://localhost:8080/",
     "height": 658
    },
    "executionInfo": {
     "elapsed": 955393,
     "status": "error",
     "timestamp": 1654377338314,
     "user": {
      "displayName": "Sergey Stepanov",
      "userId": "11972621437342649150"
     },
     "user_tz": -180
    },
    "id": "kGqGfADQVORw",
    "outputId": "fde0a1b2-b8a2-4a76-eb5e-c975ef967541"
   },
   "outputs": [],
   "source": [
    "import time\n",
    "model.to(gpu)\n",
    "print( \"before:      loss: %.3e accuracy: %.4f\" %  fit(model, X,Y, train=False) )\n",
    " \n",
    "beg = time.process_time()\n",
    "epochs = 1000                                             \n",
    "for epoch in range(epochs):                               \n",
    "    L,A = fit(model, X, Y, batch_size=1000)               \n",
    "      \n",
    "    if (epoch and epoch % 10 == 0) or epoch == epochs-1:  \n",
    "        print(f\"epoch: {epoch:5d} loss: {L:.3e} accuracy: {A:.4f}   {time.process_time()-beg:.2f}s\")   \n",
    "        beg = time.process_time()"
   ]
  },
  {
   "cell_type": "code",
   "execution_count": null,
   "metadata": {
    "colab": {
     "base_uri": "https://localhost:8080/"
    },
    "executionInfo": {
     "elapsed": 15989,
     "status": "ok",
     "timestamp": 1654376276042,
     "user": {
      "displayName": "Sergey Stepanov",
      "userId": "11972621437342649150"
     },
     "user_tz": -180
    },
    "id": "QxLu8jGmq6lA",
    "outputId": "60c35ccd-8c57-4046-89fe-88d34f57c264"
   },
   "outputs": [],
   "source": [
    "def table(model, bins = (101, 101)):    \n",
    "    pi = np.empty(bins)\n",
    "    step = (solver.env.high-solver.env.low)/bins\n",
    "    X = torch.empty((bins[0]*bins[1], 2), dtype=torch.float32)\n",
    "    i = 0\n",
    "    for ix in range(bins[0]):\n",
    "        for iv in range(bins[1]):\n",
    "            X[i] = torch.tensor(solver.env.low + (ix, iv)*step, dtype=torch.float32)\n",
    "            i += 1\n",
    "\n",
    "    print(\"model calc\")\n",
    "    with torch.no_grad():\n",
    "        Y = model(torch.tensor(X, dtype=torch.float32))\n",
    "        A = torch.argmax( torch.softmax(Y.detach(), 1), 1 )\n",
    "    print(\"X:\", X.shape, \"Y:\", Y.shape, \"A:\", A.shape)\n",
    "    \n",
    "    i, cnt = 0, 0\n",
    "    for ix in range(bins[0]):\n",
    "        for iv in range(bins[1]):            \n",
    "            #probs = torch.softmax(Y[i], 0).numpy()     \n",
    "            #pi[ix, iv] = np.random.choice([0,1,2], p=probs)  \n",
    "            pi[ix, iv] = A[i]\n",
    "            i += 1\n",
    "\n",
    "        print(f\"\\rPolicy : {ix*100./bins[0]:3.0f}%\", end=\"\")\n",
    "    return pi\n",
    "\n",
    "\n",
    "pi = table(model.cpu(), (1001, 1001))"
   ]
  },
  {
   "cell_type": "code",
   "execution_count": null,
   "metadata": {
    "colab": {
     "base_uri": "https://localhost:8080/",
     "height": 930
    },
    "executionInfo": {
     "elapsed": 720,
     "status": "ok",
     "timestamp": 1654376281532,
     "user": {
      "displayName": "Sergey Stepanov",
      "userId": "11972621437342649150"
     },
     "user_tz": -180
    },
    "id": "uzDNv0gp-LL0",
    "outputId": "b672c03a-ed05-49e0-bd5b-b84b4c3dd04e"
   },
   "outputs": [],
   "source": [
    "plot(pi, 'Policy function', d_ticks=100, bins = (1001, 1001))"
   ]
  },
  {
   "cell_type": "code",
   "execution_count": null,
   "metadata": {
    "colab": {
     "base_uri": "https://localhost:8080/",
     "height": 372
    },
    "executionInfo": {
     "elapsed": 36297,
     "status": "error",
     "timestamp": 1654330808573,
     "user": {
      "displayName": "Sergey Stepanov",
      "userId": "11972621437342649150"
     },
     "user_tz": -180
    },
    "id": "CrRf6AAsLRlT",
    "outputId": "7ad39283-4f50-47cf-aafe-2babb5940f66"
   },
   "outputs": [],
   "source": [
    "def test(model, episodes = 10000, ticks=200, level = 0.05):\n",
    "    env = gym.make(\"MountainCar-v0\")\n",
    "    rews = []\n",
    "    for episode in range(episodes):\n",
    "        obs =  env.reset()\n",
    "        tot = 0\n",
    "        for _ in range(ticks):\n",
    "            with torch.no_grad():\n",
    "                y = model(torch.tensor(obs, dtype=torch.float32))\n",
    "                a = torch.argmax( torch.softmax(y, 0), 0 )\n",
    "            action = a.item()\n",
    "\n",
    "            obs, rew, done, _ = env.step(action)\n",
    "            tot += rew\n",
    "\n",
    "            if done:\n",
    "                break\n",
    "\n",
    "        rews.append(tot)\n",
    "        if episode and episode % 100 == 0:\n",
    "            mean, std = np.mean(rews), np.std(rews)\n",
    "            print(f\"\\r{episode:5d}:  Reward: {mean:7.2f} ± {std/len(rews)**0.5:.1f}, std: {std:.0f}, min: {np.min(rews):.0f}  max: {np.max(rews):.0f}\", end=\"\")  \n",
    "\n",
    "    mean, std = np.mean(rews), np.std(rews)\n",
    "    print(f\"\\r{episode:5d}:  Reward: {mean:7.2f} ± {std/len(rews)**0.5:.1f}, std: {std:.0f}, min: {np.min(rews):.0f}  max: {np.max(rews):.0f}\")  \n",
    "            \n",
    "    \n",
    "test(model, level = 0.05)"
   ]
  },
  {
   "cell_type": "code",
   "execution_count": null,
   "metadata": {
    "id": "x87PkOvwys9E"
   },
   "outputs": [],
   "source": [
    "import datetime\n",
    "  \n",
    "state = {'info':      \"MountainCar\",            # описание\n",
    "         'date':      datetime.datetime.now(),   # дата и время\n",
    "         'model' :    model.state_dict(),        # параметры модели\n",
    "         'optimizer': optimizer.state_dict()}    # состояние оптимизатора\n",
    " \n",
    "torch.save(state, 'MountainCar_16_32_soft.9980.99.pt')                    # сохраняем файл"
   ]
  }
 ],
 "metadata": {
  "accelerator": "GPU",
  "colab": {
   "authorship_tag": "ABX9TyOyGWMPaQF6awvPPhmsY9JG",
   "collapsed_sections": [],
   "name": "MountainCar-Solution_Softmax.ipynb",
   "provenance": []
  },
  "kernelspec": {
   "display_name": "Python 3 (ipykernel)",
   "language": "python",
   "name": "python3"
  },
  "language_info": {
   "codemirror_mode": {
    "name": "ipython",
    "version": 3
   },
   "file_extension": ".py",
   "mimetype": "text/x-python",
   "name": "python",
   "nbconvert_exporter": "python",
   "pygments_lexer": "ipython3",
   "version": "3.8.10"
  }
 },
 "nbformat": 4,
 "nbformat_minor": 1
}
