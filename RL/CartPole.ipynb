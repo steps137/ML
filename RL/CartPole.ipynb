{
 "cells": [
  {
   "cell_type": "markdown",
   "id": "4283c800",
   "metadata": {},
   "source": [
    "# CartPole\n",
    "\n",
    "Exploring the `CartPole-v0` environment from the Open Gym \n",
    "\n",
    "## Import libraries and create an environment"
   ]
  },
  {
   "cell_type": "code",
   "execution_count": 1,
   "id": "d4d165f7",
   "metadata": {},
   "outputs": [],
   "source": [
    "import numpy as np\n",
    "import matplotlib.pyplot as plt\n",
    "\n",
    "import gym                                      # OpenAI Gym library\n",
    "env = gym.make('CartPole-v1')                   # create an environment"
   ]
  },
  {
   "cell_type": "markdown",
   "id": "3a8a1ee5",
   "metadata": {},
   "source": [
    "## Show initial state\n",
    "\n",
    "- On Windows, the render window will pop up on top of the browser only if it is not maximized to full screen (slightly **reduce the browser window**). \n",
    "- You can close the render window only by executing the command `env.close()`."
   ]
  },
  {
   "cell_type": "code",
   "execution_count": 2,
   "id": "46416a4f",
   "metadata": {},
   "outputs": [
    {
     "name": "stdout",
     "output_type": "stream",
     "text": [
      "obs: [ 0.01960899  0.03754954  0.00264055 -0.03101713]\n"
     ]
    },
    {
     "name": "stderr",
     "output_type": "stream",
     "text": [
      "c:\\users\\admin\\appdata\\local\\programs\\python\\python38\\lib\\site-packages\\pyglet\\image\\codecs\\wic.py:406: UserWarning: [WinError -2147417850] Изменение режима для потока после его установки невозможно\n",
      "  warnings.warn(str(err))\n"
     ]
    },
    {
     "data": {
      "text/plain": [
       "<matplotlib.image.AxesImage at 0x1d934ceb9a0>"
      ]
     },
     "execution_count": 2,
     "metadata": {},
     "output_type": "execute_result"
    },
    {
     "data": {
      "image/png": "[encoded data removed]",
      "text/plain": [
       "<Figure size 432x288 with 1 Axes>"
      ]
     },
     "metadata": {
      "needs_background": "light"
     },
     "output_type": "display_data"
    }
   ],
   "source": [
    "obs = env.reset()                               # initial observation on the system\n",
    "\n",
    "print('obs:', obs) \n",
    "plt.imshow(env.render('rgb_array'))             # render the environment as image "
   ]
  },
  {
   "cell_type": "code",
   "execution_count": null,
   "id": "55161be1",
   "metadata": {},
   "outputs": [],
   "source": [
    "env.close()                                       # сlose render window"
   ]
  },
  {
   "cell_type": "markdown",
   "id": "4b460352",
   "metadata": {},
   "source": [
    "## Environment properties"
   ]
  },
  {
   "cell_type": "code",
   "execution_count": 3,
   "id": "c4229614",
   "metadata": {},
   "outputs": [
    {
     "name": "stdout",
     "output_type": "stream",
     "text": [
      "space:  (4,) float32\n",
      "low:    [-4.8000002e+00 -3.4028235e+38 -4.1887903e-01 -3.4028235e+38]\n",
      "high:   [4.8000002e+00 3.4028235e+38 4.1887903e-01 3.4028235e+38]\n",
      "actions: 2 int64\n"
     ]
    }
   ],
   "source": [
    "space = env.observation_space                     # observation space\n",
    "print(\"space: \", space.shape, space.dtype)        # space dimension and type\n",
    "print(\"low:   \", space.low)                       # minimum values\n",
    "print(\"high:  \", space.high)                      # maximum values\n",
    "\n",
    "actions = env.action_space                        # action space\n",
    "print(\"actions:\", actions.n, actions.dtype)       # number of actions, type"
   ]
  },
  {
   "cell_type": "markdown",
   "id": "e40747c4",
   "metadata": {},
   "source": [
    "In fact, the components of observation vary within much narrower limits (except for the coordinate):"
   ]
  },
  {
   "cell_type": "code",
   "execution_count": 22,
   "id": "fd2d5a15",
   "metadata": {},
   "outputs": [
    {
     "name": "stdout",
     "output_type": "stream",
     "text": [
      "mean: [-0.02168871 -0.02043564 -0.00153303 -0.00068551]\n",
      "std : [0.9111451  0.84331405 0.05745436 0.16886307]\n"
     ]
    }
   ],
   "source": [
    "stat = []\n",
    "for episode in range(1000):\n",
    "    s = env.reset()  \n",
    "    stat.append(s)\n",
    "    for _ in range(1000):\n",
    "        a = int(s[3] > 0)  \n",
    "        #a = env.action_space.sample()\n",
    "        s,r,done,_ = env.step(a)\n",
    "        stat.append(s)\n",
    "        if done:\n",
    "            break\n",
    "stat = np.array(stat)\n",
    "print(\"mean:\", stat.mean(0))\n",
    "print(\"std :\", stat.std(0))"
   ]
  },
  {
   "cell_type": "markdown",
   "id": "b0edd21c",
   "metadata": {},
   "source": [
    "## Reward Statistics"
   ]
  },
  {
   "cell_type": "code",
   "execution_count": 34,
   "id": "afa74ce9",
   "metadata": {},
   "outputs": [],
   "source": [
    "def policy(s):\n",
    "    #return int( s[0]+s[1]+3*s[2]+s[3] > 0)       # best solution                 \n",
    "    #return int(s[3] > 0)                         # rew = 198.4 [126...354] std = 41   \n",
    "    return int(s[2] > 0)                          # rew =  42.2 [ 24... 72] std =  9\n",
    "\n",
    "def run(ticks = 500):\n",
    "    tot_rew = 0                                   # total reward    \n",
    "    state = env.reset()                           # start state\n",
    "    for t in range(1,ticks+1):       \n",
    "        action = policy(state)                    # select action\n",
    "        state, rew, done, _ = env.step(action)    # get inforamtion    \n",
    "        tot_rew += rew         \n",
    "        if done:                                  # end of episode\n",
    "            break\n",
    "            \n",
    "    return tot_rew                                \n",
    "\n",
    "def statistics(episodes = 1000, ticks = 500):\n",
    "    rews = np.empty(episodes)                      # rewards in each episode \n",
    "    \n",
    "    for episode in range(episodes):                \n",
    "        rews[episode] = run()\n",
    "        \n",
    "    mean, std = rews.mean(), rews.std()            \n",
    "    print(f\"rew = {mean:.1f} ± {std/len(rews)**0.5 : .0f} [{rews.min():.0f}...{rews.max():.0f}] std = {std:.0f}\")\n",
    "    \n",
    "    return mean, std                               "
   ]
  },
  {
   "cell_type": "code",
   "execution_count": 35,
   "id": "4545d542",
   "metadata": {},
   "outputs": [
    {
     "name": "stdout",
     "output_type": "stream",
     "text": [
      "rew = 42.2 ±  0 [24...72] std = 9\n"
     ]
    },
    {
     "data": {
      "text/plain": [
       "(42.1813, 8.781721375106363)"
      ]
     },
     "execution_count": 35,
     "metadata": {},
     "output_type": "execute_result"
    }
   ],
   "source": [
    "statistics(episodes=10000, ticks=500)"
   ]
  },
  {
   "cell_type": "markdown",
   "id": "b6cc8a90",
   "metadata": {},
   "source": [
    "## Save Video"
   ]
  },
  {
   "cell_type": "code",
   "execution_count": 39,
   "id": "4d41fa21",
   "metadata": {},
   "outputs": [
    {
     "name": "stderr",
     "output_type": "stream",
     "text": [
      "IMAGEIO FFMPEG_WRITER WARNING: input image is not divisible by macro_block_size=16, resizing from (600, 400) to (608, 400) to ensure video compatibility with most codecs and players. To prevent resizing, make your input image divisible by the macro_block_size or set the macro_block_size to 1 (risking incompatibility).\n"
     ]
    }
   ],
   "source": [
    "from PIL import Image, ImageDraw, ImageFont\n",
    "import imageio\n",
    "\n",
    "def render_frame(frame, text: str):\n",
    "    \"\"\"\n",
    "    Get frame with overwritten text:\n",
    "    \"\"\"\n",
    "    im = Image.fromarray(frame)\n",
    "    if text:        \n",
    "        drawer = ImageDraw.Draw(im)    \n",
    "        text_color = (255,255,255) if np.mean(im) < 128 else (0,0,0)\n",
    "        font = ImageFont.truetype(\"verdana.ttf\", 18)\n",
    "        drawer.text((10, 10), text, fill=text_color, font=font)        \n",
    "        font = ImageFont.truetype(\"verdana.ttf\", 14)\n",
    "        drawer.text((im.size[0]-100,im.size[1]-20), \"QuData.com\", fill=text_color, font=font)\n",
    "    return im\n",
    "\n",
    "\n",
    "frames, last = [], 0\n",
    "for episode in range(1, 11):\n",
    "    rew, wait = 0, 0\n",
    "    s = env.reset()                        \n",
    "    for t in range(1, 5001):       \n",
    "        a = policy(s)                 \n",
    "        s, r, done, _ = env.step(a) \n",
    "        rew += r\n",
    "        \n",
    "        if done:\n",
    "            last = rew\n",
    "\n",
    "        frame = env.render(mode='rgb_array') \n",
    "        frame = render_frame(frame, f\"a=int(s[2]>0) Episode:{episode:2d}, t:{t:5d}, <reward>=42.2 [24... 72]\")\n",
    "        frames.append(frame)\n",
    "    \n",
    "        if done:    \n",
    "            wait += 1\n",
    "            if wait > 100:\n",
    "                break                \n",
    "\n",
    "imageio.mimwrite(\"render.mp4\", frames, fps=60)            \n",
    "env.close()"
   ]
  }
 ],
 "metadata": {
  "kernelspec": {
   "display_name": "Python 3 (ipykernel)",
   "language": "python",
   "name": "python3"
  },
  "language_info": {
   "codemirror_mode": {
    "name": "ipython",
    "version": 3
   },
   "file_extension": ".py",
   "mimetype": "text/x-python",
   "name": "python",
   "nbconvert_exporter": "python",
   "pygments_lexer": "ipython3",
   "version": "3.8.10"
  }
 },
 "nbformat": 4,
 "nbformat_minor": 5
}
