{
 "cells": [
  {
   "cell_type": "code",
   "execution_count": 20,
   "id": "2ff0ca95",
   "metadata": {},
   "outputs": [
    {
     "name": "stdout",
     "output_type": "stream",
     "text": [
      "Requirement already satisfied: pygame in c:\\users\\admin\\appdata\\local\\programs\\python\\python38\\lib\\site-packages (2.1.0)\n"
     ]
    },
    {
     "name": "stderr",
     "output_type": "stream",
     "text": [
      "WARNING: You are using pip version 22.0.3; however, version 22.1.2 is available.\n",
      "You should consider upgrading via the 'c:\\users\\admin\\appdata\\local\\programs\\python\\python38\\python.exe -m pip install --upgrade pip' command.\n"
     ]
    }
   ],
   "source": [
    "!pip install pygame"
   ]
  },
  {
   "cell_type": "code",
   "execution_count": 1,
   "id": "83f65721",
   "metadata": {},
   "outputs": [
    {
     "name": "stdout",
     "output_type": "stream",
     "text": [
      "pygame 2.1.0 (SDL 2.0.16, Python 3.8.10)\n",
      "Hello from the pygame community. https://www.pygame.org/contribute.html\n"
     ]
    }
   ],
   "source": [
    "import numpy as np\n",
    "import matplotlib.pyplot as plt\n",
    "\n",
    "from qugames import snake"
   ]
  },
  {
   "cell_type": "code",
   "execution_count": 2,
   "id": "0d3ef8b5",
   "metadata": {},
   "outputs": [
    {
     "name": "stdout",
     "output_type": "stream",
     "text": [
      "(128, 128, 3)\n",
      "5 0 4\n",
      "(128, 128, 3)\n"
     ]
    },
    {
     "data": {
      "image/png": "[encoded data removed]",
      "text/plain": [
       "<Figure size 432x288 with 1 Axes>"
      ]
     },
     "metadata": {
      "needs_background": "light"
     },
     "output_type": "display_data"
    },
    {
     "name": "stdout",
     "output_type": "stream",
     "text": [
      "0 0\n"
     ]
    },
    {
     "data": {
      "image/png": "[encoded data removed]",
      "text/plain": [
       "<Figure size 432x288 with 1 Axes>"
      ]
     },
     "metadata": {
      "needs_background": "light"
     },
     "output_type": "display_data"
    },
    {
     "name": "stdout",
     "output_type": "stream",
     "text": [
      "[[[255 255 255]\n",
      "  [255 255 255]\n",
      "  [255 255 255]\n",
      "  ...\n",
      "  [255 255 255]\n",
      "  [255 255 255]\n",
      "  [255 255 255]]\n",
      "\n",
      " [[255 255 255]\n",
      "  [255 255 255]\n",
      "  [255 255 255]\n",
      "  ...\n",
      "  [255 255 255]\n",
      "  [255 255 255]\n",
      "  [255 255 255]]\n",
      "\n",
      " [[255 255 255]\n",
      "  [255 255 255]\n",
      "  [255 255 255]\n",
      "  ...\n",
      "  [255 255 255]\n",
      "  [255 255 255]\n",
      "  [255 255 255]]\n",
      "\n",
      " ...\n",
      "\n",
      " [[255 255 255]\n",
      "  [255 255 255]\n",
      "  [255 255 255]\n",
      "  ...\n",
      "  [255 255 255]\n",
      "  [255 255 255]\n",
      "  [255 255 255]]\n",
      "\n",
      " [[255 255 255]\n",
      "  [255 255 255]\n",
      "  [255 255 255]\n",
      "  ...\n",
      "  [255 255 255]\n",
      "  [255 255 255]\n",
      "  [255 255 255]]\n",
      "\n",
      " [[255 255 255]\n",
      "  [255 255 255]\n",
      "  [255 255 255]\n",
      "  ...\n",
      "  [255 255 255]\n",
      "  [255 255 255]\n",
      "  [255 255 255]]]\n"
     ]
    }
   ],
   "source": [
    "env = snake.Snake()\n",
    "print(env.observation_space.shape)\n",
    "print(env.action_space.n, env.action_space.low, env.action_space.high)\n",
    "\n",
    "s = env.reset()\n",
    "print(s.shape)\n",
    "\n",
    "plt.imshow(s)\n",
    "plt.show()\n",
    "\n",
    "s, r, done, _ = env.step(0)\n",
    "print(r, done)\n",
    "plt.imshow(s)\n",
    "plt.show()\n",
    "\n",
    "print(s)"
   ]
  },
  {
   "cell_type": "code",
   "execution_count": 4,
   "id": "ab7c48a3",
   "metadata": {},
   "outputs": [
    {
     "name": "stdout",
     "output_type": "stream",
     "text": [
      "-100 ± 1  (-100, -90)\n",
      "4 ± 4  (1, 22)\n"
     ]
    }
   ],
   "source": [
    "def policy(s):\n",
    "    return env.action_space.sample()\n",
    "    \n",
    "def run_episode(ticks=1000):    \n",
    "    rew = 0\n",
    "    s = env.reset()\n",
    "    for t in range(1, ticks+1):\n",
    "        a = policy(s)\n",
    "        s, r, done, _ = env.step(a)       \n",
    "        rew += r\n",
    "        if done:\n",
    "            break\n",
    "    return rew, t\n",
    "        \n",
    "rews, lens = [], []\n",
    "for _ in range(1000):\n",
    "    r,l = run_episode()    \n",
    "    rews.append(r)\n",
    "    lens.append(l)\n",
    "\n",
    "print(f\"{np.mean(rews):.0f} ± {np.std(rews):.0f}  ({np.min(rews)}, {np.max(rews)})\")\n",
    "print(f\"{np.mean(lens):.0f} ± {np.std(lens):.0f}  ({np.min(lens)}, {np.max(lens)})\")\n"
   ]
  },
  {
   "cell_type": "code",
   "execution_count": 3,
   "id": "f1c07b48",
   "metadata": {},
   "outputs": [
    {
     "name": "stdout",
     "output_type": "stream",
     "text": [
      "AgentModel(\n",
      "  (model): Sequential(\n",
      "    (0): Conv2d(6, 2, kernel_size=(8, 8), stride=(8, 8))\n",
      "    (1): ReLU()\n",
      "    (2): Conv2d(2, 48, kernel_size=(3, 3), stride=(1, 1), padding=(1, 1))\n",
      "    (3): ReLU()\n",
      "    (4): MaxPool2d(kernel_size=2, stride=2, padding=0, dilation=1, ceil_mode=False)\n",
      "    (5): Dropout(p=0.2, inplace=False)\n",
      "    (6): Conv2d(48, 92, kernel_size=(3, 3), stride=(1, 1), padding=(1, 1))\n",
      "    (7): ReLU()\n",
      "    (8): MaxPool2d(kernel_size=2, stride=2, padding=0, dilation=1, ceil_mode=False)\n",
      "    (9): Dropout(p=0.2, inplace=False)\n",
      "    (10): Flatten(start_dim=1, end_dim=-1)\n",
      "    (11): Linear(in_features=1472, out_features=256, bias=True)\n",
      "    (12): ReLU()\n",
      "    (13): Linear(in_features=256, out_features=5, bias=True)\n",
      "  )\n",
      ")\n"
     ]
    }
   ],
   "source": [
    "import torch\n",
    "import torch.nn as nn\n",
    "\n",
    "#========================================================================================\n",
    "\n",
    "class AgentModel(nn.Module):\n",
    "    \"\"\" Neural network for Q(s,a) \"\"\"\n",
    "    def __init__(self, state_shape, nA = 5, \n",
    "                 channels=[12,24,64], kernels = [8,3,3], strides = [8,1,1], paddings = [0,1,1],\n",
    "                 pools=[2,2,2], dropout=0.2,  hidden = 128):\n",
    "        \"\"\"\n",
    "        state_shape = (3 * n_frames, image_width, image_height)\n",
    "        nA - number of state (Snake = 5)\n",
    "        \"\"\"\n",
    "        super(AgentModel, self).__init__()\n",
    "                \n",
    "        channels = [ state_shape[0] ] + channels;  conv_kernels = kernels      \n",
    "        w, h     =  state_shape[1], state_shape[2]\n",
    "        layers = []\n",
    "        for i in range(len(channels)-1):\n",
    "            layers +=  [ \n",
    "                nn.Conv2d(channels[i], channels[i+1], kernel_size=kernels[i], stride=strides[i], padding=paddings[i]),\n",
    "                nn.ReLU()]\n",
    "            if pools[i] > 1:\n",
    "                layers += [\n",
    "                    nn.MaxPool2d(kernel_size=pools[i], stride=pools[i]),\n",
    "                    nn.Dropout(p=dropout) ]                            \n",
    "            w = (((w + 2*paddings[i] - kernels[i]) // strides[i] + 1) - pools[i]) // pools[i] + 1\n",
    "            h = (((h + 2*paddings[i] - kernels[i]) // strides[i] + 1) - pools[i]) // pools[i] + 1        \n",
    "            \n",
    "        self.features = channels[-1] * w * h\n",
    "        layers += [ \n",
    "            nn.Flatten(1),\n",
    "            nn.Linear(self.features, hidden),\n",
    "            nn.ReLU(),\n",
    "            nn.Linear(hidden, nA) ]                \n",
    "                \n",
    "        self.model = nn.Sequential(*layers)       \n",
    " \n",
    "    def forward(self, x):        \n",
    "        return self.model(x)        \n",
    "\n",
    "    \n",
    "config = {\n",
    "            'channels' : [2,48,92],       # conv channles\n",
    "            'kernels'  : [8,3,3],         # conv kernels\n",
    "            'strides'  : [8,1,1],         # conv strides\n",
    "            'paddings' : [0,1,1],         # conv paddings\n",
    "            'pools'    : [1,2,2],         # = pool_strides\n",
    "            'dropout'  : 0.2,             # after cnn,reLU,pool \n",
    "            'hidden'   : 256,             # hidden layers                \n",
    "}\n",
    "device = torch.device(\"cuda:0\" if torch.cuda.is_available() else \"cpu\")    \n",
    "state_shape = (6,128,128)\n",
    "model = AgentModel(state_shape, 5,\n",
    "                  channels=config['channels'], kernels = config['kernels'], paddings = config['paddings'],\n",
    "                  pools = config['pools'], dropout=config['dropout'], hidden  = config['hidden']).to(device)     \n",
    "\n",
    "\n",
    "state = torch.load('models/best_e2_r130__Snake.pt') \n",
    "\n",
    "print((state['model']))\n",
    "model.load_state_dict(state['state'])\n",
    "\n",
    "\n",
    "def policy(state):\n",
    "    state = torch.tensor(state)\n",
    "    x = state.unsqueeze(dim=0).to(device)\n",
    "    with torch.no_grad():\n",
    "        y = model(x).detach().to('cpu').numpy() \n",
    "    return np.argmax(y)                     "
   ]
  },
  {
   "cell_type": "code",
   "execution_count": 12,
   "id": "24a3586a",
   "metadata": {},
   "outputs": [
    {
     "name": "stderr",
     "output_type": "stream",
     "text": [
      "C:\\Users\\Admin\\AppData\\Local\\Temp\\ipykernel_2692\\1377307983.py:67: UserWarning: To copy construct from a tensor, it is recommended to use sourceTensor.clone().detach() or sourceTensor.clone().detach().requires_grad_(True), rather than torch.tensor(sourceTensor).\n",
      "  state = torch.tensor(state)\n"
     ]
    },
    {
     "name": "stdout",
     "output_type": "stream",
     "text": [
      "128\n",
      "done\n"
     ]
    }
   ],
   "source": [
    "from PIL import Image, ImageDraw, ImageFont\n",
    "import imageio\n",
    "\n",
    "def render_frame(frame, text: str):\n",
    "    \"\"\"\n",
    "    Get frame with overwritten text:\n",
    "    \"\"\"\n",
    "    #canvas = np.full((256,256,3), 128).astype(int)\n",
    "    #canvas[0:128, 0:128] = frame[:,:]\n",
    "    canvas = frame\n",
    "    im = Image.fromarray(canvas, mode=\"RGB\")\n",
    "    if text:        \n",
    "        drawer = ImageDraw.Draw(im)    \n",
    "        text_color = (255,255,255) if np.mean(im) < 128 else (0,0,0)\n",
    "        font = ImageFont.truetype(\"verdana.ttf\", 8)\n",
    "        drawer.text((0, 0), text, fill=text_color, font=font)             \n",
    "        #font = ImageFont.truetype(\"verdana.ttf\", 8)\n",
    "        #drawer.text((im.size[0]-100,im.size[1]-20), \"QuData.com\", fill=(0,255,0), font=font)\n",
    "    return im\n",
    "\n",
    "def set_state(s1,s2):\n",
    "    s1 = torch.tensor(s1, dtype=torch.float32).permute(2, 0, 1)/255.\n",
    "    s2 = torch.tensor(s2, dtype=torch.float32).permute(2, 0, 1)/255.\n",
    "    return torch.cat([s1,s2],0)\n",
    "\n",
    "\n",
    "frames, last = [], 0\n",
    "for episode in range(1, 11):\n",
    "    rew, wait = 0, 0    \n",
    "    \n",
    "    oi = env.reset()                    # initial state        \n",
    "    o0, _, _, _ = env.step(0)           # nothing do\n",
    "    s0 = set_state(oi,o0)\n",
    "    a0 = policy(s0)                     # get action            \n",
    "    \n",
    "    for t in range(1, 1001):       \n",
    "        o1, r1, done, _ = env.step(a0)            \n",
    "        s1 = set_state(o0,o1)\n",
    "        a1 = policy(s1)        \n",
    "        rew += r1            \n",
    "        \n",
    "        frame = render_frame(o1, f\"{episode:2d}:{t:3d}({rew})\")\n",
    "        frames.append(frame)\n",
    "        if episode == 1 and t == 1:\n",
    "            print(frame.width)\n",
    "        \n",
    "    \n",
    "        if done:  \n",
    "            for i in range(5):\n",
    "                frames.append(frame)\n",
    "            break       \n",
    "            \n",
    "        s0, a0, o0 = s1, a1, o1\n",
    "\n",
    "imageio.mimwrite(\"render.mp4\", frames, fps=10)            \n",
    "env.close()\n",
    "print(\"done\")"
   ]
  },
  {
   "cell_type": "code",
   "execution_count": 13,
   "id": "524ee981",
   "metadata": {},
   "outputs": [
    {
     "data": {
      "text/plain": [
       "10.0"
      ]
     },
     "execution_count": 13,
     "metadata": {},
     "output_type": "execute_result"
    }
   ],
   "source": [
    "(10000/100)**0.5"
   ]
  }
 ],
 "metadata": {
  "kernelspec": {
   "display_name": "Python 3 (ipykernel)",
   "language": "python",
   "name": "python3"
  },
  "language_info": {
   "codemirror_mode": {
    "name": "ipython",
    "version": 3
   },
   "file_extension": ".py",
   "mimetype": "text/x-python",
   "name": "python",
   "nbconvert_exporter": "python",
   "pygments_lexer": "ipython3",
   "version": "3.8.10"
  }
 },
 "nbformat": 4,
 "nbformat_minor": 5
}
