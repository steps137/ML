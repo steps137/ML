{
 "cells": [
  {
   "cell_type": "markdown",
   "id": "cdb193d4",
   "metadata": {},
   "source": [
    "# Интерфейсные элементы в нотбуке\n",
    "\n",
    "## Слайдеры"
   ]
  },
  {
   "cell_type": "code",
   "execution_count": 9,
   "id": "fe20bf3f",
   "metadata": {},
   "outputs": [
    {
     "data": {
      "application/vnd.jupyter.widget-view+json": {
       "model_id": "2fcc88ae80a941108e790ed3e050243f",
       "version_major": 2,
       "version_minor": 0
      },
      "text/plain": [
       "interactive(children=(IntSlider(value=20, description='T', max=50, min=5), IntSlider(value=50, description='a'…"
      ]
     },
     "metadata": {},
     "output_type": "display_data"
    }
   ],
   "source": [
    "import numpy as np\n",
    "import matplotlib.pyplot as plt\n",
    "from ipywidgets import IntSlider, interact\n",
    "\n",
    "def fun(T, a):    \n",
    "    plt.plot( a*np.sin(2*np.pi * np.arange(0, 100) / T) )\n",
    "    plt.ylim(-100,100); plt.grid()\n",
    "    plt.show()\n",
    "\n",
    "interact(fun, T=IntSlider(value=20, min=5, max=50), a=IntSlider(value=50, min=1) );"
   ]
  },
  {
   "cell_type": "markdown",
   "id": "c8ddac37",
   "metadata": {},
   "source": [
    "## Лейауты слайдеров"
   ]
  },
  {
   "cell_type": "code",
   "execution_count": 75,
   "id": "87db3ae6",
   "metadata": {},
   "outputs": [
    {
     "data": {
      "application/vnd.jupyter.widget-view+json": {
       "model_id": "bca5a79aec6a4fc4a733fab7b2cc1af5",
       "version_major": 2,
       "version_minor": 0
      },
      "text/plain": [
       "VBox(children=(Output(), HBox(children=(FloatSlider(value=10.0, description='$\\\\alpha$'), IntSlider(value=10),…"
      ]
     },
     "metadata": {},
     "output_type": "display_data"
    }
   ],
   "source": [
    "from ipywidgets import FloatSlider, HBox, VBox,interactive_output, Layout\n",
    "\n",
    "w1, w2, w3, w4 = FloatSlider(value=10, description=r\"$\\alpha$\"), IntSlider(value=10), IntSlider(value=10), IntSlider(value=10)\n",
    "\n",
    "def fun(a1=10,T1=10, a2=10,T2=10):    \n",
    "    x = np.arange(0, 100)\n",
    "    plt.plot( a1*np.sin(2*np.pi * x / T1) + a2*np.sin(2*np.pi * x / T2) )\n",
    "    plt.ylim(-100,100); plt.grid()\n",
    "    plt.show()\n",
    "    \n",
    "ui  = HBox([w1,w2,w3,w4], layout = Layout(flex_flow='row wrap'))\n",
    "out = interactive_output(fun, {'a1': w1, 'T1': w2, 'a2': w3, 'T2': w4})\n",
    "\n",
    "display(VBox([out, ui]))"
   ]
  },
  {
   "cell_type": "markdown",
   "id": "aedbba88",
   "metadata": {},
   "source": [
    "## Настройка виджитов"
   ]
  },
  {
   "cell_type": "code",
   "execution_count": 54,
   "id": "0caa88b9",
   "metadata": {},
   "outputs": [
    {
     "data": {
      "application/vnd.jupyter.widget-view+json": {
       "model_id": "ed85965fe07747a19acffd3ad5bca23c",
       "version_major": 2,
       "version_minor": 0
      },
      "text/plain": [
       "interactive(children=(IntSlider(value=7, continuous_update=False, description='$x^2$:', max=50, min=5, orienta…"
      ]
     },
     "metadata": {},
     "output_type": "display_data"
    }
   ],
   "source": [
    "w = IntSlider(\n",
    "    value=7, min=5, max=50,  step=1,\n",
    "    description=r'$x^2$:',\n",
    "    disabled=False,    \n",
    "    continuous_update=False,    # !!!\n",
    "    orientation='vertical',    readout=True,\n",
    "    readout_format='d'\n",
    ")\n",
    "def fun(T, a):\n",
    "    w.description = rf'${a}\\sin(2\\pi t/{T})$'\n",
    "    x = np.arange(0, 100)\n",
    "    plt.plot( a*np.sin(2*np.pi * x/T) )\n",
    "    plt.ylim(-100,100)\n",
    "    plt.show()\n",
    "\n",
    "\n",
    "interact(fun, T=w, a=IntSlider());"
   ]
  },
  {
   "cell_type": "markdown",
   "id": "743665f0",
   "metadata": {},
   "source": [
    "## Прогресс бар"
   ]
  },
  {
   "cell_type": "code",
   "execution_count": 78,
   "id": "85d8ae0c",
   "metadata": {},
   "outputs": [
    {
     "name": "stderr",
     "output_type": "stream",
     "text": [
      "100%|████████████████████████████████████████████████████████████████████████████████████████████████████████████████████████████████████████| 10/10 [00:00<?, ?it/s]\n"
     ]
    }
   ],
   "source": [
    "from  tqdm import tqdm\n",
    "\n",
    "s = 0\n",
    "for i in tqdm(range(10)):\n",
    "    s += i"
   ]
  },
  {
   "cell_type": "markdown",
   "id": "b606d084",
   "metadata": {},
   "source": [
    "## Показать в нотбуке линк на локальный файл"
   ]
  },
  {
   "cell_type": "code",
   "execution_count": null,
   "id": "d4921231",
   "metadata": {},
   "outputs": [],
   "source": [
    "from IPython.display import FileLink\n",
    "display(FileLink(r'graw-wave_025_360x128_trn.npz'))"
   ]
  }
 ],
 "metadata": {
  "kernelspec": {
   "display_name": "Python 3 (ipykernel)",
   "language": "python",
   "name": "python3"
  },
  "language_info": {
   "codemirror_mode": {
    "name": "ipython",
    "version": 3
   },
   "file_extension": ".py",
   "mimetype": "text/x-python",
   "name": "python",
   "nbconvert_exporter": "python",
   "pygments_lexer": "ipython3",
   "version": "3.8.10"
  }
 },
 "nbformat": 4,
 "nbformat_minor": 5
}
